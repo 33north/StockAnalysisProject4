{
 "cells": [
  {
   "cell_type": "code",
   "execution_count": 1,
   "metadata": {},
   "outputs": [],
   "source": [
    "#Importing the Libraries\n",
    "import pandas as pd\n",
    "\n",
    "from datetime import datetime\n",
    "\n",
    "import numpy as np\n",
    "%matplotlib inline\n",
    "import matplotlib.pyplot as plt\n",
    "import matplotlib\n",
    "from sklearn.preprocessing import MinMaxScaler\n",
    "import sklearn as skl\n",
    "\n",
    "from sklearn.model_selection import TimeSeriesSplit\n",
    "from sklearn.metrics import mean_squared_error, r2_score\n",
    "import matplotlib.dates as mandates\n",
    "from sklearn import linear_model\n",
    "%matplotlib inline\n"
   ]
  },
  {
   "cell_type": "code",
   "execution_count": 2,
   "metadata": {},
   "outputs": [
    {
     "data": {
      "text/html": [
       "<div>\n",
       "<style scoped>\n",
       "    .dataframe tbody tr th:only-of-type {\n",
       "        vertical-align: middle;\n",
       "    }\n",
       "\n",
       "    .dataframe tbody tr th {\n",
       "        vertical-align: top;\n",
       "    }\n",
       "\n",
       "    .dataframe thead th {\n",
       "        text-align: right;\n",
       "    }\n",
       "</style>\n",
       "<table border=\"1\" class=\"dataframe\">\n",
       "  <thead>\n",
       "    <tr style=\"text-align: right;\">\n",
       "      <th></th>\n",
       "      <th>Open</th>\n",
       "      <th>High</th>\n",
       "      <th>Low</th>\n",
       "      <th>Close</th>\n",
       "      <th>Adj Close</th>\n",
       "      <th>Volume</th>\n",
       "    </tr>\n",
       "    <tr>\n",
       "      <th>Date</th>\n",
       "      <th></th>\n",
       "      <th></th>\n",
       "      <th></th>\n",
       "      <th></th>\n",
       "      <th></th>\n",
       "      <th></th>\n",
       "    </tr>\n",
       "  </thead>\n",
       "  <tbody>\n",
       "    <tr>\n",
       "      <th>2022-05-18</th>\n",
       "      <td>35.619999</td>\n",
       "      <td>35.689999</td>\n",
       "      <td>34.599998</td>\n",
       "      <td>34.880001</td>\n",
       "      <td>34.880001</td>\n",
       "      <td>47396900</td>\n",
       "    </tr>\n",
       "    <tr>\n",
       "      <th>2022-05-17</th>\n",
       "      <td>35.619999</td>\n",
       "      <td>36.220001</td>\n",
       "      <td>35.430000</td>\n",
       "      <td>35.990002</td>\n",
       "      <td>35.990002</td>\n",
       "      <td>42635600</td>\n",
       "    </tr>\n",
       "    <tr>\n",
       "      <th>2022-05-16</th>\n",
       "      <td>35.000000</td>\n",
       "      <td>35.169998</td>\n",
       "      <td>34.410000</td>\n",
       "      <td>34.810001</td>\n",
       "      <td>34.810001</td>\n",
       "      <td>39076500</td>\n",
       "    </tr>\n",
       "    <tr>\n",
       "      <th>2022-05-13</th>\n",
       "      <td>35.529999</td>\n",
       "      <td>35.730000</td>\n",
       "      <td>34.759998</td>\n",
       "      <td>35.169998</td>\n",
       "      <td>35.169998</td>\n",
       "      <td>49069300</td>\n",
       "    </tr>\n",
       "    <tr>\n",
       "      <th>2022-05-12</th>\n",
       "      <td>35.009998</td>\n",
       "      <td>35.430000</td>\n",
       "      <td>34.259998</td>\n",
       "      <td>35.070000</td>\n",
       "      <td>35.070000</td>\n",
       "      <td>61231500</td>\n",
       "    </tr>\n",
       "    <tr>\n",
       "      <th>...</th>\n",
       "      <td>...</td>\n",
       "      <td>...</td>\n",
       "      <td>...</td>\n",
       "      <td>...</td>\n",
       "      <td>...</td>\n",
       "      <td>...</td>\n",
       "    </tr>\n",
       "    <tr>\n",
       "      <th>2017-01-09</th>\n",
       "      <td>22.510000</td>\n",
       "      <td>22.709999</td>\n",
       "      <td>22.400000</td>\n",
       "      <td>22.549999</td>\n",
       "      <td>20.265772</td>\n",
       "      <td>75901500</td>\n",
       "    </tr>\n",
       "    <tr>\n",
       "      <th>2017-01-06</th>\n",
       "      <td>22.780001</td>\n",
       "      <td>22.850000</td>\n",
       "      <td>22.559999</td>\n",
       "      <td>22.680000</td>\n",
       "      <td>20.382603</td>\n",
       "      <td>66281500</td>\n",
       "    </tr>\n",
       "    <tr>\n",
       "      <th>2017-01-05</th>\n",
       "      <td>22.820000</td>\n",
       "      <td>22.930000</td>\n",
       "      <td>22.350000</td>\n",
       "      <td>22.680000</td>\n",
       "      <td>20.382603</td>\n",
       "      <td>86826400</td>\n",
       "    </tr>\n",
       "    <tr>\n",
       "      <th>2017-01-04</th>\n",
       "      <td>22.719999</td>\n",
       "      <td>22.959999</td>\n",
       "      <td>22.600000</td>\n",
       "      <td>22.950001</td>\n",
       "      <td>20.625254</td>\n",
       "      <td>76875100</td>\n",
       "    </tr>\n",
       "    <tr>\n",
       "      <th>2017-01-03</th>\n",
       "      <td>22.600000</td>\n",
       "      <td>22.680000</td>\n",
       "      <td>22.200001</td>\n",
       "      <td>22.530001</td>\n",
       "      <td>20.247801</td>\n",
       "      <td>99298100</td>\n",
       "    </tr>\n",
       "  </tbody>\n",
       "</table>\n",
       "<p>1354 rows × 6 columns</p>\n",
       "</div>"
      ],
      "text/plain": [
       "                 Open       High        Low      Close  Adj Close    Volume\n",
       "Date                                                                       \n",
       "2022-05-18  35.619999  35.689999  34.599998  34.880001  34.880001  47396900\n",
       "2022-05-17  35.619999  36.220001  35.430000  35.990002  35.990002  42635600\n",
       "2022-05-16  35.000000  35.169998  34.410000  34.810001  34.810001  39076500\n",
       "2022-05-13  35.529999  35.730000  34.759998  35.169998  35.169998  49069300\n",
       "2022-05-12  35.009998  35.430000  34.259998  35.070000  35.070000  61231500\n",
       "...               ...        ...        ...        ...        ...       ...\n",
       "2017-01-09  22.510000  22.709999  22.400000  22.549999  20.265772  75901500\n",
       "2017-01-06  22.780001  22.850000  22.559999  22.680000  20.382603  66281500\n",
       "2017-01-05  22.820000  22.930000  22.350000  22.680000  20.382603  86826400\n",
       "2017-01-04  22.719999  22.959999  22.600000  22.950001  20.625254  76875100\n",
       "2017-01-03  22.600000  22.680000  22.200001  22.530001  20.247801  99298100\n",
       "\n",
       "[1354 rows x 6 columns]"
      ]
     },
     "execution_count": 2,
     "metadata": {},
     "output_type": "execute_result"
    }
   ],
   "source": [
    "#Get the Dataset\n",
    "data_train=pd.read_csv(\"NewData/BAC2016_2022.csv\",na_values=['null'],index_col='Date',parse_dates=True,infer_datetime_format=True)\n",
    "data_train.sort_values(by=\"Date\", ascending = False)"
   ]
  },
  {
   "cell_type": "code",
   "execution_count": 3,
   "metadata": {},
   "outputs": [
    {
     "data": {
      "text/plain": [
       "Open         float64\n",
       "High         float64\n",
       "Low          float64\n",
       "Close        float64\n",
       "Adj Close    float64\n",
       "Volume         int64\n",
       "dtype: object"
      ]
     },
     "execution_count": 3,
     "metadata": {},
     "output_type": "execute_result"
    }
   ],
   "source": [
    "data_train.dtypes"
   ]
  },
  {
   "cell_type": "code",
   "execution_count": 4,
   "metadata": {},
   "outputs": [
    {
     "name": "stdout",
     "output_type": "stream",
     "text": [
      "Dataframe Shape:  (1354, 6)\n",
      "Null Value Present:  False\n"
     ]
    }
   ],
   "source": [
    "#Print the shape of Dataframe  and Check for Null Values\n",
    "print(\"Dataframe Shape: \", data_train. shape)\n",
    "print(\"Null Value Present: \", data_train.isnull().values.any())"
   ]
  },
  {
   "cell_type": "code",
   "execution_count": 5,
   "metadata": {},
   "outputs": [
    {
     "name": "stdout",
     "output_type": "stream",
     "text": [
      "[[22.68    ]\n",
      " [22.959999]\n",
      " [22.93    ]\n",
      " ...\n",
      " [35.169998]\n",
      " [36.220001]\n",
      " [35.689999]]\n",
      "(1354, 1)\n"
     ]
    }
   ],
   "source": [
    "# Use close price to Train the model\n",
    "\n",
    "training_set = data_train.iloc[:,1:2].values\n",
    "print(training_set)\n",
    "print(training_set.shape)"
   ]
  },
  {
   "cell_type": "code",
   "execution_count": 6,
   "metadata": {},
   "outputs": [
    {
     "data": {
      "text/plain": [
       "array([[0.09888305],\n",
       "       [0.10808144],\n",
       "       [0.10709592],\n",
       "       ...,\n",
       "       [0.50919834],\n",
       "       [0.54369252],\n",
       "       [0.52628116]])"
      ]
     },
     "execution_count": 6,
     "metadata": {},
     "output_type": "execute_result"
    }
   ],
   "source": [
    "# Normalize the dataset (0,1): scale the dataset to be from 0 to 1: \n",
    "\n",
    "scaler = MinMaxScaler(feature_range = (0,1))\n",
    "scaled_training_set = scaler.fit_transform(training_set)\n",
    "scaled_training_set"
   ]
  },
  {
   "cell_type": "code",
   "execution_count": 7,
   "metadata": {},
   "outputs": [],
   "source": [
    "# Create X_train and y_train data structure\n",
    "\n",
    "X_train = []\n",
    "y_train = []\n",
    "for i in range(60,1354):\n",
    "    X_train.append(scaled_training_set[i-60:i,0])\n",
    "    y_train.append(scaled_training_set[i,0])\n",
    "X_train = np.array(X_train)\n",
    "y_train = np.array(y_train)\n"
   ]
  },
  {
   "cell_type": "code",
   "execution_count": 8,
   "metadata": {},
   "outputs": [
    {
     "name": "stdout",
     "output_type": "stream",
     "text": [
      "[[0.09888305 0.10808144 0.10709592 ... 0.11103807 0.13140604 0.13074901]\n",
      " [0.10808144 0.10709592 0.1044678  ... 0.13140604 0.13074901 0.14159001]\n",
      " [0.10709592 0.1044678  0.09986856 ... 0.13074901 0.14159001 0.14126146]\n",
      " ...\n",
      " [0.90735874 0.88272011 0.86432323 ... 0.56668848 0.5177398  0.52759525]\n",
      " [0.88272011 0.86432323 0.86859396 ... 0.5177398  0.52759525 0.50919834]\n",
      " [0.86432323 0.86859396 0.78876476 ... 0.52759525 0.50919834 0.54369252]]\n"
     ]
    }
   ],
   "source": [
    "print(X_train)"
   ]
  },
  {
   "cell_type": "code",
   "execution_count": 9,
   "metadata": {},
   "outputs": [
    {
     "name": "stdout",
     "output_type": "stream",
     "text": [
      "(1294, 60)\n",
      "(1294,)\n"
     ]
    }
   ],
   "source": [
    "print(X_train.shape)\n",
    "print(y_train.shape)"
   ]
  },
  {
   "cell_type": "code",
   "execution_count": 10,
   "metadata": {},
   "outputs": [
    {
     "data": {
      "text/plain": [
       "(1294, 60, 1)"
      ]
     },
     "execution_count": 10,
     "metadata": {},
     "output_type": "execute_result"
    }
   ],
   "source": [
    "# Reshape the data\n",
    "\n",
    "X_train = np.reshape(X_train,(X_train.shape[0],X_train.shape[1],1))\n",
    "X_train.shape"
   ]
  },
  {
   "cell_type": "code",
   "execution_count": 11,
   "metadata": {},
   "outputs": [],
   "source": [
    "# by Importing the Crucial Libraries \n",
    "\n",
    "from keras.models import Sequential\n",
    "from keras.layers import Dense, LSTM\n",
    "from keras.layers import Dropout"
   ]
  },
  {
   "cell_type": "code",
   "execution_count": 12,
   "metadata": {},
   "outputs": [],
   "source": [
    "# Building the Model by Adding Different Layers to LSTM\n",
    "\n",
    "regressor = Sequential()\n",
    "\n",
    "regressor.add(LSTM(units = 32, return_sequences=True, input_shape = (X_train.shape[1],1), activation = \"relu\"))\n",
    "regressor.add(Dropout(0.2))\n",
    "\n",
    "regressor.add(LSTM(units=32, return_sequences=True))\n",
    "regressor.add(Dropout(0.2))\n",
    "\n",
    "regressor.add(LSTM(units=32, return_sequences=True))\n",
    "regressor.add(Dropout(0.2))\n",
    "\n",
    "regressor.add(LSTM(units=32))\n",
    "regressor.add(Dropout(0.2))\n",
    "\n",
    "regressor.add(Dense(units=1))\n"
   ]
  },
  {
   "cell_type": "code",
   "execution_count": 13,
   "metadata": {},
   "outputs": [
    {
     "name": "stdout",
     "output_type": "stream",
     "text": [
      "Epoch 1/50\n",
      "162/162 [==============================] - 8s 30ms/step - loss: 0.0262\n",
      "Epoch 2/50\n",
      "162/162 [==============================] - 5s 30ms/step - loss: 0.0358\n",
      "Epoch 3/50\n",
      "162/162 [==============================] - 5s 30ms/step - loss: 0.0393\n",
      "Epoch 4/50\n",
      "162/162 [==============================] - 5s 30ms/step - loss: 0.0369\n",
      "Epoch 5/50\n",
      "162/162 [==============================] - 5s 30ms/step - loss: 0.0285\n",
      "Epoch 6/50\n",
      "162/162 [==============================] - 5s 30ms/step - loss: 0.0154\n",
      "Epoch 7/50\n",
      "162/162 [==============================] - 5s 30ms/step - loss: 0.0112\n",
      "Epoch 8/50\n",
      "162/162 [==============================] - 5s 30ms/step - loss: 0.0115\n",
      "Epoch 9/50\n",
      "162/162 [==============================] - 5s 30ms/step - loss: 0.0100\n",
      "Epoch 10/50\n",
      "162/162 [==============================] - 5s 30ms/step - loss: 0.0096\n",
      "Epoch 11/50\n",
      "162/162 [==============================] - 5s 30ms/step - loss: 0.0092\n",
      "Epoch 12/50\n",
      "162/162 [==============================] - 5s 30ms/step - loss: 0.0087\n",
      "Epoch 13/50\n",
      "162/162 [==============================] - 5s 30ms/step - loss: 0.0080\n",
      "Epoch 14/50\n",
      "162/162 [==============================] - 5s 30ms/step - loss: 0.0071\n",
      "Epoch 15/50\n",
      "162/162 [==============================] - 5s 30ms/step - loss: 0.0073\n",
      "Epoch 16/50\n",
      "162/162 [==============================] - 5s 30ms/step - loss: 0.0064\n",
      "Epoch 17/50\n",
      "162/162 [==============================] - 5s 30ms/step - loss: 0.0062\n",
      "Epoch 18/50\n",
      "162/162 [==============================] - 5s 30ms/step - loss: 0.0067\n",
      "Epoch 19/50\n",
      "162/162 [==============================] - 5s 31ms/step - loss: 0.0064\n",
      "Epoch 20/50\n",
      "162/162 [==============================] - 5s 30ms/step - loss: 0.0065\n",
      "Epoch 21/50\n",
      "162/162 [==============================] - 5s 30ms/step - loss: 0.0059\n",
      "Epoch 22/50\n",
      "162/162 [==============================] - 5s 30ms/step - loss: 0.0062\n",
      "Epoch 23/50\n",
      "162/162 [==============================] - 5s 30ms/step - loss: 0.0056\n",
      "Epoch 24/50\n",
      "162/162 [==============================] - 5s 30ms/step - loss: 0.0056\n",
      "Epoch 25/50\n",
      "162/162 [==============================] - 5s 30ms/step - loss: 0.0057\n",
      "Epoch 26/50\n",
      "162/162 [==============================] - 5s 30ms/step - loss: 0.0057\n",
      "Epoch 27/50\n",
      "162/162 [==============================] - 5s 30ms/step - loss: 0.0058\n",
      "Epoch 28/50\n",
      "162/162 [==============================] - 5s 30ms/step - loss: 0.0058\n",
      "Epoch 29/50\n",
      "162/162 [==============================] - 5s 31ms/step - loss: 0.0065\n",
      "Epoch 30/50\n",
      "162/162 [==============================] - 6s 36ms/step - loss: 0.0056\n",
      "Epoch 31/50\n",
      "162/162 [==============================] - 5s 30ms/step - loss: 0.0057\n",
      "Epoch 32/50\n",
      "162/162 [==============================] - 5s 30ms/step - loss: 0.0055\n",
      "Epoch 33/50\n",
      "162/162 [==============================] - 5s 30ms/step - loss: 0.0053\n",
      "Epoch 34/50\n",
      "162/162 [==============================] - 5s 30ms/step - loss: 0.0055\n",
      "Epoch 35/50\n",
      "162/162 [==============================] - 5s 31ms/step - loss: 0.0050\n",
      "Epoch 36/50\n",
      "162/162 [==============================] - 5s 31ms/step - loss: 0.0049\n",
      "Epoch 37/50\n",
      "162/162 [==============================] - 5s 30ms/step - loss: 0.0048\n",
      "Epoch 38/50\n",
      "162/162 [==============================] - 5s 31ms/step - loss: 0.0053\n",
      "Epoch 39/50\n",
      "162/162 [==============================] - 5s 30ms/step - loss: 0.0052\n",
      "Epoch 40/50\n",
      "162/162 [==============================] - 5s 30ms/step - loss: 0.0045\n",
      "Epoch 41/50\n",
      "162/162 [==============================] - 5s 31ms/step - loss: 0.0049\n",
      "Epoch 42/50\n",
      "162/162 [==============================] - 5s 31ms/step - loss: 0.0047\n",
      "Epoch 43/50\n",
      "162/162 [==============================] - 5s 30ms/step - loss: 0.0044\n",
      "Epoch 44/50\n",
      "162/162 [==============================] - 5s 30ms/step - loss: 0.0045\n",
      "Epoch 45/50\n",
      "162/162 [==============================] - 5s 30ms/step - loss: 0.0045\n",
      "Epoch 46/50\n",
      "162/162 [==============================] - 5s 30ms/step - loss: 0.0047\n",
      "Epoch 47/50\n",
      "162/162 [==============================] - 5s 30ms/step - loss: 0.0048\n",
      "Epoch 48/50\n",
      "162/162 [==============================] - 5s 30ms/step - loss: 0.0043\n",
      "Epoch 49/50\n",
      "162/162 [==============================] - 5s 30ms/step - loss: 0.0044\n",
      "Epoch 50/50\n",
      "162/162 [==============================] - 5s 30ms/step - loss: 0.0043\n"
     ]
    },
    {
     "data": {
      "text/plain": [
       "<keras.callbacks.History at 0x2526383a4c0>"
      ]
     },
     "execution_count": 13,
     "metadata": {},
     "output_type": "execute_result"
    }
   ],
   "source": [
    "# Fit the Model\n",
    "\n",
    "regressor.compile(optimizer='adam', loss = 'mean_squared_error')\n",
    "regressor.fit(X_train, y_train, epochs=50, batch_size=8, verbose=1, shuffle=False)"
   ]
  },
  {
   "cell_type": "code",
   "execution_count": 14,
   "metadata": {},
   "outputs": [
    {
     "data": {
      "text/html": [
       "<div>\n",
       "<style scoped>\n",
       "    .dataframe tbody tr th:only-of-type {\n",
       "        vertical-align: middle;\n",
       "    }\n",
       "\n",
       "    .dataframe tbody tr th {\n",
       "        vertical-align: top;\n",
       "    }\n",
       "\n",
       "    .dataframe thead th {\n",
       "        text-align: right;\n",
       "    }\n",
       "</style>\n",
       "<table border=\"1\" class=\"dataframe\">\n",
       "  <thead>\n",
       "    <tr style=\"text-align: right;\">\n",
       "      <th></th>\n",
       "      <th>Open</th>\n",
       "      <th>High</th>\n",
       "      <th>Low</th>\n",
       "      <th>Close</th>\n",
       "      <th>Adj Close</th>\n",
       "      <th>Volume</th>\n",
       "    </tr>\n",
       "    <tr>\n",
       "      <th>Date</th>\n",
       "      <th></th>\n",
       "      <th></th>\n",
       "      <th></th>\n",
       "      <th></th>\n",
       "      <th></th>\n",
       "      <th></th>\n",
       "    </tr>\n",
       "  </thead>\n",
       "  <tbody>\n",
       "    <tr>\n",
       "      <th>2017-01-03</th>\n",
       "      <td>22.600000</td>\n",
       "      <td>22.680000</td>\n",
       "      <td>22.200001</td>\n",
       "      <td>22.530001</td>\n",
       "      <td>20.247801</td>\n",
       "      <td>99298100</td>\n",
       "    </tr>\n",
       "    <tr>\n",
       "      <th>2017-01-04</th>\n",
       "      <td>22.719999</td>\n",
       "      <td>22.959999</td>\n",
       "      <td>22.600000</td>\n",
       "      <td>22.950001</td>\n",
       "      <td>20.625254</td>\n",
       "      <td>76875100</td>\n",
       "    </tr>\n",
       "    <tr>\n",
       "      <th>2017-01-05</th>\n",
       "      <td>22.820000</td>\n",
       "      <td>22.930000</td>\n",
       "      <td>22.350000</td>\n",
       "      <td>22.680000</td>\n",
       "      <td>20.382603</td>\n",
       "      <td>86826400</td>\n",
       "    </tr>\n",
       "    <tr>\n",
       "      <th>2017-01-06</th>\n",
       "      <td>22.780001</td>\n",
       "      <td>22.850000</td>\n",
       "      <td>22.559999</td>\n",
       "      <td>22.680000</td>\n",
       "      <td>20.382603</td>\n",
       "      <td>66281500</td>\n",
       "    </tr>\n",
       "    <tr>\n",
       "      <th>2017-01-09</th>\n",
       "      <td>22.510000</td>\n",
       "      <td>22.709999</td>\n",
       "      <td>22.400000</td>\n",
       "      <td>22.549999</td>\n",
       "      <td>20.265772</td>\n",
       "      <td>75901500</td>\n",
       "    </tr>\n",
       "    <tr>\n",
       "      <th>...</th>\n",
       "      <td>...</td>\n",
       "      <td>...</td>\n",
       "      <td>...</td>\n",
       "      <td>...</td>\n",
       "      <td>...</td>\n",
       "      <td>...</td>\n",
       "    </tr>\n",
       "    <tr>\n",
       "      <th>2022-05-12</th>\n",
       "      <td>35.009998</td>\n",
       "      <td>35.430000</td>\n",
       "      <td>34.259998</td>\n",
       "      <td>35.070000</td>\n",
       "      <td>35.070000</td>\n",
       "      <td>61231500</td>\n",
       "    </tr>\n",
       "    <tr>\n",
       "      <th>2022-05-13</th>\n",
       "      <td>35.529999</td>\n",
       "      <td>35.730000</td>\n",
       "      <td>34.759998</td>\n",
       "      <td>35.169998</td>\n",
       "      <td>35.169998</td>\n",
       "      <td>49069300</td>\n",
       "    </tr>\n",
       "    <tr>\n",
       "      <th>2022-05-16</th>\n",
       "      <td>35.000000</td>\n",
       "      <td>35.169998</td>\n",
       "      <td>34.410000</td>\n",
       "      <td>34.810001</td>\n",
       "      <td>34.810001</td>\n",
       "      <td>39076500</td>\n",
       "    </tr>\n",
       "    <tr>\n",
       "      <th>2022-05-17</th>\n",
       "      <td>35.619999</td>\n",
       "      <td>36.220001</td>\n",
       "      <td>35.430000</td>\n",
       "      <td>35.990002</td>\n",
       "      <td>35.990002</td>\n",
       "      <td>42635600</td>\n",
       "    </tr>\n",
       "    <tr>\n",
       "      <th>2022-05-18</th>\n",
       "      <td>35.619999</td>\n",
       "      <td>35.689999</td>\n",
       "      <td>34.599998</td>\n",
       "      <td>34.880001</td>\n",
       "      <td>34.880001</td>\n",
       "      <td>47396900</td>\n",
       "    </tr>\n",
       "  </tbody>\n",
       "</table>\n",
       "<p>1354 rows × 6 columns</p>\n",
       "</div>"
      ],
      "text/plain": [
       "                 Open       High        Low      Close  Adj Close    Volume\n",
       "Date                                                                       \n",
       "2017-01-03  22.600000  22.680000  22.200001  22.530001  20.247801  99298100\n",
       "2017-01-04  22.719999  22.959999  22.600000  22.950001  20.625254  76875100\n",
       "2017-01-05  22.820000  22.930000  22.350000  22.680000  20.382603  86826400\n",
       "2017-01-06  22.780001  22.850000  22.559999  22.680000  20.382603  66281500\n",
       "2017-01-09  22.510000  22.709999  22.400000  22.549999  20.265772  75901500\n",
       "...               ...        ...        ...        ...        ...       ...\n",
       "2022-05-12  35.009998  35.430000  34.259998  35.070000  35.070000  61231500\n",
       "2022-05-13  35.529999  35.730000  34.759998  35.169998  35.169998  49069300\n",
       "2022-05-16  35.000000  35.169998  34.410000  34.810001  34.810001  39076500\n",
       "2022-05-17  35.619999  36.220001  35.430000  35.990002  35.990002  42635600\n",
       "2022-05-18  35.619999  35.689999  34.599998  34.880001  34.880001  47396900\n",
       "\n",
       "[1354 rows x 6 columns]"
      ]
     },
     "execution_count": 14,
     "metadata": {},
     "output_type": "execute_result"
    }
   ],
   "source": [
    "# Use the current close price as sample dataset for prediction\n",
    "\n",
    "data_test = data_train\n",
    "data_test\n"
   ]
  },
  {
   "cell_type": "code",
   "execution_count": 15,
   "metadata": {},
   "outputs": [],
   "source": [
    "# prepare the inputs for the prediction model\n",
    "\n",
    "dataset_total = pd.concat((data_train['Open'], data_train['Close']), axis = 0)\n",
    "inputs = dataset_total[len(dataset_total)-len(data_train)-60:].values\n",
    "\n",
    "inputs = inputs.reshape(-1,1)\n",
    "inputs = scaler.transform(inputs)"
   ]
  },
  {
   "cell_type": "code",
   "execution_count": 16,
   "metadata": {},
   "outputs": [],
   "source": [
    "X_test = []\n",
    "for x in range(60,80):\n",
    "    X_test.append(inputs[x-60:x,0])\n",
    "X_test = np.array(X_test)\n",
    "X_test=np.reshape(X_test,(X_test.shape[0], X_test.shape[1],1))"
   ]
  },
  {
   "cell_type": "code",
   "execution_count": 17,
   "metadata": {},
   "outputs": [
    {
     "data": {
      "text/plain": [
       "array([[0.7148844 ],\n",
       "       [0.67785287],\n",
       "       [0.6196693 ],\n",
       "       [0.5465716 ],\n",
       "       [0.46133184],\n",
       "       [0.362903  ],\n",
       "       [0.2611818 ],\n",
       "       [0.17492634],\n",
       "       [0.11831293],\n",
       "       [0.09398466],\n",
       "       [0.09009618],\n",
       "       [0.09792322],\n",
       "       [0.11030492],\n",
       "       [0.12344438],\n",
       "       [0.13508019],\n",
       "       [0.14602521],\n",
       "       [0.1576874 ],\n",
       "       [0.16942105],\n",
       "       [0.17958374],\n",
       "       [0.18586728]], dtype=float32)"
      ]
     },
     "execution_count": 17,
     "metadata": {},
     "output_type": "execute_result"
    }
   ],
   "source": [
    "predicted_prices = regressor.predict(X_test)\n",
    "predicted_prices"
   ]
  },
  {
   "cell_type": "code",
   "execution_count": 18,
   "metadata": {},
   "outputs": [
    {
     "data": {
      "text/plain": [
       "array([[41.431084],\n",
       "       [40.30384 ],\n",
       "       [38.532734],\n",
       "       [36.30764 ],\n",
       "       [33.71294 ],\n",
       "       [30.716768],\n",
       "       [27.620373],\n",
       "       [24.994759],\n",
       "       [23.271444],\n",
       "       [22.530893],\n",
       "       [22.412527],\n",
       "       [22.650784],\n",
       "       [23.027681],\n",
       "       [23.427647],\n",
       "       [23.781841],\n",
       "       [24.115007],\n",
       "       [24.470003],\n",
       "       [24.827177],\n",
       "       [25.13653 ],\n",
       "       [25.327799]], dtype=float32)"
      ]
     },
     "execution_count": 18,
     "metadata": {},
     "output_type": "execute_result"
    }
   ],
   "source": [
    "# List prices in the next 20 days: \n",
    "predicted_prices= scaler.inverse_transform(predicted_prices)\n",
    "predicted_prices"
   ]
  },
  {
   "cell_type": "code",
   "execution_count": 19,
   "metadata": {},
   "outputs": [
    {
     "data": {
      "text/plain": [
       "20"
      ]
     },
     "execution_count": 19,
     "metadata": {},
     "output_type": "execute_result"
    }
   ],
   "source": [
    "len(predicted_prices)\n"
   ]
  },
  {
   "cell_type": "code",
   "execution_count": 20,
   "metadata": {},
   "outputs": [
    {
     "data": {
      "text/html": [
       "<div>\n",
       "<style scoped>\n",
       "    .dataframe tbody tr th:only-of-type {\n",
       "        vertical-align: middle;\n",
       "    }\n",
       "\n",
       "    .dataframe tbody tr th {\n",
       "        vertical-align: top;\n",
       "    }\n",
       "\n",
       "    .dataframe thead th {\n",
       "        text-align: right;\n",
       "    }\n",
       "</style>\n",
       "<table border=\"1\" class=\"dataframe\">\n",
       "  <thead>\n",
       "    <tr style=\"text-align: right;\">\n",
       "      <th></th>\n",
       "      <th>pred_close</th>\n",
       "    </tr>\n",
       "    <tr>\n",
       "      <th>Date</th>\n",
       "      <th></th>\n",
       "    </tr>\n",
       "  </thead>\n",
       "  <tbody>\n",
       "    <tr>\n",
       "      <th>2022-05-19</th>\n",
       "      <td>41.431084</td>\n",
       "    </tr>\n",
       "    <tr>\n",
       "      <th>2022-05-20</th>\n",
       "      <td>40.303841</td>\n",
       "    </tr>\n",
       "    <tr>\n",
       "      <th>2022-05-21</th>\n",
       "      <td>38.532734</td>\n",
       "    </tr>\n",
       "    <tr>\n",
       "      <th>2022-05-22</th>\n",
       "      <td>36.307640</td>\n",
       "    </tr>\n",
       "    <tr>\n",
       "      <th>2022-05-23</th>\n",
       "      <td>33.712940</td>\n",
       "    </tr>\n",
       "    <tr>\n",
       "      <th>2022-05-24</th>\n",
       "      <td>30.716768</td>\n",
       "    </tr>\n",
       "    <tr>\n",
       "      <th>2022-05-25</th>\n",
       "      <td>27.620373</td>\n",
       "    </tr>\n",
       "    <tr>\n",
       "      <th>2022-05-26</th>\n",
       "      <td>24.994759</td>\n",
       "    </tr>\n",
       "    <tr>\n",
       "      <th>2022-05-27</th>\n",
       "      <td>23.271444</td>\n",
       "    </tr>\n",
       "    <tr>\n",
       "      <th>2022-05-28</th>\n",
       "      <td>22.530893</td>\n",
       "    </tr>\n",
       "    <tr>\n",
       "      <th>2022-05-29</th>\n",
       "      <td>22.412527</td>\n",
       "    </tr>\n",
       "    <tr>\n",
       "      <th>2022-05-30</th>\n",
       "      <td>22.650784</td>\n",
       "    </tr>\n",
       "    <tr>\n",
       "      <th>2022-05-31</th>\n",
       "      <td>23.027681</td>\n",
       "    </tr>\n",
       "    <tr>\n",
       "      <th>2022-06-01</th>\n",
       "      <td>23.427647</td>\n",
       "    </tr>\n",
       "    <tr>\n",
       "      <th>2022-06-02</th>\n",
       "      <td>23.781841</td>\n",
       "    </tr>\n",
       "    <tr>\n",
       "      <th>2022-06-03</th>\n",
       "      <td>24.115007</td>\n",
       "    </tr>\n",
       "    <tr>\n",
       "      <th>2022-06-04</th>\n",
       "      <td>24.470003</td>\n",
       "    </tr>\n",
       "    <tr>\n",
       "      <th>2022-06-05</th>\n",
       "      <td>24.827177</td>\n",
       "    </tr>\n",
       "    <tr>\n",
       "      <th>2022-06-06</th>\n",
       "      <td>25.136530</td>\n",
       "    </tr>\n",
       "    <tr>\n",
       "      <th>2022-06-07</th>\n",
       "      <td>25.327799</td>\n",
       "    </tr>\n",
       "  </tbody>\n",
       "</table>\n",
       "</div>"
      ],
      "text/plain": [
       "            pred_close\n",
       "Date                  \n",
       "2022-05-19   41.431084\n",
       "2022-05-20   40.303841\n",
       "2022-05-21   38.532734\n",
       "2022-05-22   36.307640\n",
       "2022-05-23   33.712940\n",
       "2022-05-24   30.716768\n",
       "2022-05-25   27.620373\n",
       "2022-05-26   24.994759\n",
       "2022-05-27   23.271444\n",
       "2022-05-28   22.530893\n",
       "2022-05-29   22.412527\n",
       "2022-05-30   22.650784\n",
       "2022-05-31   23.027681\n",
       "2022-06-01   23.427647\n",
       "2022-06-02   23.781841\n",
       "2022-06-03   24.115007\n",
       "2022-06-04   24.470003\n",
       "2022-06-05   24.827177\n",
       "2022-06-06   25.136530\n",
       "2022-06-07   25.327799"
      ]
     },
     "execution_count": 20,
     "metadata": {},
     "output_type": "execute_result"
    }
   ],
   "source": [
    "# df in future 20days\n",
    "\n",
    "pred_df=pd.DataFrame({'Date': ['2022-05-19','2022-05-20','2022-05-21','2022-05-22',\n",
    "                        '2022-05-23','2022-05-24','2022-05-25','2022-05-26',\n",
    "                        '2022-05-27','2022-05-28','2022-05-29','2022-05-30',\n",
    "                        '2022-05-31','2022-06-01','2022-06-02','2022-06-03',\n",
    "                        '2022-06-04','2022-06-05','2022-06-06','2022-06-07'\n",
    "                        ]\n",
    "                     }\n",
    ")\n",
    "pred_df['pred_close']=predicted_prices\n",
    "pred_df.set_index('Date', inplace=True)\n",
    "pred_df.head(21)"
   ]
  },
  {
   "cell_type": "code",
   "execution_count": 21,
   "metadata": {},
   "outputs": [
    {
     "data": {
      "text/plain": [
       "Date\n",
       "2022-04-21    40.209999\n",
       "2022-04-22    38.849998\n",
       "2022-04-25    37.400002\n",
       "2022-04-26    37.540001\n",
       "2022-04-27    36.910000\n",
       "2022-04-28    36.950001\n",
       "2022-04-29    37.130001\n",
       "2022-05-02    36.279999\n",
       "2022-05-03    37.630001\n",
       "2022-05-04    38.750000\n",
       "2022-05-05    38.209999\n",
       "2022-05-06    37.619999\n",
       "2022-05-09    37.060001\n",
       "2022-05-10    37.130001\n",
       "2022-05-11    36.919998\n",
       "2022-05-12    35.430000\n",
       "2022-05-13    35.730000\n",
       "2022-05-16    35.169998\n",
       "2022-05-17    36.220001\n",
       "2022-05-18    35.689999\n",
       "Name: High, dtype: float64"
      ]
     },
     "execution_count": 21,
     "metadata": {},
     "output_type": "execute_result"
    }
   ],
   "source": [
    "data_train.iloc[1334:1354,1]"
   ]
  },
  {
   "cell_type": "code",
   "execution_count": 22,
   "metadata": {},
   "outputs": [
    {
     "data": {
      "text/plain": [
       "1354"
      ]
     },
     "execution_count": 22,
     "metadata": {},
     "output_type": "execute_result"
    }
   ],
   "source": [
    "len(data_train.iloc[:,1])"
   ]
  },
  {
   "cell_type": "code",
   "execution_count": 23,
   "metadata": {},
   "outputs": [
    {
     "data": {
      "image/png": "[encoded data removed]",
      "text/plain": [
       "<Figure size 432x288 with 1 Axes>"
      ]
     },
     "metadata": {
      "needs_background": "light"
     },
     "output_type": "display_data"
    },
    {
     "data": {
      "text/plain": [
       "<Figure size 2880x1440 with 0 Axes>"
      ]
     },
     "metadata": {},
     "output_type": "display_data"
    }
   ],
   "source": [
    "plt.plot(data_train.iloc[1334:1354,1])\n",
    "plt.xticks(rotation=45)\n",
    "plt.figure(figsize = (40,20))\n",
    "plt.tight_layout()"
   ]
  },
  {
   "cell_type": "code",
   "execution_count": 24,
   "metadata": {},
   "outputs": [
    {
     "data": {
      "image/png": "[encoded data removed]",
      "text/plain": [
       "<Figure size 432x288 with 1 Axes>"
      ]
     },
     "metadata": {
      "needs_background": "light"
     },
     "output_type": "display_data"
    }
   ],
   "source": [
    "plt.plot(pred_df['pred_close'])\n",
    "plt.xticks(rotation = 45)\n",
    "plt.tight_layout()"
   ]
  },
  {
   "cell_type": "code",
   "execution_count": 25,
   "metadata": {},
   "outputs": [
    {
     "data": {
      "text/html": [
       "<div>\n",
       "<style scoped>\n",
       "    .dataframe tbody tr th:only-of-type {\n",
       "        vertical-align: middle;\n",
       "    }\n",
       "\n",
       "    .dataframe tbody tr th {\n",
       "        vertical-align: top;\n",
       "    }\n",
       "\n",
       "    .dataframe thead th {\n",
       "        text-align: right;\n",
       "    }\n",
       "</style>\n",
       "<table border=\"1\" class=\"dataframe\">\n",
       "  <thead>\n",
       "    <tr style=\"text-align: right;\">\n",
       "      <th></th>\n",
       "      <th>pred_close</th>\n",
       "    </tr>\n",
       "    <tr>\n",
       "      <th>Date</th>\n",
       "      <th></th>\n",
       "    </tr>\n",
       "  </thead>\n",
       "  <tbody>\n",
       "    <tr>\n",
       "      <th>2022-05-19</th>\n",
       "      <td>41.431084</td>\n",
       "    </tr>\n",
       "    <tr>\n",
       "      <th>2022-05-20</th>\n",
       "      <td>40.303841</td>\n",
       "    </tr>\n",
       "    <tr>\n",
       "      <th>2022-05-21</th>\n",
       "      <td>38.532734</td>\n",
       "    </tr>\n",
       "    <tr>\n",
       "      <th>2022-05-22</th>\n",
       "      <td>36.307640</td>\n",
       "    </tr>\n",
       "    <tr>\n",
       "      <th>2022-05-23</th>\n",
       "      <td>33.712940</td>\n",
       "    </tr>\n",
       "  </tbody>\n",
       "</table>\n",
       "</div>"
      ],
      "text/plain": [
       "            pred_close\n",
       "Date                  \n",
       "2022-05-19   41.431084\n",
       "2022-05-20   40.303841\n",
       "2022-05-21   38.532734\n",
       "2022-05-22   36.307640\n",
       "2022-05-23   33.712940"
      ]
     },
     "execution_count": 25,
     "metadata": {},
     "output_type": "execute_result"
    }
   ],
   "source": [
    "pred_df.head()"
   ]
  }
 ],
 "metadata": {
  "interpreter": {
   "hash": "257fe52e9f2c2b945b05e3f0194d62ff27988f684df8175d6ce369c19ab4eae5"
  },
  "kernelspec": {
   "display_name": "Python 3.8.8 ('base')",
   "language": "python",
   "name": "python3"
  },
  "language_info": {
   "codemirror_mode": {
    "name": "ipython",
    "version": 3
   },
   "file_extension": ".py",
   "mimetype": "text/x-python",
   "name": "python",
   "nbconvert_exporter": "python",
   "pygments_lexer": "ipython3",
   "version": "3.8.8"
  },
  "orig_nbformat": 4
 },
 "nbformat": 4,
 "nbformat_minor": 2
}
