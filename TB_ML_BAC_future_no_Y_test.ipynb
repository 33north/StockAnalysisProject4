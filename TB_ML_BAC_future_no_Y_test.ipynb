{
 "cells": [
  {
   "cell_type": "code",
   "execution_count": 1,
   "metadata": {},
   "outputs": [],
   "source": [
    "#Importing the Libraries\n",
    "import pandas as pd\n",
    "\n",
    "from datetime import datetime\n",
    "\n",
    "import numpy as np\n",
    "%matplotlib inline\n",
    "import matplotlib.pyplot as plt\n",
    "import matplotlib\n",
    "from sklearn.preprocessing import MinMaxScaler\n",
    "import sklearn as skl\n",
    "\n",
    "from sklearn.model_selection import TimeSeriesSplit\n",
    "from sklearn.metrics import mean_squared_error, r2_score\n",
    "import matplotlib.dates as mandates\n",
    "from sklearn import linear_model\n",
    "%matplotlib inline\n",
    "\n",
    "# from keras.models import Sequential\n",
    "# from keras.layers import Dense\n",
    "# import keras.backend as K\n",
    "# from keras.callbacks import EarlyStopping\n",
    "#from keras.optimizers import Adam\n",
    "# from keras.models import load_model\n",
    "# from keras.layers import LSTM\n",
    "# from keras.utils.vis_utils import plot_model"
   ]
  },
  {
   "cell_type": "code",
   "execution_count": 66,
   "metadata": {},
   "outputs": [
    {
     "data": {
      "text/html": [
       "<div>\n",
       "<style scoped>\n",
       "    .dataframe tbody tr th:only-of-type {\n",
       "        vertical-align: middle;\n",
       "    }\n",
       "\n",
       "    .dataframe tbody tr th {\n",
       "        vertical-align: top;\n",
       "    }\n",
       "\n",
       "    .dataframe thead th {\n",
       "        text-align: right;\n",
       "    }\n",
       "</style>\n",
       "<table border=\"1\" class=\"dataframe\">\n",
       "  <thead>\n",
       "    <tr style=\"text-align: right;\">\n",
       "      <th></th>\n",
       "      <th>Open</th>\n",
       "      <th>High</th>\n",
       "      <th>Low</th>\n",
       "      <th>Close</th>\n",
       "      <th>Adj Close</th>\n",
       "      <th>Volume</th>\n",
       "    </tr>\n",
       "    <tr>\n",
       "      <th>Date</th>\n",
       "      <th></th>\n",
       "      <th></th>\n",
       "      <th></th>\n",
       "      <th></th>\n",
       "      <th></th>\n",
       "      <th></th>\n",
       "    </tr>\n",
       "  </thead>\n",
       "  <tbody>\n",
       "    <tr>\n",
       "      <th>2022-05-18</th>\n",
       "      <td>35.619999</td>\n",
       "      <td>35.689999</td>\n",
       "      <td>34.599998</td>\n",
       "      <td>34.880001</td>\n",
       "      <td>34.880001</td>\n",
       "      <td>47396900</td>\n",
       "    </tr>\n",
       "    <tr>\n",
       "      <th>2022-05-17</th>\n",
       "      <td>35.619999</td>\n",
       "      <td>36.220001</td>\n",
       "      <td>35.430000</td>\n",
       "      <td>35.990002</td>\n",
       "      <td>35.990002</td>\n",
       "      <td>42635600</td>\n",
       "    </tr>\n",
       "    <tr>\n",
       "      <th>2022-05-16</th>\n",
       "      <td>35.000000</td>\n",
       "      <td>35.169998</td>\n",
       "      <td>34.410000</td>\n",
       "      <td>34.810001</td>\n",
       "      <td>34.810001</td>\n",
       "      <td>39076500</td>\n",
       "    </tr>\n",
       "    <tr>\n",
       "      <th>2022-05-13</th>\n",
       "      <td>35.529999</td>\n",
       "      <td>35.730000</td>\n",
       "      <td>34.759998</td>\n",
       "      <td>35.169998</td>\n",
       "      <td>35.169998</td>\n",
       "      <td>49069300</td>\n",
       "    </tr>\n",
       "    <tr>\n",
       "      <th>2022-05-12</th>\n",
       "      <td>35.009998</td>\n",
       "      <td>35.430000</td>\n",
       "      <td>34.259998</td>\n",
       "      <td>35.070000</td>\n",
       "      <td>35.070000</td>\n",
       "      <td>61231500</td>\n",
       "    </tr>\n",
       "    <tr>\n",
       "      <th>...</th>\n",
       "      <td>...</td>\n",
       "      <td>...</td>\n",
       "      <td>...</td>\n",
       "      <td>...</td>\n",
       "      <td>...</td>\n",
       "      <td>...</td>\n",
       "    </tr>\n",
       "    <tr>\n",
       "      <th>2017-01-09</th>\n",
       "      <td>22.510000</td>\n",
       "      <td>22.709999</td>\n",
       "      <td>22.400000</td>\n",
       "      <td>22.549999</td>\n",
       "      <td>20.265772</td>\n",
       "      <td>75901500</td>\n",
       "    </tr>\n",
       "    <tr>\n",
       "      <th>2017-01-06</th>\n",
       "      <td>22.780001</td>\n",
       "      <td>22.850000</td>\n",
       "      <td>22.559999</td>\n",
       "      <td>22.680000</td>\n",
       "      <td>20.382603</td>\n",
       "      <td>66281500</td>\n",
       "    </tr>\n",
       "    <tr>\n",
       "      <th>2017-01-05</th>\n",
       "      <td>22.820000</td>\n",
       "      <td>22.930000</td>\n",
       "      <td>22.350000</td>\n",
       "      <td>22.680000</td>\n",
       "      <td>20.382603</td>\n",
       "      <td>86826400</td>\n",
       "    </tr>\n",
       "    <tr>\n",
       "      <th>2017-01-04</th>\n",
       "      <td>22.719999</td>\n",
       "      <td>22.959999</td>\n",
       "      <td>22.600000</td>\n",
       "      <td>22.950001</td>\n",
       "      <td>20.625254</td>\n",
       "      <td>76875100</td>\n",
       "    </tr>\n",
       "    <tr>\n",
       "      <th>2017-01-03</th>\n",
       "      <td>22.600000</td>\n",
       "      <td>22.680000</td>\n",
       "      <td>22.200001</td>\n",
       "      <td>22.530001</td>\n",
       "      <td>20.247801</td>\n",
       "      <td>99298100</td>\n",
       "    </tr>\n",
       "  </tbody>\n",
       "</table>\n",
       "<p>1354 rows × 6 columns</p>\n",
       "</div>"
      ],
      "text/plain": [
       "                 Open       High        Low      Close  Adj Close    Volume\n",
       "Date                                                                       \n",
       "2022-05-18  35.619999  35.689999  34.599998  34.880001  34.880001  47396900\n",
       "2022-05-17  35.619999  36.220001  35.430000  35.990002  35.990002  42635600\n",
       "2022-05-16  35.000000  35.169998  34.410000  34.810001  34.810001  39076500\n",
       "2022-05-13  35.529999  35.730000  34.759998  35.169998  35.169998  49069300\n",
       "2022-05-12  35.009998  35.430000  34.259998  35.070000  35.070000  61231500\n",
       "...               ...        ...        ...        ...        ...       ...\n",
       "2017-01-09  22.510000  22.709999  22.400000  22.549999  20.265772  75901500\n",
       "2017-01-06  22.780001  22.850000  22.559999  22.680000  20.382603  66281500\n",
       "2017-01-05  22.820000  22.930000  22.350000  22.680000  20.382603  86826400\n",
       "2017-01-04  22.719999  22.959999  22.600000  22.950001  20.625254  76875100\n",
       "2017-01-03  22.600000  22.680000  22.200001  22.530001  20.247801  99298100\n",
       "\n",
       "[1354 rows x 6 columns]"
      ]
     },
     "execution_count": 66,
     "metadata": {},
     "output_type": "execute_result"
    }
   ],
   "source": [
    "#Get the Dataset\n",
    "data_train=pd.read_csv(\"NewData/BAC2016_2022.csv\",na_values=['null'],index_col='Date',parse_dates=True,infer_datetime_format=True)\n",
    "data_train.sort_values(by=\"Date\", ascending = False)"
   ]
  },
  {
   "cell_type": "code",
   "execution_count": 41,
   "metadata": {},
   "outputs": [
    {
     "data": {
      "text/plain": [
       "Open         float64\n",
       "High         float64\n",
       "Low          float64\n",
       "Close        float64\n",
       "Adj Close    float64\n",
       "Volume         int64\n",
       "dtype: object"
      ]
     },
     "execution_count": 41,
     "metadata": {},
     "output_type": "execute_result"
    }
   ],
   "source": [
    "data_train.dtypes"
   ]
  },
  {
   "cell_type": "code",
   "execution_count": 42,
   "metadata": {},
   "outputs": [
    {
     "name": "stdout",
     "output_type": "stream",
     "text": [
      "Dataframe Shape:  (1354, 6)\n",
      "Null Value Present:  False\n"
     ]
    }
   ],
   "source": [
    "#Print the shape of Dataframe  and Check for Null Values\n",
    "print(\"Dataframe Shape: \", data_train. shape)\n",
    "print(\"Null Value Present: \", data_train.isnull().values.any())"
   ]
  },
  {
   "cell_type": "code",
   "execution_count": 46,
   "metadata": {},
   "outputs": [
    {
     "name": "stdout",
     "output_type": "stream",
     "text": [
      "[[22.68    ]\n",
      " [22.959999]\n",
      " [22.93    ]\n",
      " ...\n",
      " [35.169998]\n",
      " [36.220001]\n",
      " [35.689999]]\n",
      "(1354, 1)\n"
     ]
    }
   ],
   "source": [
    "# Use close price to Train the model\n",
    "\n",
    "training_set = data_train.iloc[:,1:2].values\n",
    "print(training_set)\n",
    "print(training_set.shape)"
   ]
  },
  {
   "cell_type": "code",
   "execution_count": 47,
   "metadata": {},
   "outputs": [
    {
     "data": {
      "text/plain": [
       "array([[0.09888305],\n",
       "       [0.10808144],\n",
       "       [0.10709592],\n",
       "       ...,\n",
       "       [0.50919834],\n",
       "       [0.54369252],\n",
       "       [0.52628116]])"
      ]
     },
     "execution_count": 47,
     "metadata": {},
     "output_type": "execute_result"
    }
   ],
   "source": [
    "# Normalize the dataset (0,1): scale the dataset to be from 0 to 1: \n",
    "\n",
    "scaler = MinMaxScaler(feature_range = (0,1))\n",
    "scaled_training_set = scaler.fit_transform(training_set)\n",
    "scaled_training_set"
   ]
  },
  {
   "cell_type": "code",
   "execution_count": 48,
   "metadata": {},
   "outputs": [],
   "source": [
    "# Create X_train and y_train data structure\n",
    "\n",
    "X_train = []\n",
    "y_train = []\n",
    "for i in range(60,1354):\n",
    "    X_train.append(scaled_training_set[i-60:i,0])\n",
    "    y_train.append(scaled_training_set[i,0])\n",
    "X_train = np.array(X_train)\n",
    "y_train = np.array(y_train)\n"
   ]
  },
  {
   "cell_type": "code",
   "execution_count": 49,
   "metadata": {},
   "outputs": [
    {
     "name": "stdout",
     "output_type": "stream",
     "text": [
      "[[0.09888305 0.10808144 0.10709592 ... 0.11103807 0.13140604 0.13074901]\n",
      " [0.10808144 0.10709592 0.1044678  ... 0.13140604 0.13074901 0.14159001]\n",
      " [0.10709592 0.1044678  0.09986856 ... 0.13074901 0.14159001 0.14126146]\n",
      " ...\n",
      " [0.90735874 0.88272011 0.86432323 ... 0.56668848 0.5177398  0.52759525]\n",
      " [0.88272011 0.86432323 0.86859396 ... 0.5177398  0.52759525 0.50919834]\n",
      " [0.86432323 0.86859396 0.78876476 ... 0.52759525 0.50919834 0.54369252]]\n"
     ]
    }
   ],
   "source": [
    "print(X_train)"
   ]
  },
  {
   "cell_type": "code",
   "execution_count": 50,
   "metadata": {},
   "outputs": [
    {
     "name": "stdout",
     "output_type": "stream",
     "text": [
      "(1294, 60)\n",
      "(1294,)\n"
     ]
    }
   ],
   "source": [
    "print(X_train.shape)\n",
    "print(y_train.shape)"
   ]
  },
  {
   "cell_type": "code",
   "execution_count": 51,
   "metadata": {},
   "outputs": [
    {
     "data": {
      "text/plain": [
       "(1294, 60, 1)"
      ]
     },
     "execution_count": 51,
     "metadata": {},
     "output_type": "execute_result"
    }
   ],
   "source": [
    "# Reshape the data\n",
    "\n",
    "X_train = np.reshape(X_train,(X_train.shape[0],X_train.shape[1],1))\n",
    "X_train.shape"
   ]
  },
  {
   "cell_type": "code",
   "execution_count": 52,
   "metadata": {},
   "outputs": [],
   "source": [
    "# by Importing the Crucial Libraries \n",
    "\n",
    "from keras.models import Sequential\n",
    "from keras.layers import Dense, LSTM\n",
    "from keras.layers import Dropout"
   ]
  },
  {
   "cell_type": "code",
   "execution_count": 36,
   "metadata": {},
   "outputs": [],
   "source": [
    "# Building the Model by Adding Different Layers to LSTM\n",
    "\n",
    "regressor = Sequential()\n",
    "\n",
    "regressor.add(LSTM(units = 50, return_sequences=True, input_shape = (X_train.shape[1],1)))\n",
    "regressor.add(Dropout(0.2))\n",
    "\n",
    "regressor.add(LSTM(units=50, return_sequences=True))\n",
    "regressor.add(Dropout(0.2))\n",
    "\n",
    "regressor.add(LSTM(units=50, return_sequences=True))\n",
    "regressor.add(Dropout(0.2))\n",
    "\n",
    "regressor.add(LSTM(units=50))\n",
    "regressor.add(Dropout(0.2))\n",
    "\n",
    "regressor.add(Dense(units=1))\n"
   ]
  },
  {
   "cell_type": "code",
   "execution_count": 37,
   "metadata": {},
   "outputs": [
    {
     "name": "stdout",
     "output_type": "stream",
     "text": [
      "Epoch 1/100\n",
      "41/41 [==============================] - 8s 67ms/step - loss: 0.0320\n",
      "Epoch 2/100\n",
      "41/41 [==============================] - 3s 70ms/step - loss: 0.0064\n",
      "Epoch 3/100\n",
      "41/41 [==============================] - 3s 79ms/step - loss: 0.0067\n",
      "Epoch 4/100\n",
      "41/41 [==============================] - 4s 107ms/step - loss: 0.0066\n",
      "Epoch 5/100\n",
      "41/41 [==============================] - 4s 90ms/step - loss: 0.0055\n",
      "Epoch 6/100\n",
      "41/41 [==============================] - 4s 102ms/step - loss: 0.0054\n",
      "Epoch 7/100\n",
      "41/41 [==============================] - 4s 92ms/step - loss: 0.0053\n",
      "Epoch 8/100\n",
      "41/41 [==============================] - 4s 97ms/step - loss: 0.0053\n",
      "Epoch 9/100\n",
      "41/41 [==============================] - 4s 87ms/step - loss: 0.0048\n",
      "Epoch 10/100\n",
      "41/41 [==============================] - 4s 93ms/step - loss: 0.0042\n",
      "Epoch 11/100\n",
      "41/41 [==============================] - 4s 94ms/step - loss: 0.0054\n",
      "Epoch 12/100\n",
      "41/41 [==============================] - 4s 99ms/step - loss: 0.0039\n",
      "Epoch 13/100\n",
      "41/41 [==============================] - 3s 83ms/step - loss: 0.0039\n",
      "Epoch 14/100\n",
      "41/41 [==============================] - 4s 92ms/step - loss: 0.0038\n",
      "Epoch 15/100\n",
      "41/41 [==============================] - 5s 112ms/step - loss: 0.0037\n",
      "Epoch 16/100\n",
      "41/41 [==============================] - 4s 107ms/step - loss: 0.0035\n",
      "Epoch 17/100\n",
      "41/41 [==============================] - 4s 99ms/step - loss: 0.0037\n",
      "Epoch 18/100\n",
      "41/41 [==============================] - 4s 93ms/step - loss: 0.0032\n",
      "Epoch 19/100\n",
      "41/41 [==============================] - 4s 98ms/step - loss: 0.0032\n",
      "Epoch 20/100\n",
      "41/41 [==============================] - 4s 91ms/step - loss: 0.0033\n",
      "Epoch 21/100\n",
      "41/41 [==============================] - 4s 100ms/step - loss: 0.0029\n",
      "Epoch 22/100\n",
      "41/41 [==============================] - 4s 94ms/step - loss: 0.0027\n",
      "Epoch 23/100\n",
      "41/41 [==============================] - 4s 90ms/step - loss: 0.0031\n",
      "Epoch 24/100\n",
      "41/41 [==============================] - 4s 97ms/step - loss: 0.0029\n",
      "Epoch 25/100\n",
      "41/41 [==============================] - 4s 110ms/step - loss: 0.0025\n",
      "Epoch 26/100\n",
      "41/41 [==============================] - 4s 94ms/step - loss: 0.0030\n",
      "Epoch 27/100\n",
      "41/41 [==============================] - 4s 91ms/step - loss: 0.0027\n",
      "Epoch 28/100\n",
      "41/41 [==============================] - 4s 91ms/step - loss: 0.0026\n",
      "Epoch 29/100\n",
      "41/41 [==============================] - 4s 96ms/step - loss: 0.0025\n",
      "Epoch 30/100\n",
      "41/41 [==============================] - 4s 108ms/step - loss: 0.0023\n",
      "Epoch 31/100\n",
      "41/41 [==============================] - 4s 98ms/step - loss: 0.0023\n",
      "Epoch 32/100\n",
      "41/41 [==============================] - 4s 98ms/step - loss: 0.0023\n",
      "Epoch 33/100\n",
      "41/41 [==============================] - 4s 102ms/step - loss: 0.0026\n",
      "Epoch 34/100\n",
      "41/41 [==============================] - 4s 93ms/step - loss: 0.0023\n",
      "Epoch 35/100\n",
      "41/41 [==============================] - 4s 96ms/step - loss: 0.0024\n",
      "Epoch 36/100\n",
      "41/41 [==============================] - 4s 91ms/step - loss: 0.0024\n",
      "Epoch 37/100\n",
      "41/41 [==============================] - 4s 85ms/step - loss: 0.0022\n",
      "Epoch 38/100\n",
      "41/41 [==============================] - 3s 79ms/step - loss: 0.0021\n",
      "Epoch 39/100\n",
      "41/41 [==============================] - 3s 83ms/step - loss: 0.0021\n",
      "Epoch 40/100\n",
      "41/41 [==============================] - 3s 80ms/step - loss: 0.0022\n",
      "Epoch 41/100\n",
      "41/41 [==============================] - 4s 87ms/step - loss: 0.0023\n",
      "Epoch 42/100\n",
      "41/41 [==============================] - 3s 84ms/step - loss: 0.0021\n",
      "Epoch 43/100\n",
      "41/41 [==============================] - 3s 82ms/step - loss: 0.0019\n",
      "Epoch 44/100\n",
      "41/41 [==============================] - 3s 82ms/step - loss: 0.0020\n",
      "Epoch 45/100\n",
      "41/41 [==============================] - 3s 79ms/step - loss: 0.0022\n",
      "Epoch 46/100\n",
      "41/41 [==============================] - 3s 76ms/step - loss: 0.0020\n",
      "Epoch 47/100\n",
      "41/41 [==============================] - 3s 78ms/step - loss: 0.0020\n",
      "Epoch 48/100\n",
      "41/41 [==============================] - 4s 88ms/step - loss: 0.0017\n",
      "Epoch 49/100\n",
      "41/41 [==============================] - 4s 99ms/step - loss: 0.0019\n",
      "Epoch 50/100\n",
      "41/41 [==============================] - 4s 102ms/step - loss: 0.0018\n",
      "Epoch 51/100\n",
      "41/41 [==============================] - 4s 88ms/step - loss: 0.0018\n",
      "Epoch 52/100\n",
      "41/41 [==============================] - 4s 89ms/step - loss: 0.0017\n",
      "Epoch 53/100\n",
      "41/41 [==============================] - 4s 91ms/step - loss: 0.0017\n",
      "Epoch 54/100\n",
      "41/41 [==============================] - 4s 93ms/step - loss: 0.0016\n",
      "Epoch 55/100\n",
      "41/41 [==============================] - 6s 136ms/step - loss: 0.0016\n",
      "Epoch 56/100\n",
      "41/41 [==============================] - 3s 84ms/step - loss: 0.0017\n",
      "Epoch 57/100\n",
      "41/41 [==============================] - 4s 88ms/step - loss: 0.0016\n",
      "Epoch 58/100\n",
      "41/41 [==============================] - 4s 94ms/step - loss: 0.0017\n",
      "Epoch 59/100\n",
      "41/41 [==============================] - 4s 87ms/step - loss: 0.0017\n",
      "Epoch 60/100\n",
      "41/41 [==============================] - 4s 87ms/step - loss: 0.0016\n",
      "Epoch 61/100\n",
      "41/41 [==============================] - 4s 85ms/step - loss: 0.0018\n",
      "Epoch 62/100\n",
      "41/41 [==============================] - 3s 83ms/step - loss: 0.0017\n",
      "Epoch 63/100\n",
      "41/41 [==============================] - 4s 86ms/step - loss: 0.0017\n",
      "Epoch 64/100\n",
      "41/41 [==============================] - 4s 89ms/step - loss: 0.0017\n",
      "Epoch 65/100\n",
      "41/41 [==============================] - 4s 86ms/step - loss: 0.0017\n",
      "Epoch 66/100\n",
      "41/41 [==============================] - 4s 87ms/step - loss: 0.0015\n",
      "Epoch 67/100\n",
      "41/41 [==============================] - 4s 88ms/step - loss: 0.0015\n",
      "Epoch 68/100\n",
      "41/41 [==============================] - 4s 87ms/step - loss: 0.0015\n",
      "Epoch 69/100\n",
      "41/41 [==============================] - 3s 84ms/step - loss: 0.0016\n",
      "Epoch 70/100\n",
      "41/41 [==============================] - 4s 92ms/step - loss: 0.0016\n",
      "Epoch 71/100\n",
      "41/41 [==============================] - 4s 87ms/step - loss: 0.0016\n",
      "Epoch 72/100\n",
      "41/41 [==============================] - 4s 90ms/step - loss: 0.0014\n",
      "Epoch 73/100\n",
      "41/41 [==============================] - 4s 94ms/step - loss: 0.0017\n",
      "Epoch 74/100\n",
      "41/41 [==============================] - 4s 92ms/step - loss: 0.0016\n",
      "Epoch 75/100\n",
      "41/41 [==============================] - 4s 88ms/step - loss: 0.0016\n",
      "Epoch 76/100\n",
      "41/41 [==============================] - 4s 86ms/step - loss: 0.0013\n",
      "Epoch 77/100\n",
      "41/41 [==============================] - 3s 84ms/step - loss: 0.0014\n",
      "Epoch 78/100\n",
      "41/41 [==============================] - 3s 85ms/step - loss: 0.0017\n",
      "Epoch 79/100\n",
      "41/41 [==============================] - 3s 76ms/step - loss: 0.0013\n",
      "Epoch 80/100\n",
      "41/41 [==============================] - 4s 87ms/step - loss: 0.0015\n",
      "Epoch 81/100\n",
      "41/41 [==============================] - 3s 84ms/step - loss: 0.0014\n",
      "Epoch 82/100\n",
      "41/41 [==============================] - 4s 87ms/step - loss: 0.0013\n",
      "Epoch 83/100\n",
      "41/41 [==============================] - 4s 86ms/step - loss: 0.0013\n",
      "Epoch 84/100\n",
      "41/41 [==============================] - 4s 88ms/step - loss: 0.0012\n",
      "Epoch 85/100\n",
      "41/41 [==============================] - 3s 83ms/step - loss: 0.0014\n",
      "Epoch 86/100\n",
      "41/41 [==============================] - 3s 81ms/step - loss: 0.0012\n",
      "Epoch 87/100\n",
      "41/41 [==============================] - 4s 90ms/step - loss: 0.0014\n",
      "Epoch 88/100\n",
      "41/41 [==============================] - 4s 98ms/step - loss: 0.0012\n",
      "Epoch 89/100\n",
      "41/41 [==============================] - 3s 83ms/step - loss: 0.0012\n",
      "Epoch 90/100\n",
      "41/41 [==============================] - 4s 89ms/step - loss: 0.0013\n",
      "Epoch 91/100\n",
      "41/41 [==============================] - 3s 85ms/step - loss: 0.0013\n",
      "Epoch 92/100\n",
      "41/41 [==============================] - 4s 95ms/step - loss: 0.0011\n",
      "Epoch 93/100\n",
      "41/41 [==============================] - 4s 90ms/step - loss: 0.0013\n",
      "Epoch 94/100\n",
      "41/41 [==============================] - 4s 89ms/step - loss: 0.0011\n",
      "Epoch 95/100\n",
      "41/41 [==============================] - 3s 83ms/step - loss: 0.0010\n",
      "Epoch 96/100\n",
      "41/41 [==============================] - 4s 85ms/step - loss: 0.0013\n",
      "Epoch 97/100\n",
      "41/41 [==============================] - 4s 93ms/step - loss: 0.0012\n",
      "Epoch 98/100\n",
      "41/41 [==============================] - 3s 83ms/step - loss: 0.0011\n",
      "Epoch 99/100\n",
      "41/41 [==============================] - 3s 80ms/step - loss: 0.0012\n",
      "Epoch 100/100\n",
      "41/41 [==============================] - 3s 83ms/step - loss: 0.0011\n"
     ]
    },
    {
     "data": {
      "text/plain": [
       "<keras.callbacks.History at 0x1700a550b50>"
      ]
     },
     "execution_count": 37,
     "metadata": {},
     "output_type": "execute_result"
    }
   ],
   "source": [
    "# Fit the Model\n",
    "\n",
    "regressor.compile(optimizer='adam', loss = 'mean_squared_error')\n",
    "regressor.fit(X_train, y_train, epochs=100, batch_size=32)"
   ]
  },
  {
   "cell_type": "code",
   "execution_count": 53,
   "metadata": {},
   "outputs": [
    {
     "data": {
      "text/plain": [
       "array([[20.247801],\n",
       "       [20.625254],\n",
       "       [20.382603],\n",
       "       ...,\n",
       "       [34.810001],\n",
       "       [35.990002],\n",
       "       [34.880001]])"
      ]
     },
     "execution_count": 53,
     "metadata": {},
     "output_type": "execute_result"
    }
   ],
   "source": [
    "# Use the current close price as sample dataset for prediction\n",
    "\n",
    "data_test = data_train\n",
    "data_test\n"
   ]
  },
  {
   "cell_type": "code",
   "execution_count": 54,
   "metadata": {},
   "outputs": [],
   "source": [
    "# prepare the inputs for the prediction model\n",
    "\n",
    "dataset_total = pd.concat((data_train['Open'], data_train['Close']), axis = 0)\n",
    "inputs = dataset_total[len(dataset_total)-len(data_train)-60:].values\n",
    "\n",
    "inputs = inputs.reshape(-1,1)\n",
    "inputs = scaler.transform(inputs)"
   ]
  },
  {
   "cell_type": "code",
   "execution_count": 55,
   "metadata": {},
   "outputs": [],
   "source": [
    "X_test = []\n",
    "for x in range(60,80):\n",
    "    X_test.append(inputs[x-60:x,0])\n",
    "X_test = np.array(X_test)\n",
    "X_test=np.reshape(X_test,(X_test.shape[0], X_test.shape[1],1))"
   ]
  },
  {
   "cell_type": "code",
   "execution_count": 57,
   "metadata": {},
   "outputs": [
    {
     "data": {
      "text/plain": [
       "array([[0.5169291 ],\n",
       "       [0.3159221 ],\n",
       "       [0.14281648],\n",
       "       [0.0718516 ],\n",
       "       [0.06725964],\n",
       "       [0.07890184],\n",
       "       [0.09295359],\n",
       "       [0.10210103],\n",
       "       [0.10289277],\n",
       "       [0.1027471 ],\n",
       "       [0.08944821],\n",
       "       [0.08835991],\n",
       "       [0.09255838],\n",
       "       [0.09902154],\n",
       "       [0.10283369],\n",
       "       [0.11043498],\n",
       "       [0.12248456],\n",
       "       [0.13122039],\n",
       "       [0.13325581],\n",
       "       [0.12591574]], dtype=float32)"
      ]
     },
     "execution_count": 57,
     "metadata": {},
     "output_type": "execute_result"
    }
   ],
   "source": [
    "predicted_prices = regressor.predict(X_test)\n",
    "predicted_prices"
   ]
  },
  {
   "cell_type": "code",
   "execution_count": 59,
   "metadata": {},
   "outputs": [
    {
     "data": {
      "text/plain": [
       "array([[1097.408  ],\n",
       "       [ 911.1562 ],\n",
       "       [ 750.7576 ],\n",
       "       [ 685.002  ],\n",
       "       [ 680.74713],\n",
       "       [ 691.5347 ],\n",
       "       [ 704.555  ],\n",
       "       [ 713.031  ],\n",
       "       [ 713.7646 ],\n",
       "       [ 713.6296 ],\n",
       "       [ 701.30695],\n",
       "       [ 700.2986 ],\n",
       "       [ 704.18884],\n",
       "       [ 710.17755],\n",
       "       [ 713.7099 ],\n",
       "       [ 720.7532 ],\n",
       "       [ 731.9182 ],\n",
       "       [ 740.01276],\n",
       "       [ 741.8988 ],\n",
       "       [ 735.09753]], dtype=float32)"
      ]
     },
     "execution_count": 59,
     "metadata": {},
     "output_type": "execute_result"
    }
   ],
   "source": [
    "# List prices in the next 20 days: \n",
    "predicted_prices= scaler.inverse_transform(predicted_prices)\n",
    "predicted_prices"
   ]
  },
  {
   "cell_type": "code",
   "execution_count": 62,
   "metadata": {},
   "outputs": [
    {
     "data": {
      "text/plain": [
       "20"
      ]
     },
     "execution_count": 62,
     "metadata": {},
     "output_type": "execute_result"
    }
   ],
   "source": [
    "len(predicted_prices)\n"
   ]
  },
  {
   "cell_type": "code",
   "execution_count": 67,
   "metadata": {},
   "outputs": [
    {
     "ename": "TypeError",
     "evalue": "unhashable type: 'numpy.ndarray'",
     "output_type": "error",
     "traceback": [
      "\u001b[1;31m---------------------------------------------------------------------------\u001b[0m",
      "\u001b[1;31mTypeError\u001b[0m                                 Traceback (most recent call last)",
      "\u001b[1;32mc:\\Users\\TNBAUTISTA\\Documents\\StockAnalysis\\StockAnalysisProject4\\TB_ML_BAC_future_no_Y_test.ipynb Cell 20'\u001b[0m in \u001b[0;36m<cell line: 3>\u001b[1;34m()\u001b[0m\n\u001b[0;32m      <a href='vscode-notebook-cell:/c%3A/Users/TNBAUTISTA/Documents/StockAnalysis/StockAnalysisProject4/TB_ML_BAC_future_no_Y_test.ipynb#ch0000030?line=0'>1</a>\u001b[0m \u001b[39m# df in future 20days\u001b[39;00m\n\u001b[0;32m      <a href='vscode-notebook-cell:/c%3A/Users/TNBAUTISTA/Documents/StockAnalysis/StockAnalysisProject4/TB_ML_BAC_future_no_Y_test.ipynb#ch0000030?line=2'>3</a>\u001b[0m pd\u001b[39m.\u001b[39mDataFrame({\u001b[39m'\u001b[39m\u001b[39mDate\u001b[39m\u001b[39m'\u001b[39m: [\u001b[39m'\u001b[39m\u001b[39m2022-05-19\u001b[39m\u001b[39m'\u001b[39m,\u001b[39m'\u001b[39m\u001b[39m2022-05-20\u001b[39m\u001b[39m'\u001b[39m,\u001b[39m'\u001b[39m\u001b[39m2022-05-21\u001b[39m\u001b[39m'\u001b[39m,\n\u001b[0;32m      <a href='vscode-notebook-cell:/c%3A/Users/TNBAUTISTA/Documents/StockAnalysis/StockAnalysisProject4/TB_ML_BAC_future_no_Y_test.ipynb#ch0000030?line=3'>4</a>\u001b[0m                         \u001b[39m'\u001b[39m\u001b[39m2022-05-22\u001b[39m\u001b[39m'\u001b[39m,\u001b[39m'\u001b[39m\u001b[39m2022-05-22\u001b[39m\u001b[39m'\u001b[39m,\u001b[39m'\u001b[39m\u001b[39m2022-05-23\u001b[39m\u001b[39m'\u001b[39m],\n\u001b[1;32m----> <a href='vscode-notebook-cell:/c%3A/Users/TNBAUTISTA/Documents/StockAnalysis/StockAnalysisProject4/TB_ML_BAC_future_no_Y_test.ipynb#ch0000030?line=4'>5</a>\u001b[0m                      \u001b[39m'\u001b[39m\u001b[39mOpen Prices\u001b[39m\u001b[39m'\u001b[39m: {predicted_prices}\n\u001b[0;32m      <a href='vscode-notebook-cell:/c%3A/Users/TNBAUTISTA/Documents/StockAnalysis/StockAnalysisProject4/TB_ML_BAC_future_no_Y_test.ipynb#ch0000030?line=5'>6</a>\u001b[0m                      }\n\u001b[0;32m      <a href='vscode-notebook-cell:/c%3A/Users/TNBAUTISTA/Documents/StockAnalysis/StockAnalysisProject4/TB_ML_BAC_future_no_Y_test.ipynb#ch0000030?line=6'>7</a>\u001b[0m )\n",
      "\u001b[1;31mTypeError\u001b[0m: unhashable type: 'numpy.ndarray'"
     ]
    }
   ],
   "source": [
    "# df in future 20days\n",
    "\n",
    "pd.DataFrame({'Date': ['2022-05-19','2022-05-20','2022-05-21',\n",
    "                        '2022-05-22','2022-05-22','2022-05-23'],\n",
    "                     'Open Prices': {predicted_prices}\n",
    "                     }\n",
    ")"
   ]
  },
  {
   "cell_type": "code",
   "execution_count": 60,
   "metadata": {},
   "outputs": [
    {
     "data": {
      "image/png": "[encoded data removed]",
      "text/plain": [
       "<Figure size 432x288 with 1 Axes>"
      ]
     },
     "metadata": {
      "needs_background": "light"
     },
     "output_type": "display_data"
    }
   ],
   "source": [
    "plt.plot(data_train.iloc[:,1])\n",
    "plt.show()"
   ]
  },
  {
   "cell_type": "code",
   "execution_count": 61,
   "metadata": {},
   "outputs": [
    {
     "data": {
      "image/png": "[encoded data removed]",
      "text/plain": [
       "<Figure size 432x288 with 1 Axes>"
      ]
     },
     "metadata": {
      "needs_background": "light"
     },
     "output_type": "display_data"
    }
   ],
   "source": [
    "plt.plot(predicted_prices)\n",
    "plt.show()"
   ]
  },
  {
   "cell_type": "code",
   "execution_count": null,
   "metadata": {},
   "outputs": [],
   "source": []
  }
 ],
 "metadata": {
  "interpreter": {
   "hash": "28f48785ba2b4df99be2615d494f78c0a0d41557c5e588a59c1f4f92c99f64c8"
  },
  "kernelspec": {
   "display_name": "Python 3.10.4 64-bit",
   "language": "python",
   "name": "python3"
  },
  "language_info": {
   "codemirror_mode": {
    "name": "ipython",
    "version": 3
   },
   "file_extension": ".py",
   "mimetype": "text/x-python",
   "name": "python",
   "nbconvert_exporter": "python",
   "pygments_lexer": "ipython3",
   "version": "3.10.4"
  },
  "orig_nbformat": 4
 },
 "nbformat": 4,
 "nbformat_minor": 2
}
