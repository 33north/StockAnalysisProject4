{
 "cells": [
  {
   "cell_type": "code",
   "execution_count": 145,
   "metadata": {},
   "outputs": [],
   "source": [
    "#Importing the Libraries\n",
    "import pandas as pd\n",
    "\n",
    "from datetime import datetime\n",
    "\n",
    "import numpy as np\n",
    "%matplotlib inline\n",
    "import matplotlib.pyplot as plt\n",
    "import matplotlib\n",
    "from sklearn.preprocessing import MinMaxScaler\n",
    "import sklearn as skl\n",
    "\n",
    "from sklearn.model_selection import TimeSeriesSplit\n",
    "from sklearn.metrics import mean_squared_error, r2_score\n",
    "import matplotlib.dates as mandates\n",
    "from sklearn import linear_model\n",
    "%matplotlib inline\n"
   ]
  },
  {
   "cell_type": "code",
   "execution_count": 146,
   "metadata": {},
   "outputs": [
    {
     "data": {
      "text/html": [
       "<div>\n",
       "<style scoped>\n",
       "    .dataframe tbody tr th:only-of-type {\n",
       "        vertical-align: middle;\n",
       "    }\n",
       "\n",
       "    .dataframe tbody tr th {\n",
       "        vertical-align: top;\n",
       "    }\n",
       "\n",
       "    .dataframe thead th {\n",
       "        text-align: right;\n",
       "    }\n",
       "</style>\n",
       "<table border=\"1\" class=\"dataframe\">\n",
       "  <thead>\n",
       "    <tr style=\"text-align: right;\">\n",
       "      <th></th>\n",
       "      <th>Open</th>\n",
       "      <th>High</th>\n",
       "      <th>Low</th>\n",
       "      <th>Close</th>\n",
       "      <th>Adj Close</th>\n",
       "      <th>Volume</th>\n",
       "    </tr>\n",
       "    <tr>\n",
       "      <th>Date</th>\n",
       "      <th></th>\n",
       "      <th></th>\n",
       "      <th></th>\n",
       "      <th></th>\n",
       "      <th></th>\n",
       "      <th></th>\n",
       "    </tr>\n",
       "  </thead>\n",
       "  <tbody>\n",
       "    <tr>\n",
       "      <th>2022-05-18</th>\n",
       "      <td>35.619999</td>\n",
       "      <td>35.689999</td>\n",
       "      <td>34.599998</td>\n",
       "      <td>34.880001</td>\n",
       "      <td>34.880001</td>\n",
       "      <td>47396900</td>\n",
       "    </tr>\n",
       "    <tr>\n",
       "      <th>2022-05-17</th>\n",
       "      <td>35.619999</td>\n",
       "      <td>36.220001</td>\n",
       "      <td>35.430000</td>\n",
       "      <td>35.990002</td>\n",
       "      <td>35.990002</td>\n",
       "      <td>42635600</td>\n",
       "    </tr>\n",
       "    <tr>\n",
       "      <th>2022-05-16</th>\n",
       "      <td>35.000000</td>\n",
       "      <td>35.169998</td>\n",
       "      <td>34.410000</td>\n",
       "      <td>34.810001</td>\n",
       "      <td>34.810001</td>\n",
       "      <td>39076500</td>\n",
       "    </tr>\n",
       "    <tr>\n",
       "      <th>2022-05-13</th>\n",
       "      <td>35.529999</td>\n",
       "      <td>35.730000</td>\n",
       "      <td>34.759998</td>\n",
       "      <td>35.169998</td>\n",
       "      <td>35.169998</td>\n",
       "      <td>49069300</td>\n",
       "    </tr>\n",
       "    <tr>\n",
       "      <th>2022-05-12</th>\n",
       "      <td>35.009998</td>\n",
       "      <td>35.430000</td>\n",
       "      <td>34.259998</td>\n",
       "      <td>35.070000</td>\n",
       "      <td>35.070000</td>\n",
       "      <td>61231500</td>\n",
       "    </tr>\n",
       "    <tr>\n",
       "      <th>...</th>\n",
       "      <td>...</td>\n",
       "      <td>...</td>\n",
       "      <td>...</td>\n",
       "      <td>...</td>\n",
       "      <td>...</td>\n",
       "      <td>...</td>\n",
       "    </tr>\n",
       "    <tr>\n",
       "      <th>2017-01-09</th>\n",
       "      <td>22.510000</td>\n",
       "      <td>22.709999</td>\n",
       "      <td>22.400000</td>\n",
       "      <td>22.549999</td>\n",
       "      <td>20.265772</td>\n",
       "      <td>75901500</td>\n",
       "    </tr>\n",
       "    <tr>\n",
       "      <th>2017-01-06</th>\n",
       "      <td>22.780001</td>\n",
       "      <td>22.850000</td>\n",
       "      <td>22.559999</td>\n",
       "      <td>22.680000</td>\n",
       "      <td>20.382603</td>\n",
       "      <td>66281500</td>\n",
       "    </tr>\n",
       "    <tr>\n",
       "      <th>2017-01-05</th>\n",
       "      <td>22.820000</td>\n",
       "      <td>22.930000</td>\n",
       "      <td>22.350000</td>\n",
       "      <td>22.680000</td>\n",
       "      <td>20.382603</td>\n",
       "      <td>86826400</td>\n",
       "    </tr>\n",
       "    <tr>\n",
       "      <th>2017-01-04</th>\n",
       "      <td>22.719999</td>\n",
       "      <td>22.959999</td>\n",
       "      <td>22.600000</td>\n",
       "      <td>22.950001</td>\n",
       "      <td>20.625254</td>\n",
       "      <td>76875100</td>\n",
       "    </tr>\n",
       "    <tr>\n",
       "      <th>2017-01-03</th>\n",
       "      <td>22.600000</td>\n",
       "      <td>22.680000</td>\n",
       "      <td>22.200001</td>\n",
       "      <td>22.530001</td>\n",
       "      <td>20.247801</td>\n",
       "      <td>99298100</td>\n",
       "    </tr>\n",
       "  </tbody>\n",
       "</table>\n",
       "<p>1354 rows × 6 columns</p>\n",
       "</div>"
      ],
      "text/plain": [
       "                 Open       High        Low      Close  Adj Close    Volume\n",
       "Date                                                                       \n",
       "2022-05-18  35.619999  35.689999  34.599998  34.880001  34.880001  47396900\n",
       "2022-05-17  35.619999  36.220001  35.430000  35.990002  35.990002  42635600\n",
       "2022-05-16  35.000000  35.169998  34.410000  34.810001  34.810001  39076500\n",
       "2022-05-13  35.529999  35.730000  34.759998  35.169998  35.169998  49069300\n",
       "2022-05-12  35.009998  35.430000  34.259998  35.070000  35.070000  61231500\n",
       "...               ...        ...        ...        ...        ...       ...\n",
       "2017-01-09  22.510000  22.709999  22.400000  22.549999  20.265772  75901500\n",
       "2017-01-06  22.780001  22.850000  22.559999  22.680000  20.382603  66281500\n",
       "2017-01-05  22.820000  22.930000  22.350000  22.680000  20.382603  86826400\n",
       "2017-01-04  22.719999  22.959999  22.600000  22.950001  20.625254  76875100\n",
       "2017-01-03  22.600000  22.680000  22.200001  22.530001  20.247801  99298100\n",
       "\n",
       "[1354 rows x 6 columns]"
      ]
     },
     "execution_count": 146,
     "metadata": {},
     "output_type": "execute_result"
    }
   ],
   "source": [
    "#Get the Dataset\n",
    "data_train=pd.read_csv(\"NewData/BAC2016_2022.csv\",na_values=['null'],index_col='Date',parse_dates=True,infer_datetime_format=True)\n",
    "data_train.sort_values(by=\"Date\", ascending = False)"
   ]
  },
  {
   "cell_type": "code",
   "execution_count": 147,
   "metadata": {},
   "outputs": [
    {
     "data": {
      "text/plain": [
       "Open         float64\n",
       "High         float64\n",
       "Low          float64\n",
       "Close        float64\n",
       "Adj Close    float64\n",
       "Volume         int64\n",
       "dtype: object"
      ]
     },
     "execution_count": 147,
     "metadata": {},
     "output_type": "execute_result"
    }
   ],
   "source": [
    "data_train.dtypes"
   ]
  },
  {
   "cell_type": "code",
   "execution_count": 148,
   "metadata": {},
   "outputs": [
    {
     "name": "stdout",
     "output_type": "stream",
     "text": [
      "Dataframe Shape:  (1354, 6)\n",
      "Null Value Present:  False\n"
     ]
    }
   ],
   "source": [
    "#Print the shape of Dataframe  and Check for Null Values\n",
    "print(\"Dataframe Shape: \", data_train. shape)\n",
    "print(\"Null Value Present: \", data_train.isnull().values.any())"
   ]
  },
  {
   "cell_type": "code",
   "execution_count": 149,
   "metadata": {},
   "outputs": [
    {
     "name": "stdout",
     "output_type": "stream",
     "text": [
      "[[22.68    ]\n",
      " [22.959999]\n",
      " [22.93    ]\n",
      " ...\n",
      " [35.169998]\n",
      " [36.220001]\n",
      " [35.689999]]\n",
      "(1354, 1)\n"
     ]
    }
   ],
   "source": [
    "# Use close price to Train the model\n",
    "\n",
    "training_set = data_train.iloc[:,1:2].values\n",
    "print(training_set)\n",
    "print(training_set.shape)"
   ]
  },
  {
   "cell_type": "code",
   "execution_count": 150,
   "metadata": {},
   "outputs": [
    {
     "data": {
      "text/plain": [
       "array([[0.09888305],\n",
       "       [0.10808144],\n",
       "       [0.10709592],\n",
       "       ...,\n",
       "       [0.50919834],\n",
       "       [0.54369252],\n",
       "       [0.52628116]])"
      ]
     },
     "execution_count": 150,
     "metadata": {},
     "output_type": "execute_result"
    }
   ],
   "source": [
    "# Normalize the dataset (0,1): scale the dataset to be from 0 to 1: \n",
    "\n",
    "scaler = MinMaxScaler(feature_range = (0,1))\n",
    "scaled_training_set = scaler.fit_transform(training_set)\n",
    "scaled_training_set"
   ]
  },
  {
   "cell_type": "code",
   "execution_count": 151,
   "metadata": {},
   "outputs": [],
   "source": [
    "# Create X_train and y_train data structure\n",
    "\n",
    "X_train = []\n",
    "y_train = []\n",
    "for i in range(60,1354):\n",
    "    X_train.append(scaled_training_set[i-60:i,0])\n",
    "    y_train.append(scaled_training_set[i,0])\n",
    "X_train = np.array(X_train)\n",
    "y_train = np.array(y_train)\n"
   ]
  },
  {
   "cell_type": "code",
   "execution_count": 152,
   "metadata": {},
   "outputs": [
    {
     "name": "stdout",
     "output_type": "stream",
     "text": [
      "[[0.09888305 0.10808144 0.10709592 ... 0.11103807 0.13140604 0.13074901]\n",
      " [0.10808144 0.10709592 0.1044678  ... 0.13140604 0.13074901 0.14159001]\n",
      " [0.10709592 0.1044678  0.09986856 ... 0.13074901 0.14159001 0.14126146]\n",
      " ...\n",
      " [0.90735874 0.88272011 0.86432323 ... 0.56668848 0.5177398  0.52759525]\n",
      " [0.88272011 0.86432323 0.86859396 ... 0.5177398  0.52759525 0.50919834]\n",
      " [0.86432323 0.86859396 0.78876476 ... 0.52759525 0.50919834 0.54369252]]\n"
     ]
    }
   ],
   "source": [
    "print(X_train)"
   ]
  },
  {
   "cell_type": "code",
   "execution_count": 153,
   "metadata": {},
   "outputs": [
    {
     "name": "stdout",
     "output_type": "stream",
     "text": [
      "(1294, 60)\n",
      "(1294,)\n"
     ]
    }
   ],
   "source": [
    "print(X_train.shape)\n",
    "print(y_train.shape)"
   ]
  },
  {
   "cell_type": "code",
   "execution_count": 154,
   "metadata": {},
   "outputs": [
    {
     "data": {
      "text/plain": [
       "(1294, 60, 1)"
      ]
     },
     "execution_count": 154,
     "metadata": {},
     "output_type": "execute_result"
    }
   ],
   "source": [
    "# Reshape the data\n",
    "\n",
    "X_train = np.reshape(X_train,(X_train.shape[0],X_train.shape[1],1))\n",
    "X_train.shape"
   ]
  },
  {
   "cell_type": "code",
   "execution_count": 155,
   "metadata": {},
   "outputs": [],
   "source": [
    "# by Importing the Crucial Libraries \n",
    "\n",
    "from keras.models import Sequential\n",
    "from keras.layers import Dense, LSTM\n",
    "from keras.layers import Dropout"
   ]
  },
  {
   "cell_type": "code",
   "execution_count": 156,
   "metadata": {},
   "outputs": [],
   "source": [
    "# Building the Model by Adding Different Layers to LSTM\n",
    "\n",
    "regressor = Sequential()\n",
    "\n",
    "regressor.add(LSTM(units = 50, return_sequences=True, input_shape = (X_train.shape[1],1)))\n",
    "regressor.add(Dropout(0.2))\n",
    "\n",
    "regressor.add(LSTM(units=50, return_sequences=True))\n",
    "regressor.add(Dropout(0.2))\n",
    "\n",
    "regressor.add(LSTM(units=50, return_sequences=True))\n",
    "regressor.add(Dropout(0.2))\n",
    "\n",
    "regressor.add(LSTM(units=50))\n",
    "regressor.add(Dropout(0.2))\n",
    "\n",
    "regressor.add(Dense(units=1))\n"
   ]
  },
  {
   "cell_type": "code",
   "execution_count": 157,
   "metadata": {},
   "outputs": [
    {
     "name": "stdout",
     "output_type": "stream",
     "text": [
      "Epoch 1/30\n",
      "41/41 [==============================] - 5s 36ms/step - loss: 0.0239\n",
      "Epoch 2/30\n",
      "41/41 [==============================] - 2s 37ms/step - loss: 0.0071\n",
      "Epoch 3/30\n",
      "41/41 [==============================] - 2s 37ms/step - loss: 0.0067\n",
      "Epoch 4/30\n",
      "41/41 [==============================] - 1s 36ms/step - loss: 0.0064\n",
      "Epoch 5/30\n",
      "41/41 [==============================] - 1s 36ms/step - loss: 0.0058\n",
      "Epoch 6/30\n",
      "41/41 [==============================] - 1s 35ms/step - loss: 0.0054\n",
      "Epoch 7/30\n",
      "41/41 [==============================] - 1s 36ms/step - loss: 0.0048\n",
      "Epoch 8/30\n",
      "41/41 [==============================] - 1s 36ms/step - loss: 0.0052\n",
      "Epoch 9/30\n",
      "41/41 [==============================] - 1s 36ms/step - loss: 0.0050\n",
      "Epoch 10/30\n",
      "41/41 [==============================] - 1s 36ms/step - loss: 0.0046\n",
      "Epoch 11/30\n",
      "41/41 [==============================] - 1s 36ms/step - loss: 0.0039\n",
      "Epoch 12/30\n",
      "41/41 [==============================] - 1s 36ms/step - loss: 0.0039\n",
      "Epoch 13/30\n",
      "41/41 [==============================] - 1s 35ms/step - loss: 0.0039\n",
      "Epoch 14/30\n",
      "41/41 [==============================] - 1s 36ms/step - loss: 0.0042\n",
      "Epoch 15/30\n",
      "41/41 [==============================] - 1s 36ms/step - loss: 0.0035\n",
      "Epoch 16/30\n",
      "41/41 [==============================] - 2s 37ms/step - loss: 0.0034\n",
      "Epoch 17/30\n",
      "41/41 [==============================] - 2s 37ms/step - loss: 0.0031\n",
      "Epoch 18/30\n",
      "41/41 [==============================] - 2s 37ms/step - loss: 0.0029\n",
      "Epoch 19/30\n",
      "41/41 [==============================] - 1s 37ms/step - loss: 0.0028\n",
      "Epoch 20/30\n",
      "41/41 [==============================] - 1s 36ms/step - loss: 0.0029\n",
      "Epoch 21/30\n",
      "41/41 [==============================] - 2s 37ms/step - loss: 0.0024\n",
      "Epoch 22/30\n",
      "41/41 [==============================] - 1s 36ms/step - loss: 0.0026\n",
      "Epoch 23/30\n",
      "41/41 [==============================] - 2s 37ms/step - loss: 0.0030\n",
      "Epoch 24/30\n",
      "41/41 [==============================] - 2s 37ms/step - loss: 0.0025\n",
      "Epoch 25/30\n",
      "41/41 [==============================] - 1s 36ms/step - loss: 0.0029\n",
      "Epoch 26/30\n",
      "41/41 [==============================] - 1s 36ms/step - loss: 0.0025\n",
      "Epoch 27/30\n",
      "41/41 [==============================] - 1s 36ms/step - loss: 0.0026\n",
      "Epoch 28/30\n",
      "41/41 [==============================] - 1s 36ms/step - loss: 0.0023\n",
      "Epoch 29/30\n",
      "41/41 [==============================] - 1s 36ms/step - loss: 0.0023\n",
      "Epoch 30/30\n",
      "41/41 [==============================] - 1s 36ms/step - loss: 0.0022\n"
     ]
    },
    {
     "data": {
      "text/plain": [
       "<keras.callbacks.History at 0x1c7ed4036d0>"
      ]
     },
     "execution_count": 157,
     "metadata": {},
     "output_type": "execute_result"
    }
   ],
   "source": [
    "# Fit the Model\n",
    "\n",
    "regressor.compile(optimizer='adam', loss = 'mean_squared_error')\n",
    "regressor.fit(X_train, y_train, epochs=30, batch_size=32)"
   ]
  },
  {
   "cell_type": "code",
   "execution_count": 158,
   "metadata": {},
   "outputs": [
    {
     "data": {
      "text/html": [
       "<div>\n",
       "<style scoped>\n",
       "    .dataframe tbody tr th:only-of-type {\n",
       "        vertical-align: middle;\n",
       "    }\n",
       "\n",
       "    .dataframe tbody tr th {\n",
       "        vertical-align: top;\n",
       "    }\n",
       "\n",
       "    .dataframe thead th {\n",
       "        text-align: right;\n",
       "    }\n",
       "</style>\n",
       "<table border=\"1\" class=\"dataframe\">\n",
       "  <thead>\n",
       "    <tr style=\"text-align: right;\">\n",
       "      <th></th>\n",
       "      <th>Open</th>\n",
       "      <th>High</th>\n",
       "      <th>Low</th>\n",
       "      <th>Close</th>\n",
       "      <th>Adj Close</th>\n",
       "      <th>Volume</th>\n",
       "    </tr>\n",
       "    <tr>\n",
       "      <th>Date</th>\n",
       "      <th></th>\n",
       "      <th></th>\n",
       "      <th></th>\n",
       "      <th></th>\n",
       "      <th></th>\n",
       "      <th></th>\n",
       "    </tr>\n",
       "  </thead>\n",
       "  <tbody>\n",
       "    <tr>\n",
       "      <th>2017-01-03</th>\n",
       "      <td>22.600000</td>\n",
       "      <td>22.680000</td>\n",
       "      <td>22.200001</td>\n",
       "      <td>22.530001</td>\n",
       "      <td>20.247801</td>\n",
       "      <td>99298100</td>\n",
       "    </tr>\n",
       "    <tr>\n",
       "      <th>2017-01-04</th>\n",
       "      <td>22.719999</td>\n",
       "      <td>22.959999</td>\n",
       "      <td>22.600000</td>\n",
       "      <td>22.950001</td>\n",
       "      <td>20.625254</td>\n",
       "      <td>76875100</td>\n",
       "    </tr>\n",
       "    <tr>\n",
       "      <th>2017-01-05</th>\n",
       "      <td>22.820000</td>\n",
       "      <td>22.930000</td>\n",
       "      <td>22.350000</td>\n",
       "      <td>22.680000</td>\n",
       "      <td>20.382603</td>\n",
       "      <td>86826400</td>\n",
       "    </tr>\n",
       "    <tr>\n",
       "      <th>2017-01-06</th>\n",
       "      <td>22.780001</td>\n",
       "      <td>22.850000</td>\n",
       "      <td>22.559999</td>\n",
       "      <td>22.680000</td>\n",
       "      <td>20.382603</td>\n",
       "      <td>66281500</td>\n",
       "    </tr>\n",
       "    <tr>\n",
       "      <th>2017-01-09</th>\n",
       "      <td>22.510000</td>\n",
       "      <td>22.709999</td>\n",
       "      <td>22.400000</td>\n",
       "      <td>22.549999</td>\n",
       "      <td>20.265772</td>\n",
       "      <td>75901500</td>\n",
       "    </tr>\n",
       "    <tr>\n",
       "      <th>...</th>\n",
       "      <td>...</td>\n",
       "      <td>...</td>\n",
       "      <td>...</td>\n",
       "      <td>...</td>\n",
       "      <td>...</td>\n",
       "      <td>...</td>\n",
       "    </tr>\n",
       "    <tr>\n",
       "      <th>2022-05-12</th>\n",
       "      <td>35.009998</td>\n",
       "      <td>35.430000</td>\n",
       "      <td>34.259998</td>\n",
       "      <td>35.070000</td>\n",
       "      <td>35.070000</td>\n",
       "      <td>61231500</td>\n",
       "    </tr>\n",
       "    <tr>\n",
       "      <th>2022-05-13</th>\n",
       "      <td>35.529999</td>\n",
       "      <td>35.730000</td>\n",
       "      <td>34.759998</td>\n",
       "      <td>35.169998</td>\n",
       "      <td>35.169998</td>\n",
       "      <td>49069300</td>\n",
       "    </tr>\n",
       "    <tr>\n",
       "      <th>2022-05-16</th>\n",
       "      <td>35.000000</td>\n",
       "      <td>35.169998</td>\n",
       "      <td>34.410000</td>\n",
       "      <td>34.810001</td>\n",
       "      <td>34.810001</td>\n",
       "      <td>39076500</td>\n",
       "    </tr>\n",
       "    <tr>\n",
       "      <th>2022-05-17</th>\n",
       "      <td>35.619999</td>\n",
       "      <td>36.220001</td>\n",
       "      <td>35.430000</td>\n",
       "      <td>35.990002</td>\n",
       "      <td>35.990002</td>\n",
       "      <td>42635600</td>\n",
       "    </tr>\n",
       "    <tr>\n",
       "      <th>2022-05-18</th>\n",
       "      <td>35.619999</td>\n",
       "      <td>35.689999</td>\n",
       "      <td>34.599998</td>\n",
       "      <td>34.880001</td>\n",
       "      <td>34.880001</td>\n",
       "      <td>47396900</td>\n",
       "    </tr>\n",
       "  </tbody>\n",
       "</table>\n",
       "<p>1354 rows × 6 columns</p>\n",
       "</div>"
      ],
      "text/plain": [
       "                 Open       High        Low      Close  Adj Close    Volume\n",
       "Date                                                                       \n",
       "2017-01-03  22.600000  22.680000  22.200001  22.530001  20.247801  99298100\n",
       "2017-01-04  22.719999  22.959999  22.600000  22.950001  20.625254  76875100\n",
       "2017-01-05  22.820000  22.930000  22.350000  22.680000  20.382603  86826400\n",
       "2017-01-06  22.780001  22.850000  22.559999  22.680000  20.382603  66281500\n",
       "2017-01-09  22.510000  22.709999  22.400000  22.549999  20.265772  75901500\n",
       "...               ...        ...        ...        ...        ...       ...\n",
       "2022-05-12  35.009998  35.430000  34.259998  35.070000  35.070000  61231500\n",
       "2022-05-13  35.529999  35.730000  34.759998  35.169998  35.169998  49069300\n",
       "2022-05-16  35.000000  35.169998  34.410000  34.810001  34.810001  39076500\n",
       "2022-05-17  35.619999  36.220001  35.430000  35.990002  35.990002  42635600\n",
       "2022-05-18  35.619999  35.689999  34.599998  34.880001  34.880001  47396900\n",
       "\n",
       "[1354 rows x 6 columns]"
      ]
     },
     "execution_count": 158,
     "metadata": {},
     "output_type": "execute_result"
    }
   ],
   "source": [
    "# Use the current close price as sample dataset for prediction\n",
    "\n",
    "data_test = data_train\n",
    "data_test\n"
   ]
  },
  {
   "cell_type": "code",
   "execution_count": 159,
   "metadata": {},
   "outputs": [],
   "source": [
    "# prepare the inputs for the prediction model\n",
    "\n",
    "dataset_total = pd.concat((data_train['Open'], data_train['Close']), axis = 0)\n",
    "inputs = dataset_total[len(dataset_total)-len(data_train)-60:].values\n",
    "\n",
    "inputs = inputs.reshape(-1,1)\n",
    "inputs = scaler.transform(inputs)"
   ]
  },
  {
   "cell_type": "code",
   "execution_count": 160,
   "metadata": {},
   "outputs": [],
   "source": [
    "X_test = []\n",
    "for x in range(60,80):\n",
    "    X_test.append(inputs[x-60:x,0])\n",
    "X_test = np.array(X_test)\n",
    "X_test=np.reshape(X_test,(X_test.shape[0], X_test.shape[1],1))"
   ]
  },
  {
   "cell_type": "code",
   "execution_count": 161,
   "metadata": {},
   "outputs": [
    {
     "data": {
      "text/plain": [
       "array([[0.49674594],\n",
       "       [0.4665147 ],\n",
       "       [0.41306305],\n",
       "       [0.3416143 ],\n",
       "       [0.26228255],\n",
       "       [0.18519503],\n",
       "       [0.11895079],\n",
       "       [0.06962153],\n",
       "       [0.04008056],\n",
       "       [0.03019734],\n",
       "       [0.03608006],\n",
       "       [0.05276405],\n",
       "       [0.07495186],\n",
       "       [0.09803934],\n",
       "       [0.11846893],\n",
       "       [0.134505  ],\n",
       "       [0.14607981],\n",
       "       [0.15376338],\n",
       "       [0.15808846],\n",
       "       [0.15904456]], dtype=float32)"
      ]
     },
     "execution_count": 161,
     "metadata": {},
     "output_type": "execute_result"
    }
   ],
   "source": [
    "predicted_prices = regressor.predict(X_test)\n",
    "predicted_prices"
   ]
  },
  {
   "cell_type": "code",
   "execution_count": 162,
   "metadata": {},
   "outputs": [
    {
     "data": {
      "text/plain": [
       "array([[34.790947],\n",
       "       [33.87071 ],\n",
       "       [32.24364 ],\n",
       "       [30.06874 ],\n",
       "       [27.653881],\n",
       "       [25.307337],\n",
       "       [23.290863],\n",
       "       [21.789278],\n",
       "       [20.890053],\n",
       "       [20.589207],\n",
       "       [20.768278],\n",
       "       [21.276138],\n",
       "       [21.951534],\n",
       "       [22.654318],\n",
       "       [23.276196],\n",
       "       [23.764332],\n",
       "       [24.116669],\n",
       "       [24.350557],\n",
       "       [24.482212],\n",
       "       [24.511316]], dtype=float32)"
      ]
     },
     "execution_count": 162,
     "metadata": {},
     "output_type": "execute_result"
    }
   ],
   "source": [
    "# List prices in the next 20 days: \n",
    "predicted_prices= scaler.inverse_transform(predicted_prices)\n",
    "predicted_prices"
   ]
  },
  {
   "cell_type": "code",
   "execution_count": 163,
   "metadata": {},
   "outputs": [
    {
     "data": {
      "text/plain": [
       "20"
      ]
     },
     "execution_count": 163,
     "metadata": {},
     "output_type": "execute_result"
    }
   ],
   "source": [
    "len(predicted_prices)\n"
   ]
  },
  {
   "cell_type": "code",
   "execution_count": 164,
   "metadata": {},
   "outputs": [
    {
     "data": {
      "text/html": [
       "<div>\n",
       "<style scoped>\n",
       "    .dataframe tbody tr th:only-of-type {\n",
       "        vertical-align: middle;\n",
       "    }\n",
       "\n",
       "    .dataframe tbody tr th {\n",
       "        vertical-align: top;\n",
       "    }\n",
       "\n",
       "    .dataframe thead th {\n",
       "        text-align: right;\n",
       "    }\n",
       "</style>\n",
       "<table border=\"1\" class=\"dataframe\">\n",
       "  <thead>\n",
       "    <tr style=\"text-align: right;\">\n",
       "      <th></th>\n",
       "      <th>pred_close</th>\n",
       "    </tr>\n",
       "    <tr>\n",
       "      <th>Date</th>\n",
       "      <th></th>\n",
       "    </tr>\n",
       "  </thead>\n",
       "  <tbody>\n",
       "    <tr>\n",
       "      <th>2022-05-19</th>\n",
       "      <td>34.790947</td>\n",
       "    </tr>\n",
       "    <tr>\n",
       "      <th>2022-05-20</th>\n",
       "      <td>33.870708</td>\n",
       "    </tr>\n",
       "    <tr>\n",
       "      <th>2022-05-21</th>\n",
       "      <td>32.243641</td>\n",
       "    </tr>\n",
       "    <tr>\n",
       "      <th>2022-05-22</th>\n",
       "      <td>30.068741</td>\n",
       "    </tr>\n",
       "    <tr>\n",
       "      <th>2022-05-23</th>\n",
       "      <td>27.653881</td>\n",
       "    </tr>\n",
       "    <tr>\n",
       "      <th>2022-05-24</th>\n",
       "      <td>25.307337</td>\n",
       "    </tr>\n",
       "    <tr>\n",
       "      <th>2022-05-25</th>\n",
       "      <td>23.290863</td>\n",
       "    </tr>\n",
       "    <tr>\n",
       "      <th>2022-05-26</th>\n",
       "      <td>21.789278</td>\n",
       "    </tr>\n",
       "    <tr>\n",
       "      <th>2022-05-27</th>\n",
       "      <td>20.890053</td>\n",
       "    </tr>\n",
       "    <tr>\n",
       "      <th>2022-05-28</th>\n",
       "      <td>20.589207</td>\n",
       "    </tr>\n",
       "    <tr>\n",
       "      <th>2022-05-29</th>\n",
       "      <td>20.768278</td>\n",
       "    </tr>\n",
       "    <tr>\n",
       "      <th>2022-05-30</th>\n",
       "      <td>21.276138</td>\n",
       "    </tr>\n",
       "    <tr>\n",
       "      <th>2022-05-31</th>\n",
       "      <td>21.951534</td>\n",
       "    </tr>\n",
       "    <tr>\n",
       "      <th>2022-06-01</th>\n",
       "      <td>22.654318</td>\n",
       "    </tr>\n",
       "    <tr>\n",
       "      <th>2022-06-02</th>\n",
       "      <td>23.276196</td>\n",
       "    </tr>\n",
       "    <tr>\n",
       "      <th>2022-06-03</th>\n",
       "      <td>23.764332</td>\n",
       "    </tr>\n",
       "    <tr>\n",
       "      <th>2022-06-04</th>\n",
       "      <td>24.116669</td>\n",
       "    </tr>\n",
       "    <tr>\n",
       "      <th>2022-06-05</th>\n",
       "      <td>24.350557</td>\n",
       "    </tr>\n",
       "    <tr>\n",
       "      <th>2022-06-06</th>\n",
       "      <td>24.482212</td>\n",
       "    </tr>\n",
       "    <tr>\n",
       "      <th>2022-06-07</th>\n",
       "      <td>24.511316</td>\n",
       "    </tr>\n",
       "  </tbody>\n",
       "</table>\n",
       "</div>"
      ],
      "text/plain": [
       "            pred_close\n",
       "Date                  \n",
       "2022-05-19   34.790947\n",
       "2022-05-20   33.870708\n",
       "2022-05-21   32.243641\n",
       "2022-05-22   30.068741\n",
       "2022-05-23   27.653881\n",
       "2022-05-24   25.307337\n",
       "2022-05-25   23.290863\n",
       "2022-05-26   21.789278\n",
       "2022-05-27   20.890053\n",
       "2022-05-28   20.589207\n",
       "2022-05-29   20.768278\n",
       "2022-05-30   21.276138\n",
       "2022-05-31   21.951534\n",
       "2022-06-01   22.654318\n",
       "2022-06-02   23.276196\n",
       "2022-06-03   23.764332\n",
       "2022-06-04   24.116669\n",
       "2022-06-05   24.350557\n",
       "2022-06-06   24.482212\n",
       "2022-06-07   24.511316"
      ]
     },
     "execution_count": 164,
     "metadata": {},
     "output_type": "execute_result"
    }
   ],
   "source": [
    "# df in future 20days\n",
    "\n",
    "pred_df=pd.DataFrame({'Date': ['2022-05-19','2022-05-20','2022-05-21','2022-05-22',\n",
    "                        '2022-05-23','2022-05-24','2022-05-25','2022-05-26',\n",
    "                        '2022-05-27','2022-05-28','2022-05-29','2022-05-30',\n",
    "                        '2022-05-31','2022-06-01','2022-06-02','2022-06-03',\n",
    "                        '2022-06-04','2022-06-05','2022-06-06','2022-06-07'\n",
    "                        ]\n",
    "                     }\n",
    ")\n",
    "pred_df['pred_close']=predicted_prices\n",
    "pred_df.set_index('Date', inplace=True)\n",
    "pred_df.head(21)"
   ]
  },
  {
   "cell_type": "code",
   "execution_count": 165,
   "metadata": {},
   "outputs": [
    {
     "data": {
      "text/plain": [
       "Date\n",
       "2022-04-21    40.209999\n",
       "2022-04-22    38.849998\n",
       "2022-04-25    37.400002\n",
       "2022-04-26    37.540001\n",
       "2022-04-27    36.910000\n",
       "2022-04-28    36.950001\n",
       "2022-04-29    37.130001\n",
       "2022-05-02    36.279999\n",
       "2022-05-03    37.630001\n",
       "2022-05-04    38.750000\n",
       "2022-05-05    38.209999\n",
       "2022-05-06    37.619999\n",
       "2022-05-09    37.060001\n",
       "2022-05-10    37.130001\n",
       "2022-05-11    36.919998\n",
       "2022-05-12    35.430000\n",
       "2022-05-13    35.730000\n",
       "2022-05-16    35.169998\n",
       "2022-05-17    36.220001\n",
       "2022-05-18    35.689999\n",
       "Name: High, dtype: float64"
      ]
     },
     "execution_count": 165,
     "metadata": {},
     "output_type": "execute_result"
    }
   ],
   "source": [
    "data_train.iloc[1334:1354,1]"
   ]
  },
  {
   "cell_type": "code",
   "execution_count": 166,
   "metadata": {},
   "outputs": [
    {
     "data": {
      "text/plain": [
       "1354"
      ]
     },
     "execution_count": 166,
     "metadata": {},
     "output_type": "execute_result"
    }
   ],
   "source": [
    "len(data_train.iloc[:,1])"
   ]
  },
  {
   "cell_type": "code",
   "execution_count": 167,
   "metadata": {},
   "outputs": [
    {
     "data": {
      "image/png": "[encoded data removed]",
      "text/plain": [
       "<Figure size 432x288 with 1 Axes>"
      ]
     },
     "metadata": {
      "needs_background": "light"
     },
     "output_type": "display_data"
    },
    {
     "data": {
      "text/plain": [
       "<Figure size 2880x1440 with 0 Axes>"
      ]
     },
     "metadata": {},
     "output_type": "display_data"
    }
   ],
   "source": [
    "plt.plot(data_train.iloc[1334:1354,1])\n",
    "plt.xticks(rotation=45)\n",
    "plt.figure(figsize = (40,20))\n",
    "plt.tight_layout()"
   ]
  },
  {
   "cell_type": "code",
   "execution_count": 168,
   "metadata": {},
   "outputs": [
    {
     "data": {
      "image/png": "[encoded data removed]",
      "text/plain": [
       "<Figure size 432x288 with 1 Axes>"
      ]
     },
     "metadata": {
      "needs_background": "light"
     },
     "output_type": "display_data"
    }
   ],
   "source": [
    "plt.plot(pred_df['pred_close'])\n",
    "plt.xticks(rotation = 45)\n",
    "plt.tight_layout()"
   ]
  },
  {
   "cell_type": "code",
   "execution_count": 169,
   "metadata": {},
   "outputs": [
    {
     "data": {
      "text/html": [
       "<div>\n",
       "<style scoped>\n",
       "    .dataframe tbody tr th:only-of-type {\n",
       "        vertical-align: middle;\n",
       "    }\n",
       "\n",
       "    .dataframe tbody tr th {\n",
       "        vertical-align: top;\n",
       "    }\n",
       "\n",
       "    .dataframe thead th {\n",
       "        text-align: right;\n",
       "    }\n",
       "</style>\n",
       "<table border=\"1\" class=\"dataframe\">\n",
       "  <thead>\n",
       "    <tr style=\"text-align: right;\">\n",
       "      <th></th>\n",
       "      <th>pred_close</th>\n",
       "    </tr>\n",
       "    <tr>\n",
       "      <th>Date</th>\n",
       "      <th></th>\n",
       "    </tr>\n",
       "  </thead>\n",
       "  <tbody>\n",
       "    <tr>\n",
       "      <th>2022-05-19</th>\n",
       "      <td>34.790947</td>\n",
       "    </tr>\n",
       "    <tr>\n",
       "      <th>2022-05-20</th>\n",
       "      <td>33.870708</td>\n",
       "    </tr>\n",
       "    <tr>\n",
       "      <th>2022-05-21</th>\n",
       "      <td>32.243641</td>\n",
       "    </tr>\n",
       "    <tr>\n",
       "      <th>2022-05-22</th>\n",
       "      <td>30.068741</td>\n",
       "    </tr>\n",
       "    <tr>\n",
       "      <th>2022-05-23</th>\n",
       "      <td>27.653881</td>\n",
       "    </tr>\n",
       "  </tbody>\n",
       "</table>\n",
       "</div>"
      ],
      "text/plain": [
       "            pred_close\n",
       "Date                  \n",
       "2022-05-19   34.790947\n",
       "2022-05-20   33.870708\n",
       "2022-05-21   32.243641\n",
       "2022-05-22   30.068741\n",
       "2022-05-23   27.653881"
      ]
     },
     "execution_count": 169,
     "metadata": {},
     "output_type": "execute_result"
    }
   ],
   "source": [
    "pred_df.head()"
   ]
  }
 ],
 "metadata": {
  "interpreter": {
   "hash": "28f48785ba2b4df99be2615d494f78c0a0d41557c5e588a59c1f4f92c99f64c8"
  },
  "kernelspec": {
   "display_name": "Python 3.10.4 64-bit",
   "language": "python",
   "name": "python3"
  },
  "language_info": {
   "codemirror_mode": {
    "name": "ipython",
    "version": 3
   },
   "file_extension": ".py",
   "mimetype": "text/x-python",
   "name": "python",
   "nbconvert_exporter": "python",
   "pygments_lexer": "ipython3",
   "version": "3.10.4"
  },
  "orig_nbformat": 4
 },
 "nbformat": 4,
 "nbformat_minor": 2
}
