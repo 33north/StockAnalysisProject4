{
 "cells": [
  {
   "cell_type": "code",
   "execution_count": 2,
   "metadata": {},
   "outputs": [],
   "source": [
    "#Importing the Libraries\n",
    "import pandas as pd\n",
    "import numpy as np\n",
    "%matplotlib inline\n",
    "import matplotlib.pyplot as plt\n",
    "import matplotlib\n",
    "from sklearn.preprocessing import MinMaxScaler\n",
    "from sklearn.preprocessing import LabelEncoder\n",
    "import sklearn as skl\n",
    "\n",
    "from sklearn.model_selection import TimeSeriesSplit\n",
    "from sklearn.metrics import mean_squared_error, r2_score\n",
    "import matplotlib.dates as mandates\n",
    "from sklearn import linear_model \n",
    "# from keras.models import Sequential\n",
    "# from keras.layers import Dense\n",
    "# import keras.backend as K\n",
    "# from keras.callbacks import EarlyStopping\n",
    "#from keras.optimizers import Adam\n",
    "# from keras.models import load_model\n",
    "# from keras.layers import LSTM\n",
    "# from keras.utils.vis_utils import plot_model\n"
   ]
  },
  {
   "cell_type": "code",
   "execution_count": 3,
   "metadata": {},
   "outputs": [
    {
     "data": {
      "text/html": [
       "<div>\n",
       "<style scoped>\n",
       "    .dataframe tbody tr th:only-of-type {\n",
       "        vertical-align: middle;\n",
       "    }\n",
       "\n",
       "    .dataframe tbody tr th {\n",
       "        vertical-align: top;\n",
       "    }\n",
       "\n",
       "    .dataframe thead th {\n",
       "        text-align: right;\n",
       "    }\n",
       "</style>\n",
       "<table border=\"1\" class=\"dataframe\">\n",
       "  <thead>\n",
       "    <tr style=\"text-align: right;\">\n",
       "      <th></th>\n",
       "      <th>date</th>\n",
       "      <th>open</th>\n",
       "      <th>high</th>\n",
       "      <th>low</th>\n",
       "      <th>close</th>\n",
       "      <th>volume</th>\n",
       "      <th>Name</th>\n",
       "    </tr>\n",
       "  </thead>\n",
       "  <tbody>\n",
       "    <tr>\n",
       "      <th>0</th>\n",
       "      <td>2/8/2013</td>\n",
       "      <td>11.86</td>\n",
       "      <td>11.90</td>\n",
       "      <td>11.72</td>\n",
       "      <td>11.760</td>\n",
       "      <td>145217221</td>\n",
       "      <td>BAC</td>\n",
       "    </tr>\n",
       "    <tr>\n",
       "      <th>1</th>\n",
       "      <td>2/11/2013</td>\n",
       "      <td>11.73</td>\n",
       "      <td>11.90</td>\n",
       "      <td>11.67</td>\n",
       "      <td>11.860</td>\n",
       "      <td>103499848</td>\n",
       "      <td>BAC</td>\n",
       "    </tr>\n",
       "    <tr>\n",
       "      <th>2</th>\n",
       "      <td>2/12/2013</td>\n",
       "      <td>11.87</td>\n",
       "      <td>12.34</td>\n",
       "      <td>11.78</td>\n",
       "      <td>12.245</td>\n",
       "      <td>231771561</td>\n",
       "      <td>BAC</td>\n",
       "    </tr>\n",
       "    <tr>\n",
       "      <th>3</th>\n",
       "      <td>2/13/2013</td>\n",
       "      <td>12.35</td>\n",
       "      <td>12.42</td>\n",
       "      <td>12.05</td>\n",
       "      <td>12.170</td>\n",
       "      <td>192478919</td>\n",
       "      <td>BAC</td>\n",
       "    </tr>\n",
       "    <tr>\n",
       "      <th>4</th>\n",
       "      <td>2/14/2013</td>\n",
       "      <td>12.09</td>\n",
       "      <td>12.27</td>\n",
       "      <td>12.07</td>\n",
       "      <td>12.130</td>\n",
       "      <td>143901737</td>\n",
       "      <td>BAC</td>\n",
       "    </tr>\n",
       "  </tbody>\n",
       "</table>\n",
       "</div>"
      ],
      "text/plain": [
       "        date   open   high    low   close     volume Name\n",
       "0   2/8/2013  11.86  11.90  11.72  11.760  145217221  BAC\n",
       "1  2/11/2013  11.73  11.90  11.67  11.860  103499848  BAC\n",
       "2  2/12/2013  11.87  12.34  11.78  12.245  231771561  BAC\n",
       "3  2/13/2013  12.35  12.42  12.05  12.170  192478919  BAC\n",
       "4  2/14/2013  12.09  12.27  12.07  12.130  143901737  BAC"
      ]
     },
     "execution_count": 3,
     "metadata": {},
     "output_type": "execute_result"
    }
   ],
   "source": [
    "#Get the Dataset\n",
    "df=pd.read_csv(\"BACstock.csv\",na_values=['null'],parse_dates=True,infer_datetime_format=True)\n",
    "df.head()"
   ]
  },
  {
   "cell_type": "code",
   "execution_count": 5,
   "metadata": {},
   "outputs": [
    {
     "name": "stdout",
     "output_type": "stream",
     "text": [
      "Dataframe Shape:  (1259, 7)\n",
      "Null Value Present:  False\n"
     ]
    }
   ],
   "source": [
    "#Print the shape of Dataframe  and Check for Null Values\n",
    "print(\"Dataframe Shape: \", df. shape)\n",
    "print(\"Null Value Present: \", df.isnull().values.any())"
   ]
  },
  {
   "cell_type": "code",
   "execution_count": 6,
   "metadata": {},
   "outputs": [
    {
     "data": {
      "text/plain": [
       "<AxesSubplot:>"
      ]
     },
     "execution_count": 6,
     "metadata": {},
     "output_type": "execute_result"
    },
    {
     "data": {
      "image/png": "[encoded data removed]",
      "text/plain": [
       "<Figure size 432x288 with 1 Axes>"
      ]
     },
     "metadata": {
      "needs_background": "light"
     },
     "output_type": "display_data"
    }
   ],
   "source": [
    "#Plot the True Adj Close Value\n",
    "df[\"close\"].plot()"
   ]
  },
  {
   "cell_type": "code",
   "execution_count": 7,
   "metadata": {},
   "outputs": [
    {
     "data": {
      "text/plain": [
       "0       11.760\n",
       "1       11.860\n",
       "2       12.245\n",
       "3       12.170\n",
       "4       12.130\n",
       "         ...  \n",
       "1254    32.500\n",
       "1255    31.950\n",
       "1256    30.260\n",
       "1257    31.200\n",
       "1258    31.250\n",
       "Name: close, Length: 1259, dtype: float64"
      ]
     },
     "execution_count": 7,
     "metadata": {},
     "output_type": "execute_result"
    }
   ],
   "source": [
    "#Set Target Variable\n",
    "testdf = df[\"close\"]\n",
    "testdf\n"
   ]
  },
  {
   "cell_type": "code",
   "execution_count": 8,
   "metadata": {},
   "outputs": [
    {
     "data": {
      "text/html": [
       "<div>\n",
       "<style scoped>\n",
       "    .dataframe tbody tr th:only-of-type {\n",
       "        vertical-align: middle;\n",
       "    }\n",
       "\n",
       "    .dataframe tbody tr th {\n",
       "        vertical-align: top;\n",
       "    }\n",
       "\n",
       "    .dataframe thead th {\n",
       "        text-align: right;\n",
       "    }\n",
       "</style>\n",
       "<table border=\"1\" class=\"dataframe\">\n",
       "  <thead>\n",
       "    <tr style=\"text-align: right;\">\n",
       "      <th></th>\n",
       "      <th>open</th>\n",
       "      <th>high</th>\n",
       "      <th>low</th>\n",
       "      <th>volume</th>\n",
       "    </tr>\n",
       "  </thead>\n",
       "  <tbody>\n",
       "    <tr>\n",
       "      <th>0</th>\n",
       "      <td>11.86</td>\n",
       "      <td>11.90</td>\n",
       "      <td>11.72</td>\n",
       "      <td>145217221</td>\n",
       "    </tr>\n",
       "    <tr>\n",
       "      <th>1</th>\n",
       "      <td>11.73</td>\n",
       "      <td>11.90</td>\n",
       "      <td>11.67</td>\n",
       "      <td>103499848</td>\n",
       "    </tr>\n",
       "    <tr>\n",
       "      <th>2</th>\n",
       "      <td>11.87</td>\n",
       "      <td>12.34</td>\n",
       "      <td>11.78</td>\n",
       "      <td>231771561</td>\n",
       "    </tr>\n",
       "    <tr>\n",
       "      <th>3</th>\n",
       "      <td>12.35</td>\n",
       "      <td>12.42</td>\n",
       "      <td>12.05</td>\n",
       "      <td>192478919</td>\n",
       "    </tr>\n",
       "    <tr>\n",
       "      <th>4</th>\n",
       "      <td>12.09</td>\n",
       "      <td>12.27</td>\n",
       "      <td>12.07</td>\n",
       "      <td>143901737</td>\n",
       "    </tr>\n",
       "    <tr>\n",
       "      <th>...</th>\n",
       "      <td>...</td>\n",
       "      <td>...</td>\n",
       "      <td>...</td>\n",
       "      <td>...</td>\n",
       "    </tr>\n",
       "    <tr>\n",
       "      <th>1254</th>\n",
       "      <td>32.00</td>\n",
       "      <td>32.50</td>\n",
       "      <td>31.96</td>\n",
       "      <td>62367448</td>\n",
       "    </tr>\n",
       "    <tr>\n",
       "      <th>1255</th>\n",
       "      <td>32.44</td>\n",
       "      <td>32.67</td>\n",
       "      <td>31.86</td>\n",
       "      <td>96971924</td>\n",
       "    </tr>\n",
       "    <tr>\n",
       "      <th>1256</th>\n",
       "      <td>31.12</td>\n",
       "      <td>31.98</td>\n",
       "      <td>29.15</td>\n",
       "      <td>155908256</td>\n",
       "    </tr>\n",
       "    <tr>\n",
       "      <th>1257</th>\n",
       "      <td>29.41</td>\n",
       "      <td>31.29</td>\n",
       "      <td>29.30</td>\n",
       "      <td>165878399</td>\n",
       "    </tr>\n",
       "    <tr>\n",
       "      <th>1258</th>\n",
       "      <td>31.12</td>\n",
       "      <td>31.74</td>\n",
       "      <td>30.86</td>\n",
       "      <td>101180515</td>\n",
       "    </tr>\n",
       "  </tbody>\n",
       "</table>\n",
       "<p>1259 rows × 4 columns</p>\n",
       "</div>"
      ],
      "text/plain": [
       "       open   high    low     volume\n",
       "0     11.86  11.90  11.72  145217221\n",
       "1     11.73  11.90  11.67  103499848\n",
       "2     11.87  12.34  11.78  231771561\n",
       "3     12.35  12.42  12.05  192478919\n",
       "4     12.09  12.27  12.07  143901737\n",
       "...     ...    ...    ...        ...\n",
       "1254  32.00  32.50  31.96   62367448\n",
       "1255  32.44  32.67  31.86   96971924\n",
       "1256  31.12  31.98  29.15  155908256\n",
       "1257  29.41  31.29  29.30  165878399\n",
       "1258  31.12  31.74  30.86  101180515\n",
       "\n",
       "[1259 rows x 4 columns]"
      ]
     },
     "execution_count": 8,
     "metadata": {},
     "output_type": "execute_result"
    }
   ],
   "source": [
    "#Selecting the Features\n",
    "traindf = df.drop(columns=['close','Name','date'])\n",
    "traindf"
   ]
  },
  {
   "cell_type": "code",
   "execution_count": 11,
   "metadata": {},
   "outputs": [],
   "source": [
    "#Scaling\n",
    "# scaler = MinMaxScaler()\n",
    "# feature_transform = scaler.fit_transform(testdf)\n",
    "# feature_transform = pd.DataFrame(columns='close', data=traindf, index=df.index)\n",
    "# feature_transform.head()"
   ]
  },
  {
   "cell_type": "code",
   "execution_count": 53,
   "metadata": {},
   "outputs": [],
   "source": [
    "X = traindf\n",
    "y = testdf"
   ]
  },
  {
   "cell_type": "code",
   "execution_count": 54,
   "metadata": {},
   "outputs": [
    {
     "data": {
      "text/html": [
       "<div>\n",
       "<style scoped>\n",
       "    .dataframe tbody tr th:only-of-type {\n",
       "        vertical-align: middle;\n",
       "    }\n",
       "\n",
       "    .dataframe tbody tr th {\n",
       "        vertical-align: top;\n",
       "    }\n",
       "\n",
       "    .dataframe thead th {\n",
       "        text-align: right;\n",
       "    }\n",
       "</style>\n",
       "<table border=\"1\" class=\"dataframe\">\n",
       "  <thead>\n",
       "    <tr style=\"text-align: right;\">\n",
       "      <th></th>\n",
       "      <th>open</th>\n",
       "      <th>high</th>\n",
       "      <th>low</th>\n",
       "      <th>volume</th>\n",
       "    </tr>\n",
       "  </thead>\n",
       "  <tbody>\n",
       "    <tr>\n",
       "      <th>0</th>\n",
       "      <td>11.86</td>\n",
       "      <td>11.90</td>\n",
       "      <td>11.72</td>\n",
       "      <td>145217221</td>\n",
       "    </tr>\n",
       "    <tr>\n",
       "      <th>1</th>\n",
       "      <td>11.73</td>\n",
       "      <td>11.90</td>\n",
       "      <td>11.67</td>\n",
       "      <td>103499848</td>\n",
       "    </tr>\n",
       "    <tr>\n",
       "      <th>2</th>\n",
       "      <td>11.87</td>\n",
       "      <td>12.34</td>\n",
       "      <td>11.78</td>\n",
       "      <td>231771561</td>\n",
       "    </tr>\n",
       "    <tr>\n",
       "      <th>3</th>\n",
       "      <td>12.35</td>\n",
       "      <td>12.42</td>\n",
       "      <td>12.05</td>\n",
       "      <td>192478919</td>\n",
       "    </tr>\n",
       "    <tr>\n",
       "      <th>4</th>\n",
       "      <td>12.09</td>\n",
       "      <td>12.27</td>\n",
       "      <td>12.07</td>\n",
       "      <td>143901737</td>\n",
       "    </tr>\n",
       "    <tr>\n",
       "      <th>...</th>\n",
       "      <td>...</td>\n",
       "      <td>...</td>\n",
       "      <td>...</td>\n",
       "      <td>...</td>\n",
       "    </tr>\n",
       "    <tr>\n",
       "      <th>1254</th>\n",
       "      <td>32.00</td>\n",
       "      <td>32.50</td>\n",
       "      <td>31.96</td>\n",
       "      <td>62367448</td>\n",
       "    </tr>\n",
       "    <tr>\n",
       "      <th>1255</th>\n",
       "      <td>32.44</td>\n",
       "      <td>32.67</td>\n",
       "      <td>31.86</td>\n",
       "      <td>96971924</td>\n",
       "    </tr>\n",
       "    <tr>\n",
       "      <th>1256</th>\n",
       "      <td>31.12</td>\n",
       "      <td>31.98</td>\n",
       "      <td>29.15</td>\n",
       "      <td>155908256</td>\n",
       "    </tr>\n",
       "    <tr>\n",
       "      <th>1257</th>\n",
       "      <td>29.41</td>\n",
       "      <td>31.29</td>\n",
       "      <td>29.30</td>\n",
       "      <td>165878399</td>\n",
       "    </tr>\n",
       "    <tr>\n",
       "      <th>1258</th>\n",
       "      <td>31.12</td>\n",
       "      <td>31.74</td>\n",
       "      <td>30.86</td>\n",
       "      <td>101180515</td>\n",
       "    </tr>\n",
       "  </tbody>\n",
       "</table>\n",
       "<p>1259 rows × 4 columns</p>\n",
       "</div>"
      ],
      "text/plain": [
       "       open   high    low     volume\n",
       "0     11.86  11.90  11.72  145217221\n",
       "1     11.73  11.90  11.67  103499848\n",
       "2     11.87  12.34  11.78  231771561\n",
       "3     12.35  12.42  12.05  192478919\n",
       "4     12.09  12.27  12.07  143901737\n",
       "...     ...    ...    ...        ...\n",
       "1254  32.00  32.50  31.96   62367448\n",
       "1255  32.44  32.67  31.86   96971924\n",
       "1256  31.12  31.98  29.15  155908256\n",
       "1257  29.41  31.29  29.30  165878399\n",
       "1258  31.12  31.74  30.86  101180515\n",
       "\n",
       "[1259 rows x 4 columns]"
      ]
     },
     "execution_count": 54,
     "metadata": {},
     "output_type": "execute_result"
    }
   ],
   "source": [
    "X"
   ]
  },
  {
   "cell_type": "code",
   "execution_count": 55,
   "metadata": {},
   "outputs": [
    {
     "data": {
      "text/plain": [
       "0       11.760\n",
       "1       11.860\n",
       "2       12.245\n",
       "3       12.170\n",
       "4       12.130\n",
       "         ...  \n",
       "1254    32.500\n",
       "1255    31.950\n",
       "1256    30.260\n",
       "1257    31.200\n",
       "1258    31.250\n",
       "Name: close, Length: 1259, dtype: float64"
      ]
     },
     "execution_count": 55,
     "metadata": {},
     "output_type": "execute_result"
    }
   ],
   "source": [
    "y"
   ]
  },
  {
   "cell_type": "code",
   "execution_count": 56,
   "metadata": {},
   "outputs": [
    {
     "data": {
      "text/html": [
       "<style>#sk-container-id-5 {color: black;background-color: white;}#sk-container-id-5 pre{padding: 0;}#sk-container-id-5 div.sk-toggleable {background-color: white;}#sk-container-id-5 label.sk-toggleable__label {cursor: pointer;display: block;width: 100%;margin-bottom: 0;padding: 0.3em;box-sizing: border-box;text-align: center;}#sk-container-id-5 label.sk-toggleable__label-arrow:before {content: \"▸\";float: left;margin-right: 0.25em;color: #696969;}#sk-container-id-5 label.sk-toggleable__label-arrow:hover:before {color: black;}#sk-container-id-5 div.sk-estimator:hover label.sk-toggleable__label-arrow:before {color: black;}#sk-container-id-5 div.sk-toggleable__content {max-height: 0;max-width: 0;overflow: hidden;text-align: left;background-color: #f0f8ff;}#sk-container-id-5 div.sk-toggleable__content pre {margin: 0.2em;color: black;border-radius: 0.25em;background-color: #f0f8ff;}#sk-container-id-5 input.sk-toggleable__control:checked~div.sk-toggleable__content {max-height: 200px;max-width: 100%;overflow: auto;}#sk-container-id-5 input.sk-toggleable__control:checked~label.sk-toggleable__label-arrow:before {content: \"▾\";}#sk-container-id-5 div.sk-estimator input.sk-toggleable__control:checked~label.sk-toggleable__label {background-color: #d4ebff;}#sk-container-id-5 div.sk-label input.sk-toggleable__control:checked~label.sk-toggleable__label {background-color: #d4ebff;}#sk-container-id-5 input.sk-hidden--visually {border: 0;clip: rect(1px 1px 1px 1px);clip: rect(1px, 1px, 1px, 1px);height: 1px;margin: -1px;overflow: hidden;padding: 0;position: absolute;width: 1px;}#sk-container-id-5 div.sk-estimator {font-family: monospace;background-color: #f0f8ff;border: 1px dotted black;border-radius: 0.25em;box-sizing: border-box;margin-bottom: 0.5em;}#sk-container-id-5 div.sk-estimator:hover {background-color: #d4ebff;}#sk-container-id-5 div.sk-parallel-item::after {content: \"\";width: 100%;border-bottom: 1px solid gray;flex-grow: 1;}#sk-container-id-5 div.sk-label:hover label.sk-toggleable__label {background-color: #d4ebff;}#sk-container-id-5 div.sk-serial::before {content: \"\";position: absolute;border-left: 1px solid gray;box-sizing: border-box;top: 0;bottom: 0;left: 50%;z-index: 0;}#sk-container-id-5 div.sk-serial {display: flex;flex-direction: column;align-items: center;background-color: white;padding-right: 0.2em;padding-left: 0.2em;position: relative;}#sk-container-id-5 div.sk-item {position: relative;z-index: 1;}#sk-container-id-5 div.sk-parallel {display: flex;align-items: stretch;justify-content: center;background-color: white;position: relative;}#sk-container-id-5 div.sk-item::before, #sk-container-id-5 div.sk-parallel-item::before {content: \"\";position: absolute;border-left: 1px solid gray;box-sizing: border-box;top: 0;bottom: 0;left: 50%;z-index: -1;}#sk-container-id-5 div.sk-parallel-item {display: flex;flex-direction: column;z-index: 1;position: relative;background-color: white;}#sk-container-id-5 div.sk-parallel-item:first-child::after {align-self: flex-end;width: 50%;}#sk-container-id-5 div.sk-parallel-item:last-child::after {align-self: flex-start;width: 50%;}#sk-container-id-5 div.sk-parallel-item:only-child::after {width: 0;}#sk-container-id-5 div.sk-dashed-wrapped {border: 1px dashed gray;margin: 0 0.4em 0.5em 0.4em;box-sizing: border-box;padding-bottom: 0.4em;background-color: white;}#sk-container-id-5 div.sk-label label {font-family: monospace;font-weight: bold;display: inline-block;line-height: 1.2em;}#sk-container-id-5 div.sk-label-container {text-align: center;}#sk-container-id-5 div.sk-container {/* jupyter's `normalize.less` sets `[hidden] { display: none; }` but bootstrap.min.css set `[hidden] { display: none !important; }` so we also need the `!important` here to be able to override the default hidden behavior on the sphinx rendered scikit-learn.org. See: https://github.com/scikit-learn/scikit-learn/issues/21755 */display: inline-block !important;position: relative;}#sk-container-id-5 div.sk-text-repr-fallback {display: none;}</style><div id=\"sk-container-id-5\" class=\"sk-top-container\"><div class=\"sk-text-repr-fallback\"><pre>LogisticRegression()</pre><b>In a Jupyter environment, please rerun this cell to show the HTML representation or trust the notebook. <br />On GitHub, the HTML representation is unable to render, please try loading this page with nbviewer.org.</b></div><div class=\"sk-container\" hidden><div class=\"sk-item\"><div class=\"sk-estimator sk-toggleable\"><input class=\"sk-toggleable__control sk-hidden--visually\" id=\"sk-estimator-id-5\" type=\"checkbox\" checked><label for=\"sk-estimator-id-5\" class=\"sk-toggleable__label sk-toggleable__label-arrow\">LogisticRegression</label><div class=\"sk-toggleable__content\"><pre>LogisticRegression()</pre></div></div></div></div></div>"
      ],
      "text/plain": [
       "LogisticRegression()"
      ]
     },
     "execution_count": 56,
     "metadata": {},
     "output_type": "execute_result"
    }
   ],
   "source": [
    "# apply LinearRegression this is the code for the machine learning algorithm\n",
    "from sklearn.linear_model import LogisticRegression\n",
    "classifier = LogisticRegression()\n",
    "classifier\n"
   ]
  },
  {
   "cell_type": "code",
   "execution_count": 57,
   "metadata": {},
   "outputs": [],
   "source": [
    "# Train the Logistic Regression model on the unscaled data and print the model score\n",
    "# this is what the machine algotirhtm will train and validate the data it learned.\n",
    "\n",
    "from sklearn.model_selection import train_test_split\n",
    "X_train, X_test, y_train, y_test = train_test_split(X, y, random_state=1)"
   ]
  },
  {
   "cell_type": "code",
   "execution_count": 58,
   "metadata": {},
   "outputs": [],
   "source": [
    "# Converting output labels to 0 and 1; assign the 0 or 1 into the definition of Low risk (1) or high risk (0)\n",
    "# this step returns only 1 column, this case \n",
    "\n",
    "from sklearn import preprocessing\n",
    "from sklearn import utils\n",
    "\n",
    "#convert y values to categorical values\n",
    "lab = preprocessing.LabelEncoder()\n",
    "y_transformed = lab.fit_transform(y)\n",
    "\n"
   ]
  },
  {
   "cell_type": "code",
   "execution_count": 59,
   "metadata": {},
   "outputs": [
    {
     "name": "stdout",
     "output_type": "stream",
     "text": [
      "[ 13  16  38 ... 708 715 717]\n"
     ]
    }
   ],
   "source": [
    "#view transformed values\n",
    "print(y_transformed)"
   ]
  },
  {
   "cell_type": "code",
   "execution_count": 60,
   "metadata": {},
   "outputs": [
    {
     "data": {
      "text/html": [
       "<style>#sk-container-id-6 {color: black;background-color: white;}#sk-container-id-6 pre{padding: 0;}#sk-container-id-6 div.sk-toggleable {background-color: white;}#sk-container-id-6 label.sk-toggleable__label {cursor: pointer;display: block;width: 100%;margin-bottom: 0;padding: 0.3em;box-sizing: border-box;text-align: center;}#sk-container-id-6 label.sk-toggleable__label-arrow:before {content: \"▸\";float: left;margin-right: 0.25em;color: #696969;}#sk-container-id-6 label.sk-toggleable__label-arrow:hover:before {color: black;}#sk-container-id-6 div.sk-estimator:hover label.sk-toggleable__label-arrow:before {color: black;}#sk-container-id-6 div.sk-toggleable__content {max-height: 0;max-width: 0;overflow: hidden;text-align: left;background-color: #f0f8ff;}#sk-container-id-6 div.sk-toggleable__content pre {margin: 0.2em;color: black;border-radius: 0.25em;background-color: #f0f8ff;}#sk-container-id-6 input.sk-toggleable__control:checked~div.sk-toggleable__content {max-height: 200px;max-width: 100%;overflow: auto;}#sk-container-id-6 input.sk-toggleable__control:checked~label.sk-toggleable__label-arrow:before {content: \"▾\";}#sk-container-id-6 div.sk-estimator input.sk-toggleable__control:checked~label.sk-toggleable__label {background-color: #d4ebff;}#sk-container-id-6 div.sk-label input.sk-toggleable__control:checked~label.sk-toggleable__label {background-color: #d4ebff;}#sk-container-id-6 input.sk-hidden--visually {border: 0;clip: rect(1px 1px 1px 1px);clip: rect(1px, 1px, 1px, 1px);height: 1px;margin: -1px;overflow: hidden;padding: 0;position: absolute;width: 1px;}#sk-container-id-6 div.sk-estimator {font-family: monospace;background-color: #f0f8ff;border: 1px dotted black;border-radius: 0.25em;box-sizing: border-box;margin-bottom: 0.5em;}#sk-container-id-6 div.sk-estimator:hover {background-color: #d4ebff;}#sk-container-id-6 div.sk-parallel-item::after {content: \"\";width: 100%;border-bottom: 1px solid gray;flex-grow: 1;}#sk-container-id-6 div.sk-label:hover label.sk-toggleable__label {background-color: #d4ebff;}#sk-container-id-6 div.sk-serial::before {content: \"\";position: absolute;border-left: 1px solid gray;box-sizing: border-box;top: 0;bottom: 0;left: 50%;z-index: 0;}#sk-container-id-6 div.sk-serial {display: flex;flex-direction: column;align-items: center;background-color: white;padding-right: 0.2em;padding-left: 0.2em;position: relative;}#sk-container-id-6 div.sk-item {position: relative;z-index: 1;}#sk-container-id-6 div.sk-parallel {display: flex;align-items: stretch;justify-content: center;background-color: white;position: relative;}#sk-container-id-6 div.sk-item::before, #sk-container-id-6 div.sk-parallel-item::before {content: \"\";position: absolute;border-left: 1px solid gray;box-sizing: border-box;top: 0;bottom: 0;left: 50%;z-index: -1;}#sk-container-id-6 div.sk-parallel-item {display: flex;flex-direction: column;z-index: 1;position: relative;background-color: white;}#sk-container-id-6 div.sk-parallel-item:first-child::after {align-self: flex-end;width: 50%;}#sk-container-id-6 div.sk-parallel-item:last-child::after {align-self: flex-start;width: 50%;}#sk-container-id-6 div.sk-parallel-item:only-child::after {width: 0;}#sk-container-id-6 div.sk-dashed-wrapped {border: 1px dashed gray;margin: 0 0.4em 0.5em 0.4em;box-sizing: border-box;padding-bottom: 0.4em;background-color: white;}#sk-container-id-6 div.sk-label label {font-family: monospace;font-weight: bold;display: inline-block;line-height: 1.2em;}#sk-container-id-6 div.sk-label-container {text-align: center;}#sk-container-id-6 div.sk-container {/* jupyter's `normalize.less` sets `[hidden] { display: none; }` but bootstrap.min.css set `[hidden] { display: none !important; }` so we also need the `!important` here to be able to override the default hidden behavior on the sphinx rendered scikit-learn.org. See: https://github.com/scikit-learn/scikit-learn/issues/21755 */display: inline-block !important;position: relative;}#sk-container-id-6 div.sk-text-repr-fallback {display: none;}</style><div id=\"sk-container-id-6\" class=\"sk-top-container\"><div class=\"sk-text-repr-fallback\"><pre>LogisticRegression()</pre><b>In a Jupyter environment, please rerun this cell to show the HTML representation or trust the notebook. <br />On GitHub, the HTML representation is unable to render, please try loading this page with nbviewer.org.</b></div><div class=\"sk-container\" hidden><div class=\"sk-item\"><div class=\"sk-estimator sk-toggleable\"><input class=\"sk-toggleable__control sk-hidden--visually\" id=\"sk-estimator-id-6\" type=\"checkbox\" checked><label for=\"sk-estimator-id-6\" class=\"sk-toggleable__label sk-toggleable__label-arrow\">LogisticRegression</label><div class=\"sk-toggleable__content\"><pre>LogisticRegression()</pre></div></div></div></div></div>"
      ],
      "text/plain": [
       "LogisticRegression()"
      ]
     },
     "execution_count": 60,
     "metadata": {},
     "output_type": "execute_result"
    }
   ],
   "source": [
    "classifier.fit(X, y_transformed)"
   ]
  },
  {
   "cell_type": "code",
   "execution_count": 61,
   "metadata": {},
   "outputs": [],
   "source": [
    "# Scale the data: \n",
    "from sklearn.preprocessing import StandardScaler\n",
    "scaler = StandardScaler().fit(X_train)\n",
    "X_train_scaled = scaler.transform(X_train)\n",
    "X_test_scaled = scaler.transform(X_test)"
   ]
  },
  {
   "cell_type": "code",
   "execution_count": 62,
   "metadata": {},
   "outputs": [
    {
     "data": {
      "text/html": [
       "<style>#sk-container-id-7 {color: black;background-color: white;}#sk-container-id-7 pre{padding: 0;}#sk-container-id-7 div.sk-toggleable {background-color: white;}#sk-container-id-7 label.sk-toggleable__label {cursor: pointer;display: block;width: 100%;margin-bottom: 0;padding: 0.3em;box-sizing: border-box;text-align: center;}#sk-container-id-7 label.sk-toggleable__label-arrow:before {content: \"▸\";float: left;margin-right: 0.25em;color: #696969;}#sk-container-id-7 label.sk-toggleable__label-arrow:hover:before {color: black;}#sk-container-id-7 div.sk-estimator:hover label.sk-toggleable__label-arrow:before {color: black;}#sk-container-id-7 div.sk-toggleable__content {max-height: 0;max-width: 0;overflow: hidden;text-align: left;background-color: #f0f8ff;}#sk-container-id-7 div.sk-toggleable__content pre {margin: 0.2em;color: black;border-radius: 0.25em;background-color: #f0f8ff;}#sk-container-id-7 input.sk-toggleable__control:checked~div.sk-toggleable__content {max-height: 200px;max-width: 100%;overflow: auto;}#sk-container-id-7 input.sk-toggleable__control:checked~label.sk-toggleable__label-arrow:before {content: \"▾\";}#sk-container-id-7 div.sk-estimator input.sk-toggleable__control:checked~label.sk-toggleable__label {background-color: #d4ebff;}#sk-container-id-7 div.sk-label input.sk-toggleable__control:checked~label.sk-toggleable__label {background-color: #d4ebff;}#sk-container-id-7 input.sk-hidden--visually {border: 0;clip: rect(1px 1px 1px 1px);clip: rect(1px, 1px, 1px, 1px);height: 1px;margin: -1px;overflow: hidden;padding: 0;position: absolute;width: 1px;}#sk-container-id-7 div.sk-estimator {font-family: monospace;background-color: #f0f8ff;border: 1px dotted black;border-radius: 0.25em;box-sizing: border-box;margin-bottom: 0.5em;}#sk-container-id-7 div.sk-estimator:hover {background-color: #d4ebff;}#sk-container-id-7 div.sk-parallel-item::after {content: \"\";width: 100%;border-bottom: 1px solid gray;flex-grow: 1;}#sk-container-id-7 div.sk-label:hover label.sk-toggleable__label {background-color: #d4ebff;}#sk-container-id-7 div.sk-serial::before {content: \"\";position: absolute;border-left: 1px solid gray;box-sizing: border-box;top: 0;bottom: 0;left: 50%;z-index: 0;}#sk-container-id-7 div.sk-serial {display: flex;flex-direction: column;align-items: center;background-color: white;padding-right: 0.2em;padding-left: 0.2em;position: relative;}#sk-container-id-7 div.sk-item {position: relative;z-index: 1;}#sk-container-id-7 div.sk-parallel {display: flex;align-items: stretch;justify-content: center;background-color: white;position: relative;}#sk-container-id-7 div.sk-item::before, #sk-container-id-7 div.sk-parallel-item::before {content: \"\";position: absolute;border-left: 1px solid gray;box-sizing: border-box;top: 0;bottom: 0;left: 50%;z-index: -1;}#sk-container-id-7 div.sk-parallel-item {display: flex;flex-direction: column;z-index: 1;position: relative;background-color: white;}#sk-container-id-7 div.sk-parallel-item:first-child::after {align-self: flex-end;width: 50%;}#sk-container-id-7 div.sk-parallel-item:last-child::after {align-self: flex-start;width: 50%;}#sk-container-id-7 div.sk-parallel-item:only-child::after {width: 0;}#sk-container-id-7 div.sk-dashed-wrapped {border: 1px dashed gray;margin: 0 0.4em 0.5em 0.4em;box-sizing: border-box;padding-bottom: 0.4em;background-color: white;}#sk-container-id-7 div.sk-label label {font-family: monospace;font-weight: bold;display: inline-block;line-height: 1.2em;}#sk-container-id-7 div.sk-label-container {text-align: center;}#sk-container-id-7 div.sk-container {/* jupyter's `normalize.less` sets `[hidden] { display: none; }` but bootstrap.min.css set `[hidden] { display: none !important; }` so we also need the `!important` here to be able to override the default hidden behavior on the sphinx rendered scikit-learn.org. See: https://github.com/scikit-learn/scikit-learn/issues/21755 */display: inline-block !important;position: relative;}#sk-container-id-7 div.sk-text-repr-fallback {display: none;}</style><div id=\"sk-container-id-7\" class=\"sk-top-container\"><div class=\"sk-text-repr-fallback\"><pre>LogisticRegression(random_state=19)</pre><b>In a Jupyter environment, please rerun this cell to show the HTML representation or trust the notebook. <br />On GitHub, the HTML representation is unable to render, please try loading this page with nbviewer.org.</b></div><div class=\"sk-container\" hidden><div class=\"sk-item\"><div class=\"sk-estimator sk-toggleable\"><input class=\"sk-toggleable__control sk-hidden--visually\" id=\"sk-estimator-id-7\" type=\"checkbox\" checked><label for=\"sk-estimator-id-7\" class=\"sk-toggleable__label sk-toggleable__label-arrow\">LogisticRegression</label><div class=\"sk-toggleable__content\"><pre>LogisticRegression(random_state=19)</pre></div></div></div></div></div>"
      ],
      "text/plain": [
       "LogisticRegression(random_state=19)"
      ]
     },
     "execution_count": 62,
     "metadata": {},
     "output_type": "execute_result"
    }
   ],
   "source": [
    "from sklearn.linear_model import LogisticRegression\n",
    "classifier = LogisticRegression(solver=\"lbfgs\", random_state=19)\n",
    "classifier\n"
   ]
  },
  {
   "cell_type": "code",
   "execution_count": 64,
   "metadata": {},
   "outputs": [
    {
     "data": {
      "text/plain": [
       "array([ 13,  16,  38, ..., 708, 715, 717], dtype=int64)"
      ]
     },
     "execution_count": 64,
     "metadata": {},
     "output_type": "execute_result"
    }
   ],
   "source": [
    "y_transformed"
   ]
  },
  {
   "cell_type": "code",
   "execution_count": 66,
   "metadata": {},
   "outputs": [
    {
     "data": {
      "text/plain": [
       "array([[-0.58978927, -0.61286266, -0.61811702, -0.13992504],\n",
       "       [-0.67048767, -0.67042559, -0.64442817, -0.93175679],\n",
       "       [ 1.86387809,  1.90116664,  1.89898292, -0.87233277],\n",
       "       ...,\n",
       "       [ 1.28808415,  1.25772696,  1.2894413 , -0.79949617],\n",
       "       [-0.09251269, -0.08548044, -0.08312365,  5.39150351],\n",
       "       [ 1.36223943,  1.3238041 ,  1.30917466, -0.29290139]])"
      ]
     },
     "execution_count": 66,
     "metadata": {},
     "output_type": "execute_result"
    }
   ],
   "source": [
    "X_train_scaled"
   ]
  },
  {
   "cell_type": "code",
   "execution_count": 67,
   "metadata": {},
   "outputs": [
    {
     "ename": "ValueError",
     "evalue": "Found input variables with inconsistent numbers of samples: [944, 1259]",
     "output_type": "error",
     "traceback": [
      "\u001b[1;31m---------------------------------------------------------------------------\u001b[0m",
      "\u001b[1;31mValueError\u001b[0m                                Traceback (most recent call last)",
      "\u001b[1;32mc:\\Users\\TNBAUTISTA\\Documents\\StockAnalysis\\StockAnalysisProject4\\Trml.ipynb Cell 20'\u001b[0m in \u001b[0;36m<cell line: 2>\u001b[1;34m()\u001b[0m\n\u001b[0;32m      <a href='vscode-notebook-cell:/c%3A/Users/TNBAUTISTA/Documents/StockAnalysis/StockAnalysisProject4/Trml.ipynb#ch0000022?line=0'>1</a>\u001b[0m \u001b[39m#Train our model\u001b[39;00m\n\u001b[1;32m----> <a href='vscode-notebook-cell:/c%3A/Users/TNBAUTISTA/Documents/StockAnalysis/StockAnalysisProject4/Trml.ipynb#ch0000022?line=1'>2</a>\u001b[0m classifier\u001b[39m.\u001b[39;49mfit(X_train_scaled, y_transformed)\n",
      "File \u001b[1;32mc:\\Users\\TNBAUTISTA\\AppData\\Local\\Programs\\Python\\Python310\\lib\\site-packages\\sklearn\\linear_model\\_logistic.py:1141\u001b[0m, in \u001b[0;36mLogisticRegression.fit\u001b[1;34m(self, X, y, sample_weight)\u001b[0m\n\u001b[0;32m   <a href='file:///c%3A/Users/TNBAUTISTA/AppData/Local/Programs/Python/Python310/lib/site-packages/sklearn/linear_model/_logistic.py?line=1137'>1138</a>\u001b[0m \u001b[39melse\u001b[39;00m:\n\u001b[0;32m   <a href='file:///c%3A/Users/TNBAUTISTA/AppData/Local/Programs/Python/Python310/lib/site-packages/sklearn/linear_model/_logistic.py?line=1138'>1139</a>\u001b[0m     _dtype \u001b[39m=\u001b[39m [np\u001b[39m.\u001b[39mfloat64, np\u001b[39m.\u001b[39mfloat32]\n\u001b[1;32m-> <a href='file:///c%3A/Users/TNBAUTISTA/AppData/Local/Programs/Python/Python310/lib/site-packages/sklearn/linear_model/_logistic.py?line=1140'>1141</a>\u001b[0m X, y \u001b[39m=\u001b[39m \u001b[39mself\u001b[39;49m\u001b[39m.\u001b[39;49m_validate_data(\n\u001b[0;32m   <a href='file:///c%3A/Users/TNBAUTISTA/AppData/Local/Programs/Python/Python310/lib/site-packages/sklearn/linear_model/_logistic.py?line=1141'>1142</a>\u001b[0m     X,\n\u001b[0;32m   <a href='file:///c%3A/Users/TNBAUTISTA/AppData/Local/Programs/Python/Python310/lib/site-packages/sklearn/linear_model/_logistic.py?line=1142'>1143</a>\u001b[0m     y,\n\u001b[0;32m   <a href='file:///c%3A/Users/TNBAUTISTA/AppData/Local/Programs/Python/Python310/lib/site-packages/sklearn/linear_model/_logistic.py?line=1143'>1144</a>\u001b[0m     accept_sparse\u001b[39m=\u001b[39;49m\u001b[39m\"\u001b[39;49m\u001b[39mcsr\u001b[39;49m\u001b[39m\"\u001b[39;49m,\n\u001b[0;32m   <a href='file:///c%3A/Users/TNBAUTISTA/AppData/Local/Programs/Python/Python310/lib/site-packages/sklearn/linear_model/_logistic.py?line=1144'>1145</a>\u001b[0m     dtype\u001b[39m=\u001b[39;49m_dtype,\n\u001b[0;32m   <a href='file:///c%3A/Users/TNBAUTISTA/AppData/Local/Programs/Python/Python310/lib/site-packages/sklearn/linear_model/_logistic.py?line=1145'>1146</a>\u001b[0m     order\u001b[39m=\u001b[39;49m\u001b[39m\"\u001b[39;49m\u001b[39mC\u001b[39;49m\u001b[39m\"\u001b[39;49m,\n\u001b[0;32m   <a href='file:///c%3A/Users/TNBAUTISTA/AppData/Local/Programs/Python/Python310/lib/site-packages/sklearn/linear_model/_logistic.py?line=1146'>1147</a>\u001b[0m     accept_large_sparse\u001b[39m=\u001b[39;49msolver \u001b[39mnot\u001b[39;49;00m \u001b[39min\u001b[39;49;00m [\u001b[39m\"\u001b[39;49m\u001b[39mliblinear\u001b[39;49m\u001b[39m\"\u001b[39;49m, \u001b[39m\"\u001b[39;49m\u001b[39msag\u001b[39;49m\u001b[39m\"\u001b[39;49m, \u001b[39m\"\u001b[39;49m\u001b[39msaga\u001b[39;49m\u001b[39m\"\u001b[39;49m],\n\u001b[0;32m   <a href='file:///c%3A/Users/TNBAUTISTA/AppData/Local/Programs/Python/Python310/lib/site-packages/sklearn/linear_model/_logistic.py?line=1147'>1148</a>\u001b[0m )\n\u001b[0;32m   <a href='file:///c%3A/Users/TNBAUTISTA/AppData/Local/Programs/Python/Python310/lib/site-packages/sklearn/linear_model/_logistic.py?line=1148'>1149</a>\u001b[0m check_classification_targets(y)\n\u001b[0;32m   <a href='file:///c%3A/Users/TNBAUTISTA/AppData/Local/Programs/Python/Python310/lib/site-packages/sklearn/linear_model/_logistic.py?line=1149'>1150</a>\u001b[0m \u001b[39mself\u001b[39m\u001b[39m.\u001b[39mclasses_ \u001b[39m=\u001b[39m np\u001b[39m.\u001b[39munique(y)\n",
      "File \u001b[1;32mc:\\Users\\TNBAUTISTA\\AppData\\Local\\Programs\\Python\\Python310\\lib\\site-packages\\sklearn\\base.py:596\u001b[0m, in \u001b[0;36mBaseEstimator._validate_data\u001b[1;34m(self, X, y, reset, validate_separately, **check_params)\u001b[0m\n\u001b[0;32m    <a href='file:///c%3A/Users/TNBAUTISTA/AppData/Local/Programs/Python/Python310/lib/site-packages/sklearn/base.py?line=593'>594</a>\u001b[0m         y \u001b[39m=\u001b[39m check_array(y, input_name\u001b[39m=\u001b[39m\u001b[39m\"\u001b[39m\u001b[39my\u001b[39m\u001b[39m\"\u001b[39m, \u001b[39m*\u001b[39m\u001b[39m*\u001b[39mcheck_y_params)\n\u001b[0;32m    <a href='file:///c%3A/Users/TNBAUTISTA/AppData/Local/Programs/Python/Python310/lib/site-packages/sklearn/base.py?line=594'>595</a>\u001b[0m     \u001b[39melse\u001b[39;00m:\n\u001b[1;32m--> <a href='file:///c%3A/Users/TNBAUTISTA/AppData/Local/Programs/Python/Python310/lib/site-packages/sklearn/base.py?line=595'>596</a>\u001b[0m         X, y \u001b[39m=\u001b[39m check_X_y(X, y, \u001b[39m*\u001b[39m\u001b[39m*\u001b[39mcheck_params)\n\u001b[0;32m    <a href='file:///c%3A/Users/TNBAUTISTA/AppData/Local/Programs/Python/Python310/lib/site-packages/sklearn/base.py?line=596'>597</a>\u001b[0m     out \u001b[39m=\u001b[39m X, y\n\u001b[0;32m    <a href='file:///c%3A/Users/TNBAUTISTA/AppData/Local/Programs/Python/Python310/lib/site-packages/sklearn/base.py?line=598'>599</a>\u001b[0m \u001b[39mif\u001b[39;00m \u001b[39mnot\u001b[39;00m no_val_X \u001b[39mand\u001b[39;00m check_params\u001b[39m.\u001b[39mget(\u001b[39m\"\u001b[39m\u001b[39mensure_2d\u001b[39m\u001b[39m\"\u001b[39m, \u001b[39mTrue\u001b[39;00m):\n",
      "File \u001b[1;32mc:\\Users\\TNBAUTISTA\\AppData\\Local\\Programs\\Python\\Python310\\lib\\site-packages\\sklearn\\utils\\validation.py:1088\u001b[0m, in \u001b[0;36mcheck_X_y\u001b[1;34m(X, y, accept_sparse, accept_large_sparse, dtype, order, copy, force_all_finite, ensure_2d, allow_nd, multi_output, ensure_min_samples, ensure_min_features, y_numeric, estimator)\u001b[0m\n\u001b[0;32m   <a href='file:///c%3A/Users/TNBAUTISTA/AppData/Local/Programs/Python/Python310/lib/site-packages/sklearn/utils/validation.py?line=1069'>1070</a>\u001b[0m X \u001b[39m=\u001b[39m check_array(\n\u001b[0;32m   <a href='file:///c%3A/Users/TNBAUTISTA/AppData/Local/Programs/Python/Python310/lib/site-packages/sklearn/utils/validation.py?line=1070'>1071</a>\u001b[0m     X,\n\u001b[0;32m   <a href='file:///c%3A/Users/TNBAUTISTA/AppData/Local/Programs/Python/Python310/lib/site-packages/sklearn/utils/validation.py?line=1071'>1072</a>\u001b[0m     accept_sparse\u001b[39m=\u001b[39maccept_sparse,\n\u001b[1;32m   (...)\u001b[0m\n\u001b[0;32m   <a href='file:///c%3A/Users/TNBAUTISTA/AppData/Local/Programs/Python/Python310/lib/site-packages/sklearn/utils/validation.py?line=1082'>1083</a>\u001b[0m     input_name\u001b[39m=\u001b[39m\u001b[39m\"\u001b[39m\u001b[39mX\u001b[39m\u001b[39m\"\u001b[39m,\n\u001b[0;32m   <a href='file:///c%3A/Users/TNBAUTISTA/AppData/Local/Programs/Python/Python310/lib/site-packages/sklearn/utils/validation.py?line=1083'>1084</a>\u001b[0m )\n\u001b[0;32m   <a href='file:///c%3A/Users/TNBAUTISTA/AppData/Local/Programs/Python/Python310/lib/site-packages/sklearn/utils/validation.py?line=1085'>1086</a>\u001b[0m y \u001b[39m=\u001b[39m _check_y(y, multi_output\u001b[39m=\u001b[39mmulti_output, y_numeric\u001b[39m=\u001b[39my_numeric, estimator\u001b[39m=\u001b[39mestimator)\n\u001b[1;32m-> <a href='file:///c%3A/Users/TNBAUTISTA/AppData/Local/Programs/Python/Python310/lib/site-packages/sklearn/utils/validation.py?line=1087'>1088</a>\u001b[0m check_consistent_length(X, y)\n\u001b[0;32m   <a href='file:///c%3A/Users/TNBAUTISTA/AppData/Local/Programs/Python/Python310/lib/site-packages/sklearn/utils/validation.py?line=1089'>1090</a>\u001b[0m \u001b[39mreturn\u001b[39;00m X, y\n",
      "File \u001b[1;32mc:\\Users\\TNBAUTISTA\\AppData\\Local\\Programs\\Python\\Python310\\lib\\site-packages\\sklearn\\utils\\validation.py:383\u001b[0m, in \u001b[0;36mcheck_consistent_length\u001b[1;34m(*arrays)\u001b[0m\n\u001b[0;32m    <a href='file:///c%3A/Users/TNBAUTISTA/AppData/Local/Programs/Python/Python310/lib/site-packages/sklearn/utils/validation.py?line=380'>381</a>\u001b[0m uniques \u001b[39m=\u001b[39m np\u001b[39m.\u001b[39munique(lengths)\n\u001b[0;32m    <a href='file:///c%3A/Users/TNBAUTISTA/AppData/Local/Programs/Python/Python310/lib/site-packages/sklearn/utils/validation.py?line=381'>382</a>\u001b[0m \u001b[39mif\u001b[39;00m \u001b[39mlen\u001b[39m(uniques) \u001b[39m>\u001b[39m \u001b[39m1\u001b[39m:\n\u001b[1;32m--> <a href='file:///c%3A/Users/TNBAUTISTA/AppData/Local/Programs/Python/Python310/lib/site-packages/sklearn/utils/validation.py?line=382'>383</a>\u001b[0m     \u001b[39mraise\u001b[39;00m \u001b[39mValueError\u001b[39;00m(\n\u001b[0;32m    <a href='file:///c%3A/Users/TNBAUTISTA/AppData/Local/Programs/Python/Python310/lib/site-packages/sklearn/utils/validation.py?line=383'>384</a>\u001b[0m         \u001b[39m\"\u001b[39m\u001b[39mFound input variables with inconsistent numbers of samples: \u001b[39m\u001b[39m%r\u001b[39;00m\u001b[39m\"\u001b[39m\n\u001b[0;32m    <a href='file:///c%3A/Users/TNBAUTISTA/AppData/Local/Programs/Python/Python310/lib/site-packages/sklearn/utils/validation.py?line=384'>385</a>\u001b[0m         \u001b[39m%\u001b[39m [\u001b[39mint\u001b[39m(l) \u001b[39mfor\u001b[39;00m l \u001b[39min\u001b[39;00m lengths]\n\u001b[0;32m    <a href='file:///c%3A/Users/TNBAUTISTA/AppData/Local/Programs/Python/Python310/lib/site-packages/sklearn/utils/validation.py?line=385'>386</a>\u001b[0m     )\n",
      "\u001b[1;31mValueError\u001b[0m: Found input variables with inconsistent numbers of samples: [944, 1259]"
     ]
    }
   ],
   "source": [
    "#Train our model\n",
    "classifier.fit(X_train_scaled, y_transformed)\n"
   ]
  },
  {
   "cell_type": "code",
   "execution_count": null,
   "metadata": {},
   "outputs": [],
   "source": [
    "# see the score of LinearRegression model: \n",
    "classifier.score(X_test_scaled, y_transformed)"
   ]
  },
  {
   "cell_type": "code",
   "execution_count": 68,
   "metadata": {},
   "outputs": [],
   "source": [
    "from keras.layers import LSTM, Dense, Dropout\n",
    "from keras.models import Sequential\n",
    "from keras.layers import Dense\n",
    "import keras.backend as K\n",
    "from keras.callbacks import EarlyStopping\n",
    "from tensorflow.keras.optimizers import Adam\n",
    "from keras.models import load_model\n",
    "\n",
    "from keras.utils.vis_utils import plot_model"
   ]
  },
  {
   "cell_type": "code",
   "execution_count": 69,
   "metadata": {},
   "outputs": [],
   "source": [
    "#Splitting to Training set and Test set\n",
    "timesplit= TimeSeriesSplit(n_splits=10)\n",
    "for train_index, test_index in timesplit.split(traindf):\n",
    "        X_train, X_test = traindf[:len(train_index)], traindf[len(train_index): (len(train_index)+len(test_index))]\n",
    "        y_train, y_test = testdf[:len(train_index)].values.ravel(), testdf[len(train_index): (len(train_index)+len(test_index))].values.ravel()"
   ]
  },
  {
   "cell_type": "code",
   "execution_count": 70,
   "metadata": {},
   "outputs": [],
   "source": [
    "#Process the data for LSTM\n",
    "trainX =np.array(X_train)\n",
    "testX =np.array(X_test)\n",
    "X_train = trainX.reshape(X_train.shape[0], 1, X_train.shape[1])\n",
    "X_test = testX.reshape(X_test.shape[0], 1, X_test.shape[1])"
   ]
  },
  {
   "cell_type": "code",
   "execution_count": 71,
   "metadata": {},
   "outputs": [
    {
     "name": "stdout",
     "output_type": "stream",
     "text": [
      "You must install pydot (`pip install pydot`) and install graphviz (see instructions at https://graphviz.gitlab.io/download/) for plot_model/model_to_dot to work.\n"
     ]
    }
   ],
   "source": [
    "#Building the LSTM Model\n",
    "lstm = Sequential()\n",
    "lstm.add(LSTM(32, input_shape=(1, trainX.shape[1]), activation='relu', return_sequences=False))\n",
    "lstm.add(Dense(1))\n",
    "lstm.compile(loss='mean_squared_error', optimizer='adam')\n",
    "plot_model(lstm, show_shapes=True, show_layer_names=True)"
   ]
  },
  {
   "cell_type": "code",
   "execution_count": 72,
   "metadata": {},
   "outputs": [
    {
     "name": "stdout",
     "output_type": "stream",
     "text": [
      "Epoch 1/100\n",
      "144/144 [==============================] - 1s 1ms/step - loss: 99353526272.0000\n",
      "Epoch 2/100\n",
      "144/144 [==============================] - 0s 1ms/step - loss: 181207.7031\n",
      "Epoch 3/100\n",
      "144/144 [==============================] - 0s 1ms/step - loss: 93.2901\n",
      "Epoch 4/100\n",
      "144/144 [==============================] - 0s 1ms/step - loss: 122.8280\n",
      "Epoch 5/100\n",
      "144/144 [==============================] - 0s 1ms/step - loss: 121.6304\n",
      "Epoch 6/100\n",
      "144/144 [==============================] - 0s 1ms/step - loss: 117.8500\n",
      "Epoch 7/100\n",
      "144/144 [==============================] - 0s 1ms/step - loss: 100.8582\n",
      "Epoch 8/100\n",
      "144/144 [==============================] - 0s 1ms/step - loss: 91.9173\n",
      "Epoch 9/100\n",
      "144/144 [==============================] - 0s 1ms/step - loss: 85.9545\n",
      "Epoch 10/100\n",
      "144/144 [==============================] - 0s 1ms/step - loss: 80.5925\n",
      "Epoch 11/100\n",
      "144/144 [==============================] - 0s 1ms/step - loss: 81.4429\n",
      "Epoch 12/100\n",
      "144/144 [==============================] - 0s 1ms/step - loss: 95.8477\n",
      "Epoch 13/100\n",
      "144/144 [==============================] - 0s 1ms/step - loss: 101.3946\n",
      "Epoch 14/100\n",
      "144/144 [==============================] - 0s 1ms/step - loss: 116.6236\n",
      "Epoch 15/100\n",
      "144/144 [==============================] - 0s 1ms/step - loss: 132.6391\n",
      "Epoch 16/100\n",
      "144/144 [==============================] - 0s 1ms/step - loss: 162.4501\n",
      "Epoch 17/100\n",
      "144/144 [==============================] - 0s 1ms/step - loss: 190.4522\n",
      "Epoch 18/100\n",
      "144/144 [==============================] - 0s 1ms/step - loss: 243.8662\n",
      "Epoch 19/100\n",
      "144/144 [==============================] - 0s 1ms/step - loss: 294.6218\n",
      "Epoch 20/100\n",
      "144/144 [==============================] - 0s 1ms/step - loss: 334.8801\n",
      "Epoch 21/100\n",
      "144/144 [==============================] - 0s 1ms/step - loss: 303.0437\n",
      "Epoch 22/100\n",
      "144/144 [==============================] - 0s 2ms/step - loss: 222.7059\n",
      "Epoch 23/100\n",
      "144/144 [==============================] - 0s 1ms/step - loss: 149.8219\n",
      "Epoch 24/100\n",
      "144/144 [==============================] - 0s 1ms/step - loss: 114.7001\n",
      "Epoch 25/100\n",
      "144/144 [==============================] - 0s 1ms/step - loss: 104.3389\n",
      "Epoch 26/100\n",
      "144/144 [==============================] - 0s 1ms/step - loss: 96.1597\n",
      "Epoch 27/100\n",
      "144/144 [==============================] - 0s 1ms/step - loss: 153.7742\n",
      "Epoch 28/100\n",
      "144/144 [==============================] - 0s 1ms/step - loss: 216.9229\n",
      "Epoch 29/100\n",
      "144/144 [==============================] - 0s 1ms/step - loss: 403.6123\n",
      "Epoch 30/100\n",
      "144/144 [==============================] - 0s 1ms/step - loss: 685.1038\n",
      "Epoch 31/100\n",
      "144/144 [==============================] - 0s 1ms/step - loss: 624.9304\n",
      "Epoch 32/100\n",
      "144/144 [==============================] - 0s 1ms/step - loss: 573.5745\n",
      "Epoch 33/100\n",
      "144/144 [==============================] - 0s 1ms/step - loss: 396.1915\n",
      "Epoch 34/100\n",
      "144/144 [==============================] - 0s 1ms/step - loss: 383.9214\n",
      "Epoch 35/100\n",
      "144/144 [==============================] - 0s 1ms/step - loss: 313.3112\n",
      "Epoch 36/100\n",
      "144/144 [==============================] - 0s 1ms/step - loss: 523.4223\n",
      "Epoch 37/100\n",
      "144/144 [==============================] - 0s 1ms/step - loss: 662.3542\n",
      "Epoch 38/100\n",
      "144/144 [==============================] - 0s 1ms/step - loss: 4938.0962\n",
      "Epoch 39/100\n",
      "144/144 [==============================] - 0s 1ms/step - loss: 126337.5547\n",
      "Epoch 40/100\n",
      "144/144 [==============================] - 0s 1ms/step - loss: 657901.0625\n",
      "Epoch 41/100\n",
      "144/144 [==============================] - 0s 1ms/step - loss: 7801889.0000\n",
      "Epoch 42/100\n",
      "144/144 [==============================] - 0s 1ms/step - loss: 40828540.0000\n",
      "Epoch 43/100\n",
      "144/144 [==============================] - 0s 1ms/step - loss: 148681056.0000\n",
      "Epoch 44/100\n",
      "144/144 [==============================] - 0s 1ms/step - loss: 820668800.0000\n",
      "Epoch 45/100\n",
      "144/144 [==============================] - 0s 1ms/step - loss: 1664782.7500\n",
      "Epoch 46/100\n",
      "144/144 [==============================] - 0s 1ms/step - loss: 2429.6921\n",
      "Epoch 47/100\n",
      "144/144 [==============================] - 0s 1ms/step - loss: 2026.8094\n",
      "Epoch 48/100\n",
      "144/144 [==============================] - 0s 1ms/step - loss: 50762.1133\n",
      "Epoch 49/100\n",
      "144/144 [==============================] - 0s 1ms/step - loss: 68836.3047\n",
      "Epoch 50/100\n",
      "144/144 [==============================] - 0s 1ms/step - loss: 4277145.5000\n",
      "Epoch 51/100\n",
      "144/144 [==============================] - 0s 1ms/step - loss: 234530496.0000\n",
      "Epoch 52/100\n",
      "144/144 [==============================] - 0s 1ms/step - loss: 2658662656.0000\n",
      "Epoch 53/100\n",
      "144/144 [==============================] - 0s 1ms/step - loss: 7373.0352\n",
      "Epoch 54/100\n",
      "144/144 [==============================] - 0s 1ms/step - loss: 703.5571\n",
      "Epoch 55/100\n",
      "144/144 [==============================] - 0s 1ms/step - loss: 697.0617\n",
      "Epoch 56/100\n",
      "144/144 [==============================] - 0s 1ms/step - loss: 614.2311\n",
      "Epoch 57/100\n",
      "144/144 [==============================] - 0s 1ms/step - loss: 444.3258\n",
      "Epoch 58/100\n",
      "144/144 [==============================] - 0s 1ms/step - loss: 366.4885\n",
      "Epoch 59/100\n",
      "144/144 [==============================] - 0s 1ms/step - loss: 374.4334\n",
      "Epoch 60/100\n",
      "144/144 [==============================] - 0s 1ms/step - loss: 491.6807\n",
      "Epoch 61/100\n",
      "144/144 [==============================] - 0s 1ms/step - loss: 682.7791\n",
      "Epoch 62/100\n",
      "144/144 [==============================] - 0s 1ms/step - loss: 5124.4712\n",
      "Epoch 63/100\n",
      "144/144 [==============================] - 0s 1ms/step - loss: 124253.1641\n",
      "Epoch 64/100\n",
      "144/144 [==============================] - 0s 1ms/step - loss: 677655.9375\n",
      "Epoch 65/100\n",
      "144/144 [==============================] - 0s 1ms/step - loss: 6306417.0000\n",
      "Epoch 66/100\n",
      "144/144 [==============================] - 0s 1ms/step - loss: 41011384.0000\n",
      "Epoch 67/100\n",
      "144/144 [==============================] - 0s 1ms/step - loss: 377146080.0000\n",
      "Epoch 68/100\n",
      "144/144 [==============================] - 0s 1ms/step - loss: 1638858112.0000\n",
      "Epoch 69/100\n",
      "144/144 [==============================] - 0s 1ms/step - loss: 28649.5117\n",
      "Epoch 70/100\n",
      "144/144 [==============================] - 0s 1ms/step - loss: 504.4399\n",
      "Epoch 71/100\n",
      "144/144 [==============================] - 0s 1ms/step - loss: 599.8043\n",
      "Epoch 72/100\n",
      "144/144 [==============================] - 0s 1ms/step - loss: 445.5251\n",
      "Epoch 73/100\n",
      "144/144 [==============================] - 0s 1ms/step - loss: 389.3478\n",
      "Epoch 74/100\n",
      "144/144 [==============================] - 0s 1ms/step - loss: 348.8437\n",
      "Epoch 75/100\n",
      "144/144 [==============================] - 0s 1ms/step - loss: 576.2489\n",
      "Epoch 76/100\n",
      "144/144 [==============================] - 0s 1ms/step - loss: 1277.0635\n",
      "Epoch 77/100\n",
      "144/144 [==============================] - 0s 1ms/step - loss: 24678.9082\n",
      "Epoch 78/100\n",
      "144/144 [==============================] - 0s 1ms/step - loss: 389039.5625\n",
      "Epoch 79/100\n",
      "144/144 [==============================] - 0s 2ms/step - loss: 755747.3125\n",
      "Epoch 80/100\n",
      "144/144 [==============================] - 0s 1ms/step - loss: 25594674.0000\n",
      "Epoch 81/100\n",
      "144/144 [==============================] - 0s 1ms/step - loss: 64325396.0000\n",
      "Epoch 82/100\n",
      "144/144 [==============================] - 0s 1ms/step - loss: 433622944.0000\n",
      "Epoch 83/100\n",
      "144/144 [==============================] - 0s 1ms/step - loss: 190375936.0000\n",
      "Epoch 84/100\n",
      "144/144 [==============================] - 0s 1ms/step - loss: 47839.0000\n",
      "Epoch 85/100\n",
      "144/144 [==============================] - 0s 1ms/step - loss: 393136.4062\n",
      "Epoch 86/100\n",
      "144/144 [==============================] - 0s 1ms/step - loss: 2546860.5000\n",
      "Epoch 87/100\n",
      "144/144 [==============================] - 0s 1ms/step - loss: 32215566.0000\n",
      "Epoch 88/100\n",
      "144/144 [==============================] - 0s 1ms/step - loss: 189109984.0000\n",
      "Epoch 89/100\n",
      "144/144 [==============================] - 0s 1ms/step - loss: 441253376.0000\n",
      "Epoch 90/100\n",
      "144/144 [==============================] - 0s 1ms/step - loss: 183768.5781\n",
      "Epoch 91/100\n",
      "144/144 [==============================] - 0s 1ms/step - loss: 9349.5068\n",
      "Epoch 92/100\n",
      "144/144 [==============================] - 0s 1ms/step - loss: 133615.6406\n",
      "Epoch 93/100\n",
      "144/144 [==============================] - 0s 1ms/step - loss: 1776692.0000\n",
      "Epoch 94/100\n",
      "144/144 [==============================] - 0s 1ms/step - loss: 1946053.3750\n",
      "Epoch 95/100\n",
      "144/144 [==============================] - 0s 1ms/step - loss: 1788165248.0000\n",
      "Epoch 96/100\n",
      "144/144 [==============================] - 0s 1ms/step - loss: 321757632.0000\n",
      "Epoch 97/100\n",
      "144/144 [==============================] - 0s 1ms/step - loss: 16841.0312\n",
      "Epoch 98/100\n",
      "144/144 [==============================] - 0s 1ms/step - loss: 695.8033\n",
      "Epoch 99/100\n",
      "144/144 [==============================] - 0s 1ms/step - loss: 356.5284\n",
      "Epoch 100/100\n",
      "144/144 [==============================] - 0s 1ms/step - loss: 356.4902\n"
     ]
    }
   ],
   "source": [
    "#Model Training\n",
    "history=lstm.fit(X_train, y_train, epochs=100, batch_size=8, verbose=1, shuffle=False)"
   ]
  },
  {
   "cell_type": "code",
   "execution_count": 74,
   "metadata": {},
   "outputs": [
    {
     "data": {
      "text/plain": [
       "array([[15.769247],\n",
       "       [14.237997],\n",
       "       [20.144247],\n",
       "       [19.581747],\n",
       "       [20.519247],\n",
       "       [19.206747],\n",
       "       [32.644245],\n",
       "       [21.019247],\n",
       "       [30.894247],\n",
       "       [21.956747],\n",
       "       [23.831747],\n",
       "       [30.144247],\n",
       "       [27.081747],\n",
       "       [22.831747],\n",
       "       [27.019247],\n",
       "       [22.269247],\n",
       "       [19.206747],\n",
       "       [26.081747],\n",
       "       [19.706747],\n",
       "       [20.769247],\n",
       "       [20.519247],\n",
       "       [18.394247],\n",
       "       [28.456747],\n",
       "       [21.706747],\n",
       "       [21.956747],\n",
       "       [18.706747],\n",
       "       [19.581747],\n",
       "       [19.019247],\n",
       "       [20.956747],\n",
       "       [19.081747],\n",
       "       [19.269247],\n",
       "       [16.862997],\n",
       "       [18.519247],\n",
       "       [23.519247],\n",
       "       [31.769247],\n",
       "       [23.331747],\n",
       "       [17.706747],\n",
       "       [19.456747],\n",
       "       [19.081747],\n",
       "       [26.769247],\n",
       "       [23.144247],\n",
       "       [28.581747],\n",
       "       [24.581747],\n",
       "       [19.706747],\n",
       "       [20.644247],\n",
       "       [18.394247],\n",
       "       [18.206747],\n",
       "       [17.144247],\n",
       "       [20.581747],\n",
       "       [15.081747],\n",
       "       [14.956747],\n",
       "       [22.831747],\n",
       "       [26.769247],\n",
       "       [29.956747],\n",
       "       [20.894247],\n",
       "       [19.769247],\n",
       "       [20.894247],\n",
       "       [30.331747],\n",
       "       [19.269247],\n",
       "       [17.737997],\n",
       "       [17.081747],\n",
       "       [20.081747],\n",
       "       [14.987997],\n",
       "       [ 8.925497],\n",
       "       [16.737997],\n",
       "       [30.581747],\n",
       "       [36.019245],\n",
       "       [37.144245],\n",
       "       [40.769245],\n",
       "       [42.769245],\n",
       "       [29.269247],\n",
       "       [24.769247],\n",
       "       [26.269247],\n",
       "       [21.144247],\n",
       "       [19.581747],\n",
       "       [25.394247],\n",
       "       [26.144247],\n",
       "       [21.269247],\n",
       "       [39.269245],\n",
       "       [23.956747],\n",
       "       [23.269247],\n",
       "       [26.831747],\n",
       "       [24.456747],\n",
       "       [19.706747],\n",
       "       [16.612997],\n",
       "       [14.800497],\n",
       "       [15.581747],\n",
       "       [16.206747],\n",
       "       [20.456747],\n",
       "       [21.019247],\n",
       "       [25.519247],\n",
       "       [20.581747],\n",
       "       [17.081747],\n",
       "       [23.956747],\n",
       "       [22.269247],\n",
       "       [21.269247],\n",
       "       [23.206747],\n",
       "       [33.269245],\n",
       "       [38.019245],\n",
       "       [25.769247],\n",
       "       [23.206747],\n",
       "       [20.081747],\n",
       "       [20.956747],\n",
       "       [27.331747],\n",
       "       [22.206747],\n",
       "       [19.894247],\n",
       "       [21.644247],\n",
       "       [22.081747],\n",
       "       [22.956747],\n",
       "       [22.456747],\n",
       "       [31.269247],\n",
       "       [46.144245],\n",
       "       [48.644245],\n",
       "       [32.144245]], dtype=float32)"
      ]
     },
     "execution_count": 74,
     "metadata": {},
     "output_type": "execute_result"
    }
   ],
   "source": [
    "#LSTM Prediction\n",
    "y_pred= lstm.predict(X_test)\n",
    "y_pred"
   ]
  },
  {
   "cell_type": "code",
   "execution_count": 83,
   "metadata": {},
   "outputs": [
    {
     "data": {
      "image/png": "[encoded data removed]",
      "text/plain": [
       "<Figure size 432x288 with 1 Axes>"
      ]
     },
     "metadata": {
      "needs_background": "light"
     },
     "output_type": "display_data"
    }
   ],
   "source": [
    "#Predicted vs True Adj Close Value – LSTM\n",
    "plt.plot(y_test, label='True Value')\n",
    "plt.plot(y_pred, label='LSTM Value')\n",
    "plt.title(\"Prediction by LSTM\")\n",
    "plt.xlabel('Time Scale')\n",
    "plt.ylabel('Scaled USD')\n",
    "plt.legend()\n",
    "plt.show()"
   ]
  },
  {
   "cell_type": "code",
   "execution_count": 75,
   "metadata": {},
   "outputs": [
    {
     "data": {
      "text/plain": [
       "array([23.77 , 23.72 , 23.58 , 23.87 , 23.89 , 24.09 , 23.31 , 23.41 ,\n",
       "       22.97 , 22.89 , 23.36 , 23.95 , 24.33 , 24.24 , 24.38 , 24.7  ,\n",
       "       24.86 , 25.06 , 25.16 , 25.02 , 24.76 , 24.81 , 25.41 , 25.45 ,\n",
       "       25.34 , 25.62 , 25.86 , 25.71 , 26.13 , 26.21 , 25.85 , 25.93 ,\n",
       "       25.83 , 25.45 , 25.83 , 26.24 , 26.2  , 26.48 , 26.58 , 27.17 ,\n",
       "       27.16 , 27.68 , 27.635, 27.74 , 27.8  , 27.6  , 27.39 , 27.53 ,\n",
       "       27.87 , 27.82 , 27.75 , 27.18 , 26.79 , 26.49 , 26.51 , 26.4  ,\n",
       "       26.24 , 26.79 , 26.76 , 26.62 , 26.74 , 26.73 , 26.66 , 26.59 ,\n",
       "       26.59 , 27.64 , 28.28 , 28.17 , 28.1  , 29.06 , 28.93 , 28.64 ,\n",
       "       28.78 , 29.05 , 28.94 , 29.32 , 28.84 , 28.73 , 29.04 , 29.48 ,\n",
       "       29.45 , 29.48 , 29.82 , 29.88 , 29.78 , 29.73 , 29.8  , 29.52 ,\n",
       "       29.9  , 29.8  , 30.19 , 30.33 , 30.12 , 30.27 , 30.55 , 30.66 ,\n",
       "       31.19 , 31.24 , 31.18 , 31.48 , 31.72 , 31.94 , 31.92 , 32.09 ,\n",
       "       32.09 , 32.2  , 32.28 , 31.88 , 32.   , 32.5  , 31.95 , 30.26 ,\n",
       "       31.2  , 31.25 ])"
      ]
     },
     "execution_count": 75,
     "metadata": {},
     "output_type": "execute_result"
    }
   ],
   "source": [
    "y_test"
   ]
  },
  {
   "cell_type": "code",
   "execution_count": 78,
   "metadata": {},
   "outputs": [
    {
     "ename": "ValueError",
     "evalue": "continuous is not supported",
     "output_type": "error",
     "traceback": [
      "\u001b[1;31m---------------------------------------------------------------------------\u001b[0m",
      "\u001b[1;31mValueError\u001b[0m                                Traceback (most recent call last)",
      "\u001b[1;32mc:\\Users\\TNBAUTISTA\\Documents\\StockAnalysis\\StockAnalysisProject4\\Trml.ipynb Cell 30'\u001b[0m in \u001b[0;36m<cell line: 2>\u001b[1;34m()\u001b[0m\n\u001b[0;32m      <a href='vscode-notebook-cell:/c%3A/Users/TNBAUTISTA/Documents/StockAnalysis/StockAnalysisProject4/Trml.ipynb#ch0000020?line=0'>1</a>\u001b[0m \u001b[39mfrom\u001b[39;00m \u001b[39msklearn\u001b[39;00m\u001b[39m.\u001b[39;00m\u001b[39mmetrics\u001b[39;00m \u001b[39mimport\u001b[39;00m classification_report\n\u001b[1;32m----> <a href='vscode-notebook-cell:/c%3A/Users/TNBAUTISTA/Documents/StockAnalysis/StockAnalysisProject4/Trml.ipynb#ch0000020?line=1'>2</a>\u001b[0m \u001b[39mprint\u001b[39m(classification_report(y_test,y_pred))\n",
      "File \u001b[1;32mc:\\Users\\TNBAUTISTA\\AppData\\Local\\Programs\\Python\\Python310\\lib\\site-packages\\sklearn\\metrics\\_classification.py:2125\u001b[0m, in \u001b[0;36mclassification_report\u001b[1;34m(y_true, y_pred, labels, target_names, sample_weight, digits, output_dict, zero_division)\u001b[0m\n\u001b[0;32m   <a href='file:///c%3A/Users/TNBAUTISTA/AppData/Local/Programs/Python/Python310/lib/site-packages/sklearn/metrics/_classification.py?line=2009'>2010</a>\u001b[0m \u001b[39mdef\u001b[39;00m \u001b[39mclassification_report\u001b[39m(\n\u001b[0;32m   <a href='file:///c%3A/Users/TNBAUTISTA/AppData/Local/Programs/Python/Python310/lib/site-packages/sklearn/metrics/_classification.py?line=2010'>2011</a>\u001b[0m     y_true,\n\u001b[0;32m   <a href='file:///c%3A/Users/TNBAUTISTA/AppData/Local/Programs/Python/Python310/lib/site-packages/sklearn/metrics/_classification.py?line=2011'>2012</a>\u001b[0m     y_pred,\n\u001b[1;32m   (...)\u001b[0m\n\u001b[0;32m   <a href='file:///c%3A/Users/TNBAUTISTA/AppData/Local/Programs/Python/Python310/lib/site-packages/sklearn/metrics/_classification.py?line=2018'>2019</a>\u001b[0m     zero_division\u001b[39m=\u001b[39m\u001b[39m\"\u001b[39m\u001b[39mwarn\u001b[39m\u001b[39m\"\u001b[39m,\n\u001b[0;32m   <a href='file:///c%3A/Users/TNBAUTISTA/AppData/Local/Programs/Python/Python310/lib/site-packages/sklearn/metrics/_classification.py?line=2019'>2020</a>\u001b[0m ):\n\u001b[0;32m   <a href='file:///c%3A/Users/TNBAUTISTA/AppData/Local/Programs/Python/Python310/lib/site-packages/sklearn/metrics/_classification.py?line=2020'>2021</a>\u001b[0m     \u001b[39m\"\"\"Build a text report showing the main classification metrics.\u001b[39;00m\n\u001b[0;32m   <a href='file:///c%3A/Users/TNBAUTISTA/AppData/Local/Programs/Python/Python310/lib/site-packages/sklearn/metrics/_classification.py?line=2021'>2022</a>\u001b[0m \n\u001b[0;32m   <a href='file:///c%3A/Users/TNBAUTISTA/AppData/Local/Programs/Python/Python310/lib/site-packages/sklearn/metrics/_classification.py?line=2022'>2023</a>\u001b[0m \u001b[39m    Read more in the :ref:`User Guide <classification_report>`.\u001b[39;00m\n\u001b[1;32m   (...)\u001b[0m\n\u001b[0;32m   <a href='file:///c%3A/Users/TNBAUTISTA/AppData/Local/Programs/Python/Python310/lib/site-packages/sklearn/metrics/_classification.py?line=2121'>2122</a>\u001b[0m \u001b[39m    <BLANKLINE>\u001b[39;00m\n\u001b[0;32m   <a href='file:///c%3A/Users/TNBAUTISTA/AppData/Local/Programs/Python/Python310/lib/site-packages/sklearn/metrics/_classification.py?line=2122'>2123</a>\u001b[0m \u001b[39m    \"\"\"\u001b[39;00m\n\u001b[1;32m-> <a href='file:///c%3A/Users/TNBAUTISTA/AppData/Local/Programs/Python/Python310/lib/site-packages/sklearn/metrics/_classification.py?line=2124'>2125</a>\u001b[0m     y_type, y_true, y_pred \u001b[39m=\u001b[39m _check_targets(y_true, y_pred)\n\u001b[0;32m   <a href='file:///c%3A/Users/TNBAUTISTA/AppData/Local/Programs/Python/Python310/lib/site-packages/sklearn/metrics/_classification.py?line=2126'>2127</a>\u001b[0m     \u001b[39mif\u001b[39;00m labels \u001b[39mis\u001b[39;00m \u001b[39mNone\u001b[39;00m:\n\u001b[0;32m   <a href='file:///c%3A/Users/TNBAUTISTA/AppData/Local/Programs/Python/Python310/lib/site-packages/sklearn/metrics/_classification.py?line=2127'>2128</a>\u001b[0m         labels \u001b[39m=\u001b[39m unique_labels(y_true, y_pred)\n",
      "File \u001b[1;32mc:\\Users\\TNBAUTISTA\\AppData\\Local\\Programs\\Python\\Python310\\lib\\site-packages\\sklearn\\metrics\\_classification.py:104\u001b[0m, in \u001b[0;36m_check_targets\u001b[1;34m(y_true, y_pred)\u001b[0m\n\u001b[0;32m    <a href='file:///c%3A/Users/TNBAUTISTA/AppData/Local/Programs/Python/Python310/lib/site-packages/sklearn/metrics/_classification.py?line=101'>102</a>\u001b[0m \u001b[39m# No metrics support \"multiclass-multioutput\" format\u001b[39;00m\n\u001b[0;32m    <a href='file:///c%3A/Users/TNBAUTISTA/AppData/Local/Programs/Python/Python310/lib/site-packages/sklearn/metrics/_classification.py?line=102'>103</a>\u001b[0m \u001b[39mif\u001b[39;00m y_type \u001b[39mnot\u001b[39;00m \u001b[39min\u001b[39;00m [\u001b[39m\"\u001b[39m\u001b[39mbinary\u001b[39m\u001b[39m\"\u001b[39m, \u001b[39m\"\u001b[39m\u001b[39mmulticlass\u001b[39m\u001b[39m\"\u001b[39m, \u001b[39m\"\u001b[39m\u001b[39mmultilabel-indicator\u001b[39m\u001b[39m\"\u001b[39m]:\n\u001b[1;32m--> <a href='file:///c%3A/Users/TNBAUTISTA/AppData/Local/Programs/Python/Python310/lib/site-packages/sklearn/metrics/_classification.py?line=103'>104</a>\u001b[0m     \u001b[39mraise\u001b[39;00m \u001b[39mValueError\u001b[39;00m(\u001b[39m\"\u001b[39m\u001b[39m{0}\u001b[39;00m\u001b[39m is not supported\u001b[39m\u001b[39m\"\u001b[39m\u001b[39m.\u001b[39mformat(y_type))\n\u001b[0;32m    <a href='file:///c%3A/Users/TNBAUTISTA/AppData/Local/Programs/Python/Python310/lib/site-packages/sklearn/metrics/_classification.py?line=105'>106</a>\u001b[0m \u001b[39mif\u001b[39;00m y_type \u001b[39min\u001b[39;00m [\u001b[39m\"\u001b[39m\u001b[39mbinary\u001b[39m\u001b[39m\"\u001b[39m, \u001b[39m\"\u001b[39m\u001b[39mmulticlass\u001b[39m\u001b[39m\"\u001b[39m]:\n\u001b[0;32m    <a href='file:///c%3A/Users/TNBAUTISTA/AppData/Local/Programs/Python/Python310/lib/site-packages/sklearn/metrics/_classification.py?line=106'>107</a>\u001b[0m     y_true \u001b[39m=\u001b[39m column_or_1d(y_true)\n",
      "\u001b[1;31mValueError\u001b[0m: continuous is not supported"
     ]
    }
   ],
   "source": [
    "from sklearn.metrics import classification_report\n",
    "print(classification_report(y_test,y_pred))\n",
    "# LSTMacc = round((accuracy_score(y_test,y_pred)*100),2)\n",
    "# print(LSTMacc)"
   ]
  }
 ],
 "metadata": {
  "interpreter": {
   "hash": "28f48785ba2b4df99be2615d494f78c0a0d41557c5e588a59c1f4f92c99f64c8"
  },
  "kernelspec": {
   "display_name": "Python 3.10.4 64-bit",
   "language": "python",
   "name": "python3"
  },
  "language_info": {
   "codemirror_mode": {
    "name": "ipython",
    "version": 3
   },
   "file_extension": ".py",
   "mimetype": "text/x-python",
   "name": "python",
   "nbconvert_exporter": "python",
   "pygments_lexer": "ipython3",
   "version": "3.10.4"
  },
  "orig_nbformat": 4
 },
 "nbformat": 4,
 "nbformat_minor": 2
}
