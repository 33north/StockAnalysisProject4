{
 "cells": [
  {
   "cell_type": "code",
   "execution_count": 1,
   "metadata": {},
   "outputs": [],
   "source": [
    "#Importing the Libraries\n",
    "import pandas as pd\n",
    "\n",
    "from datetime import datetime\n",
    "\n",
    "import numpy as np\n",
    "%matplotlib inline\n",
    "import matplotlib.pyplot as plt\n",
    "import matplotlib\n",
    "from sklearn.preprocessing import MinMaxScaler\n",
    "import sklearn as skl\n",
    "\n",
    "from sklearn.model_selection import TimeSeriesSplit\n",
    "from sklearn.metrics import mean_squared_error, r2_score\n",
    "import matplotlib.dates as mandates\n",
    "from sklearn import linear_model\n",
    "%matplotlib inline\n"
   ]
  },
  {
   "cell_type": "code",
   "execution_count": 2,
   "metadata": {},
   "outputs": [
    {
     "data": {
      "text/html": [
       "<div>\n",
       "<style scoped>\n",
       "    .dataframe tbody tr th:only-of-type {\n",
       "        vertical-align: middle;\n",
       "    }\n",
       "\n",
       "    .dataframe tbody tr th {\n",
       "        vertical-align: top;\n",
       "    }\n",
       "\n",
       "    .dataframe thead th {\n",
       "        text-align: right;\n",
       "    }\n",
       "</style>\n",
       "<table border=\"1\" class=\"dataframe\">\n",
       "  <thead>\n",
       "    <tr style=\"text-align: right;\">\n",
       "      <th></th>\n",
       "      <th>Open</th>\n",
       "      <th>High</th>\n",
       "      <th>Low</th>\n",
       "      <th>Close</th>\n",
       "      <th>Adj Close</th>\n",
       "      <th>Volume</th>\n",
       "    </tr>\n",
       "    <tr>\n",
       "      <th>Date</th>\n",
       "      <th></th>\n",
       "      <th></th>\n",
       "      <th></th>\n",
       "      <th></th>\n",
       "      <th></th>\n",
       "      <th></th>\n",
       "    </tr>\n",
       "  </thead>\n",
       "  <tbody>\n",
       "    <tr>\n",
       "      <th>2022-05-18</th>\n",
       "      <td>121.300003</td>\n",
       "      <td>121.970001</td>\n",
       "      <td>119.529999</td>\n",
       "      <td>120.089996</td>\n",
       "      <td>120.089996</td>\n",
       "      <td>12664900</td>\n",
       "    </tr>\n",
       "    <tr>\n",
       "      <th>2022-05-17</th>\n",
       "      <td>121.040001</td>\n",
       "      <td>122.970001</td>\n",
       "      <td>120.809998</td>\n",
       "      <td>122.180000</td>\n",
       "      <td>122.180000</td>\n",
       "      <td>11160200</td>\n",
       "    </tr>\n",
       "    <tr>\n",
       "      <th>2022-05-16</th>\n",
       "      <td>118.540001</td>\n",
       "      <td>119.459999</td>\n",
       "      <td>117.230003</td>\n",
       "      <td>118.260002</td>\n",
       "      <td>118.260002</td>\n",
       "      <td>10269000</td>\n",
       "    </tr>\n",
       "    <tr>\n",
       "      <th>2022-05-13</th>\n",
       "      <td>119.410004</td>\n",
       "      <td>120.250000</td>\n",
       "      <td>117.959999</td>\n",
       "      <td>119.089996</td>\n",
       "      <td>119.089996</td>\n",
       "      <td>10442400</td>\n",
       "    </tr>\n",
       "    <tr>\n",
       "      <th>2022-05-12</th>\n",
       "      <td>117.000000</td>\n",
       "      <td>118.320000</td>\n",
       "      <td>115.370003</td>\n",
       "      <td>118.040001</td>\n",
       "      <td>118.040001</td>\n",
       "      <td>16318800</td>\n",
       "    </tr>\n",
       "    <tr>\n",
       "      <th>...</th>\n",
       "      <td>...</td>\n",
       "      <td>...</td>\n",
       "      <td>...</td>\n",
       "      <td>...</td>\n",
       "      <td>...</td>\n",
       "      <td>...</td>\n",
       "    </tr>\n",
       "    <tr>\n",
       "      <th>2016-01-08</th>\n",
       "      <td>61.130001</td>\n",
       "      <td>61.270000</td>\n",
       "      <td>58.849998</td>\n",
       "      <td>58.919998</td>\n",
       "      <td>49.601185</td>\n",
       "      <td>22373300</td>\n",
       "    </tr>\n",
       "    <tr>\n",
       "      <th>2016-01-07</th>\n",
       "      <td>61.459999</td>\n",
       "      <td>62.000000</td>\n",
       "      <td>60.080002</td>\n",
       "      <td>60.270000</td>\n",
       "      <td>50.737659</td>\n",
       "      <td>27630900</td>\n",
       "    </tr>\n",
       "    <tr>\n",
       "      <th>2016-01-06</th>\n",
       "      <td>62.720001</td>\n",
       "      <td>63.130001</td>\n",
       "      <td>62.340000</td>\n",
       "      <td>62.810001</td>\n",
       "      <td>52.875938</td>\n",
       "      <td>22961500</td>\n",
       "    </tr>\n",
       "    <tr>\n",
       "      <th>2016-01-05</th>\n",
       "      <td>63.700001</td>\n",
       "      <td>64.129997</td>\n",
       "      <td>63.040001</td>\n",
       "      <td>63.730000</td>\n",
       "      <td>53.650433</td>\n",
       "      <td>16566700</td>\n",
       "    </tr>\n",
       "    <tr>\n",
       "      <th>2016-01-04</th>\n",
       "      <td>63.950001</td>\n",
       "      <td>64.059998</td>\n",
       "      <td>63.009998</td>\n",
       "      <td>63.619999</td>\n",
       "      <td>53.557831</td>\n",
       "      <td>25393200</td>\n",
       "    </tr>\n",
       "  </tbody>\n",
       "</table>\n",
       "<p>1606 rows × 6 columns</p>\n",
       "</div>"
      ],
      "text/plain": [
       "                  Open        High         Low       Close   Adj Close  \\\n",
       "Date                                                                     \n",
       "2022-05-18  121.300003  121.970001  119.529999  120.089996  120.089996   \n",
       "2022-05-17  121.040001  122.970001  120.809998  122.180000  122.180000   \n",
       "2022-05-16  118.540001  119.459999  117.230003  118.260002  118.260002   \n",
       "2022-05-13  119.410004  120.250000  117.959999  119.089996  119.089996   \n",
       "2022-05-12  117.000000  118.320000  115.370003  118.040001  118.040001   \n",
       "...                ...         ...         ...         ...         ...   \n",
       "2016-01-08   61.130001   61.270000   58.849998   58.919998   49.601185   \n",
       "2016-01-07   61.459999   62.000000   60.080002   60.270000   50.737659   \n",
       "2016-01-06   62.720001   63.130001   62.340000   62.810001   52.875938   \n",
       "2016-01-05   63.700001   64.129997   63.040001   63.730000   53.650433   \n",
       "2016-01-04   63.950001   64.059998   63.009998   63.619999   53.557831   \n",
       "\n",
       "              Volume  \n",
       "Date                  \n",
       "2022-05-18  12664900  \n",
       "2022-05-17  11160200  \n",
       "2022-05-16  10269000  \n",
       "2022-05-13  10442400  \n",
       "2022-05-12  16318800  \n",
       "...              ...  \n",
       "2016-01-08  22373300  \n",
       "2016-01-07  27630900  \n",
       "2016-01-06  22961500  \n",
       "2016-01-05  16566700  \n",
       "2016-01-04  25393200  \n",
       "\n",
       "[1606 rows x 6 columns]"
      ]
     },
     "execution_count": 2,
     "metadata": {},
     "output_type": "execute_result"
    }
   ],
   "source": [
    "#Get the Dataset\n",
    "data_train=pd.read_csv(\"NewData/JPM2016_2022.csv\",na_values=['null'],index_col='Date',parse_dates=True,infer_datetime_format=True)\n",
    "data_train.sort_values(by=\"Date\", ascending = False)"
   ]
  },
  {
   "cell_type": "code",
   "execution_count": 3,
   "metadata": {},
   "outputs": [
    {
     "data": {
      "text/plain": [
       "Open         float64\n",
       "High         float64\n",
       "Low          float64\n",
       "Close        float64\n",
       "Adj Close    float64\n",
       "Volume         int64\n",
       "dtype: object"
      ]
     },
     "execution_count": 3,
     "metadata": {},
     "output_type": "execute_result"
    }
   ],
   "source": [
    "data_train.dtypes"
   ]
  },
  {
   "cell_type": "code",
   "execution_count": 4,
   "metadata": {},
   "outputs": [
    {
     "name": "stdout",
     "output_type": "stream",
     "text": [
      "Dataframe Shape:  (1606, 6)\n",
      "Null Value Present:  False\n"
     ]
    }
   ],
   "source": [
    "#Print the shape of Dataframe  and Check for Null Values\n",
    "print(\"Dataframe Shape: \", data_train. shape)\n",
    "print(\"Null Value Present: \", data_train.isnull().values.any())"
   ]
  },
  {
   "cell_type": "code",
   "execution_count": 5,
   "metadata": {},
   "outputs": [
    {
     "name": "stdout",
     "output_type": "stream",
     "text": [
      "[[ 64.059998]\n",
      " [ 64.129997]\n",
      " [ 63.130001]\n",
      " ...\n",
      " [119.459999]\n",
      " [122.970001]\n",
      " [121.970001]]\n",
      "(1606, 1)\n"
     ]
    }
   ],
   "source": [
    "# Use close price to Train the model\n",
    "\n",
    "training_set = data_train.iloc[:,1:2].values\n",
    "print(training_set)\n",
    "print(training_set.shape)"
   ]
  },
  {
   "cell_type": "code",
   "execution_count": 6,
   "metadata": {},
   "outputs": [
    {
     "data": {
      "text/plain": [
       "array([[0.08525827],\n",
       "       [0.08584625],\n",
       "       [0.07744645],\n",
       "       ...,\n",
       "       [0.55060895],\n",
       "       [0.58009237],\n",
       "       [0.57169254]])"
      ]
     },
     "execution_count": 6,
     "metadata": {},
     "output_type": "execute_result"
    }
   ],
   "source": [
    "# Normalize the dataset (0,1): scale the dataset to be from 0 to 1: \n",
    "\n",
    "scaler = MinMaxScaler(feature_range = (0,1))\n",
    "scaled_training_set = scaler.fit_transform(training_set)\n",
    "scaled_training_set"
   ]
  },
  {
   "cell_type": "code",
   "execution_count": 7,
   "metadata": {},
   "outputs": [],
   "source": [
    "# Create X_train and y_train data structure\n",
    "\n",
    "X_train = []\n",
    "y_train = []\n",
    "for i in range(60,1354):\n",
    "    X_train.append(scaled_training_set[i-60:i,0])\n",
    "    y_train.append(scaled_training_set[i,0])\n",
    "X_train = np.array(X_train)\n",
    "y_train = np.array(y_train)\n"
   ]
  },
  {
   "cell_type": "code",
   "execution_count": 8,
   "metadata": {},
   "outputs": [
    {
     "name": "stdout",
     "output_type": "stream",
     "text": [
      "[[0.08525827 0.08584625 0.07744645 ... 0.04905502 0.0455271  0.05308694]\n",
      " [0.08584625 0.07744645 0.06795464 ... 0.0455271  0.05308694 0.05056699]\n",
      " [0.07744645 0.06795464 0.06182276 ... 0.05308694 0.05056699 0.05165897]\n",
      " ...\n",
      " [0.79739597 0.80873579 0.8265434  ... 0.89768999 0.91171769 0.92851735]\n",
      " [0.80873579 0.8265434  0.83872313 ... 0.91171769 0.92851735 0.93187736]\n",
      " [0.8265434  0.83872313 0.84829893 ... 0.92851735 0.93187736 0.9373372 ]]\n"
     ]
    }
   ],
   "source": [
    "print(X_train)"
   ]
  },
  {
   "cell_type": "code",
   "execution_count": 9,
   "metadata": {},
   "outputs": [
    {
     "name": "stdout",
     "output_type": "stream",
     "text": [
      "(1294, 60)\n",
      "(1294,)\n"
     ]
    }
   ],
   "source": [
    "print(X_train.shape)\n",
    "print(y_train.shape)"
   ]
  },
  {
   "cell_type": "code",
   "execution_count": 10,
   "metadata": {},
   "outputs": [
    {
     "data": {
      "text/plain": [
       "(1294, 60, 1)"
      ]
     },
     "execution_count": 10,
     "metadata": {},
     "output_type": "execute_result"
    }
   ],
   "source": [
    "# Reshape the data\n",
    "\n",
    "X_train = np.reshape(X_train,(X_train.shape[0],X_train.shape[1],1))\n",
    "X_train.shape"
   ]
  },
  {
   "cell_type": "code",
   "execution_count": 11,
   "metadata": {},
   "outputs": [],
   "source": [
    "# by Importing the Crucial Libraries \n",
    "\n",
    "from keras.models import Sequential\n",
    "from keras.layers import Dense, LSTM\n",
    "from keras.layers import Dropout"
   ]
  },
  {
   "cell_type": "code",
   "execution_count": 12,
   "metadata": {},
   "outputs": [],
   "source": [
    "# Building the Model by Adding Different Layers to LSTM\n",
    "\n",
    "regressor = Sequential()\n",
    "\n",
    "regressor.add(LSTM(units = 32, return_sequences=True, input_shape = (X_train.shape[1],1), activation = \"relu\"))\n",
    "regressor.add(Dropout(0.2))\n",
    "\n",
    "regressor.add(LSTM(units=32, return_sequences=True))\n",
    "regressor.add(Dropout(0.2))\n",
    "\n",
    "regressor.add(LSTM(units=32, return_sequences=True))\n",
    "regressor.add(Dropout(0.2))\n",
    "\n",
    "regressor.add(LSTM(units=32))\n",
    "regressor.add(Dropout(0.2))\n",
    "\n",
    "regressor.add(Dense(units=1))\n"
   ]
  },
  {
   "cell_type": "code",
   "execution_count": 45,
   "metadata": {},
   "outputs": [
    {
     "name": "stdout",
     "output_type": "stream",
     "text": [
      "Epoch 1/50\n",
      "162/162 [==============================] - 14s 61ms/step - loss: 0.0030\n",
      "Epoch 2/50\n",
      "162/162 [==============================] - 12s 75ms/step - loss: 0.0031\n",
      "Epoch 3/50\n",
      "162/162 [==============================] - 13s 77ms/step - loss: 0.0032\n",
      "Epoch 4/50\n",
      "162/162 [==============================] - 12s 73ms/step - loss: 0.0018\n",
      "Epoch 5/50\n",
      "162/162 [==============================] - 12s 73ms/step - loss: 0.0021\n",
      "Epoch 6/50\n",
      "162/162 [==============================] - 12s 75ms/step - loss: 0.0021\n",
      "Epoch 7/50\n",
      "162/162 [==============================] - 12s 76ms/step - loss: 0.0025\n",
      "Epoch 8/50\n",
      "162/162 [==============================] - 12s 76ms/step - loss: 0.0023\n",
      "Epoch 9/50\n",
      "162/162 [==============================] - 13s 81ms/step - loss: 0.0026\n",
      "Epoch 10/50\n",
      "162/162 [==============================] - 12s 75ms/step - loss: 0.0020\n",
      "Epoch 11/50\n",
      "162/162 [==============================] - 12s 77ms/step - loss: 0.0023\n",
      "Epoch 12/50\n",
      "162/162 [==============================] - 12s 76ms/step - loss: 0.0020\n",
      "Epoch 13/50\n",
      "162/162 [==============================] - 12s 74ms/step - loss: 0.0019\n",
      "Epoch 14/50\n",
      "162/162 [==============================] - 12s 76ms/step - loss: 0.0023\n",
      "Epoch 15/50\n",
      "162/162 [==============================] - 12s 75ms/step - loss: 0.0022\n",
      "Epoch 16/50\n",
      "162/162 [==============================] - 12s 77ms/step - loss: 0.0020\n",
      "Epoch 17/50\n",
      "162/162 [==============================] - 13s 78ms/step - loss: 0.0020\n",
      "Epoch 18/50\n",
      "162/162 [==============================] - 13s 77ms/step - loss: 0.0024\n",
      "Epoch 19/50\n",
      "162/162 [==============================] - 13s 83ms/step - loss: 0.0021\n",
      "Epoch 20/50\n",
      "162/162 [==============================] - 13s 83ms/step - loss: 0.0024\n",
      "Epoch 21/50\n",
      "162/162 [==============================] - 13s 80ms/step - loss: 0.0019\n",
      "Epoch 22/50\n",
      "162/162 [==============================] - 14s 88ms/step - loss: 0.0019\n",
      "Epoch 23/50\n",
      "162/162 [==============================] - 12s 71ms/step - loss: 0.0019\n",
      "Epoch 24/50\n",
      "162/162 [==============================] - 10s 62ms/step - loss: 0.0022\n",
      "Epoch 25/50\n",
      "162/162 [==============================] - 11s 67ms/step - loss: 0.0024\n",
      "Epoch 26/50\n",
      "162/162 [==============================] - 13s 78ms/step - loss: 0.0021\n",
      "Epoch 27/50\n",
      "162/162 [==============================] - 12s 76ms/step - loss: 0.0022\n",
      "Epoch 28/50\n",
      "162/162 [==============================] - 12s 74ms/step - loss: 0.0030\n",
      "Epoch 29/50\n",
      "162/162 [==============================] - 12s 74ms/step - loss: 0.0017\n",
      "Epoch 30/50\n",
      "162/162 [==============================] - 12s 74ms/step - loss: 0.0018\n",
      "Epoch 31/50\n",
      "162/162 [==============================] - 12s 75ms/step - loss: 0.0019\n",
      "Epoch 32/50\n",
      "162/162 [==============================] - 12s 75ms/step - loss: 0.0022\n",
      "Epoch 33/50\n",
      "162/162 [==============================] - 12s 73ms/step - loss: 0.0022\n",
      "Epoch 34/50\n",
      "162/162 [==============================] - 12s 73ms/step - loss: 0.0023\n",
      "Epoch 35/50\n",
      "162/162 [==============================] - 12s 72ms/step - loss: 0.0021\n",
      "Epoch 36/50\n",
      "162/162 [==============================] - 12s 74ms/step - loss: 0.0018\n",
      "Epoch 37/50\n",
      "162/162 [==============================] - 13s 78ms/step - loss: 0.0020\n",
      "Epoch 38/50\n",
      "162/162 [==============================] - 12s 75ms/step - loss: 0.0021\n",
      "Epoch 39/50\n",
      "162/162 [==============================] - 12s 75ms/step - loss: 0.0020\n",
      "Epoch 40/50\n",
      "162/162 [==============================] - 12s 76ms/step - loss: 0.0021\n",
      "Epoch 41/50\n",
      "162/162 [==============================] - 12s 74ms/step - loss: 0.0022\n",
      "Epoch 42/50\n",
      "162/162 [==============================] - 13s 78ms/step - loss: 0.0021\n",
      "Epoch 43/50\n",
      "162/162 [==============================] - 12s 74ms/step - loss: 0.0018\n",
      "Epoch 44/50\n",
      "162/162 [==============================] - 12s 75ms/step - loss: 0.0022\n",
      "Epoch 45/50\n",
      "162/162 [==============================] - 12s 75ms/step - loss: 0.0020\n",
      "Epoch 46/50\n",
      "162/162 [==============================] - 13s 80ms/step - loss: 0.0017\n",
      "Epoch 47/50\n",
      "162/162 [==============================] - 13s 78ms/step - loss: 0.0019\n",
      "Epoch 48/50\n",
      "162/162 [==============================] - 12s 75ms/step - loss: 0.0018\n",
      "Epoch 49/50\n",
      "162/162 [==============================] - 11s 68ms/step - loss: 0.0020\n",
      "Epoch 50/50\n",
      "162/162 [==============================] - 12s 75ms/step - loss: 0.0019\n"
     ]
    },
    {
     "data": {
      "text/plain": [
       "<keras.callbacks.History at 0x13663514f10>"
      ]
     },
     "execution_count": 45,
     "metadata": {},
     "output_type": "execute_result"
    }
   ],
   "source": [
    "# Fit the Model\n",
    "\n",
    "regressor.compile(optimizer='adam', loss = 'mean_squared_error')\n",
    "regressor.fit(X_train, y_train, epochs=50, batch_size=8, verbose=1, shuffle=False)"
   ]
  },
  {
   "cell_type": "code",
   "execution_count": 46,
   "metadata": {},
   "outputs": [
    {
     "name": "stdout",
     "output_type": "stream",
     "text": [
      "Model: \"sequential\"\n",
      "_________________________________________________________________\n",
      " Layer (type)                Output Shape              Param #   \n",
      "=================================================================\n",
      " lstm (LSTM)                 (None, 60, 32)            4352      \n",
      "                                                                 \n",
      " dropout (Dropout)           (None, 60, 32)            0         \n",
      "                                                                 \n",
      " lstm_1 (LSTM)               (None, 60, 32)            8320      \n",
      "                                                                 \n",
      " dropout_1 (Dropout)         (None, 60, 32)            0         \n",
      "                                                                 \n",
      " lstm_2 (LSTM)               (None, 60, 32)            8320      \n",
      "                                                                 \n",
      " dropout_2 (Dropout)         (None, 60, 32)            0         \n",
      "                                                                 \n",
      " lstm_3 (LSTM)               (None, 32)                8320      \n",
      "                                                                 \n",
      " dropout_3 (Dropout)         (None, 32)                0         \n",
      "                                                                 \n",
      " dense (Dense)               (None, 1)                 33        \n",
      "                                                                 \n",
      "=================================================================\n",
      "Total params: 29,345\n",
      "Trainable params: 29,345\n",
      "Non-trainable params: 0\n",
      "_________________________________________________________________\n"
     ]
    }
   ],
   "source": [
    "regressor.summary()"
   ]
  },
  {
   "cell_type": "code",
   "execution_count": 28,
   "metadata": {},
   "outputs": [
    {
     "data": {
      "text/html": [
       "<div>\n",
       "<style scoped>\n",
       "    .dataframe tbody tr th:only-of-type {\n",
       "        vertical-align: middle;\n",
       "    }\n",
       "\n",
       "    .dataframe tbody tr th {\n",
       "        vertical-align: top;\n",
       "    }\n",
       "\n",
       "    .dataframe thead th {\n",
       "        text-align: right;\n",
       "    }\n",
       "</style>\n",
       "<table border=\"1\" class=\"dataframe\">\n",
       "  <thead>\n",
       "    <tr style=\"text-align: right;\">\n",
       "      <th></th>\n",
       "      <th>Open</th>\n",
       "      <th>High</th>\n",
       "      <th>Low</th>\n",
       "      <th>Close</th>\n",
       "      <th>Adj Close</th>\n",
       "      <th>Volume</th>\n",
       "    </tr>\n",
       "    <tr>\n",
       "      <th>Date</th>\n",
       "      <th></th>\n",
       "      <th></th>\n",
       "      <th></th>\n",
       "      <th></th>\n",
       "      <th></th>\n",
       "      <th></th>\n",
       "    </tr>\n",
       "  </thead>\n",
       "  <tbody>\n",
       "    <tr>\n",
       "      <th>2016-01-04</th>\n",
       "      <td>63.950001</td>\n",
       "      <td>64.059998</td>\n",
       "      <td>63.009998</td>\n",
       "      <td>63.619999</td>\n",
       "      <td>53.557831</td>\n",
       "      <td>25393200</td>\n",
       "    </tr>\n",
       "    <tr>\n",
       "      <th>2016-01-05</th>\n",
       "      <td>63.700001</td>\n",
       "      <td>64.129997</td>\n",
       "      <td>63.040001</td>\n",
       "      <td>63.730000</td>\n",
       "      <td>53.650433</td>\n",
       "      <td>16566700</td>\n",
       "    </tr>\n",
       "    <tr>\n",
       "      <th>2016-01-06</th>\n",
       "      <td>62.720001</td>\n",
       "      <td>63.130001</td>\n",
       "      <td>62.340000</td>\n",
       "      <td>62.810001</td>\n",
       "      <td>52.875938</td>\n",
       "      <td>22961500</td>\n",
       "    </tr>\n",
       "    <tr>\n",
       "      <th>2016-01-07</th>\n",
       "      <td>61.459999</td>\n",
       "      <td>62.000000</td>\n",
       "      <td>60.080002</td>\n",
       "      <td>60.270000</td>\n",
       "      <td>50.737659</td>\n",
       "      <td>27630900</td>\n",
       "    </tr>\n",
       "    <tr>\n",
       "      <th>2016-01-08</th>\n",
       "      <td>61.130001</td>\n",
       "      <td>61.270000</td>\n",
       "      <td>58.849998</td>\n",
       "      <td>58.919998</td>\n",
       "      <td>49.601185</td>\n",
       "      <td>22373300</td>\n",
       "    </tr>\n",
       "    <tr>\n",
       "      <th>...</th>\n",
       "      <td>...</td>\n",
       "      <td>...</td>\n",
       "      <td>...</td>\n",
       "      <td>...</td>\n",
       "      <td>...</td>\n",
       "      <td>...</td>\n",
       "    </tr>\n",
       "    <tr>\n",
       "      <th>2022-05-12</th>\n",
       "      <td>117.000000</td>\n",
       "      <td>118.320000</td>\n",
       "      <td>115.370003</td>\n",
       "      <td>118.040001</td>\n",
       "      <td>118.040001</td>\n",
       "      <td>16318800</td>\n",
       "    </tr>\n",
       "    <tr>\n",
       "      <th>2022-05-13</th>\n",
       "      <td>119.410004</td>\n",
       "      <td>120.250000</td>\n",
       "      <td>117.959999</td>\n",
       "      <td>119.089996</td>\n",
       "      <td>119.089996</td>\n",
       "      <td>10442400</td>\n",
       "    </tr>\n",
       "    <tr>\n",
       "      <th>2022-05-16</th>\n",
       "      <td>118.540001</td>\n",
       "      <td>119.459999</td>\n",
       "      <td>117.230003</td>\n",
       "      <td>118.260002</td>\n",
       "      <td>118.260002</td>\n",
       "      <td>10269000</td>\n",
       "    </tr>\n",
       "    <tr>\n",
       "      <th>2022-05-17</th>\n",
       "      <td>121.040001</td>\n",
       "      <td>122.970001</td>\n",
       "      <td>120.809998</td>\n",
       "      <td>122.180000</td>\n",
       "      <td>122.180000</td>\n",
       "      <td>11160200</td>\n",
       "    </tr>\n",
       "    <tr>\n",
       "      <th>2022-05-18</th>\n",
       "      <td>121.300003</td>\n",
       "      <td>121.970001</td>\n",
       "      <td>119.529999</td>\n",
       "      <td>120.089996</td>\n",
       "      <td>120.089996</td>\n",
       "      <td>12664900</td>\n",
       "    </tr>\n",
       "  </tbody>\n",
       "</table>\n",
       "<p>1606 rows × 6 columns</p>\n",
       "</div>"
      ],
      "text/plain": [
       "                  Open        High         Low       Close   Adj Close  \\\n",
       "Date                                                                     \n",
       "2016-01-04   63.950001   64.059998   63.009998   63.619999   53.557831   \n",
       "2016-01-05   63.700001   64.129997   63.040001   63.730000   53.650433   \n",
       "2016-01-06   62.720001   63.130001   62.340000   62.810001   52.875938   \n",
       "2016-01-07   61.459999   62.000000   60.080002   60.270000   50.737659   \n",
       "2016-01-08   61.130001   61.270000   58.849998   58.919998   49.601185   \n",
       "...                ...         ...         ...         ...         ...   \n",
       "2022-05-12  117.000000  118.320000  115.370003  118.040001  118.040001   \n",
       "2022-05-13  119.410004  120.250000  117.959999  119.089996  119.089996   \n",
       "2022-05-16  118.540001  119.459999  117.230003  118.260002  118.260002   \n",
       "2022-05-17  121.040001  122.970001  120.809998  122.180000  122.180000   \n",
       "2022-05-18  121.300003  121.970001  119.529999  120.089996  120.089996   \n",
       "\n",
       "              Volume  \n",
       "Date                  \n",
       "2016-01-04  25393200  \n",
       "2016-01-05  16566700  \n",
       "2016-01-06  22961500  \n",
       "2016-01-07  27630900  \n",
       "2016-01-08  22373300  \n",
       "...              ...  \n",
       "2022-05-12  16318800  \n",
       "2022-05-13  10442400  \n",
       "2022-05-16  10269000  \n",
       "2022-05-17  11160200  \n",
       "2022-05-18  12664900  \n",
       "\n",
       "[1606 rows x 6 columns]"
      ]
     },
     "execution_count": 28,
     "metadata": {},
     "output_type": "execute_result"
    }
   ],
   "source": [
    "# Use the current close price as sample dataset for prediction\n",
    "\n",
    "data_test = data_train\n",
    "data_test\n"
   ]
  },
  {
   "cell_type": "code",
   "execution_count": 29,
   "metadata": {},
   "outputs": [],
   "source": [
    "# prepare the inputs for the prediction model\n",
    "\n",
    "dataset_total = pd.concat((data_train['Open'], data_train['Close']), axis = 0)\n",
    "inputs = dataset_total[len(dataset_total)-len(data_train)-60:].values\n",
    "\n",
    "inputs = inputs.reshape(-1,1)\n",
    "inputs = scaler.transform(inputs)"
   ]
  },
  {
   "cell_type": "code",
   "execution_count": 30,
   "metadata": {},
   "outputs": [],
   "source": [
    "X_test = []\n",
    "for x in range(60,80):\n",
    "    X_test.append(inputs[x-60:x,0])\n",
    "X_test = np.array(X_test)\n",
    "X_test=np.reshape(X_test,(X_test.shape[0], X_test.shape[1],1))"
   ]
  },
  {
   "cell_type": "code",
   "execution_count": 31,
   "metadata": {},
   "outputs": [
    {
     "data": {
      "text/plain": [
       "array([[0.6652715 ],\n",
       "       [0.63887835],\n",
       "       [0.5863612 ],\n",
       "       [0.51520157],\n",
       "       [0.43678758],\n",
       "       [0.36243105],\n",
       "       [0.30016696],\n",
       "       [0.25356945],\n",
       "       [0.22225644],\n",
       "       [0.20352362],\n",
       "       [0.19389573],\n",
       "       [0.19018169],\n",
       "       [0.18990338],\n",
       "       [0.191354  ],\n",
       "       [0.19346449],\n",
       "       [0.19561477],\n",
       "       [0.19749409],\n",
       "       [0.19897924],\n",
       "       [0.20005637],\n",
       "       [0.20077059]], dtype=float32)"
      ]
     },
     "execution_count": 31,
     "metadata": {},
     "output_type": "execute_result"
    }
   ],
   "source": [
    "predicted_prices = regressor.predict(X_test)\n",
    "predicted_prices"
   ]
  },
  {
   "cell_type": "code",
   "execution_count": 32,
   "metadata": {},
   "outputs": [
    {
     "data": {
      "text/plain": [
       "array([[133.11058 ],\n",
       "       [129.96848 ],\n",
       "       [123.71631 ],\n",
       "       [115.24475 ],\n",
       "       [105.90957 ],\n",
       "       [ 97.05742 ],\n",
       "       [ 89.644875],\n",
       "       [ 84.09745 ],\n",
       "       [ 80.36963 ],\n",
       "       [ 78.13949 ],\n",
       "       [ 76.993286],\n",
       "       [ 76.551125],\n",
       "       [ 76.518   ],\n",
       "       [ 76.6907  ],\n",
       "       [ 76.94195 ],\n",
       "       [ 77.19794 ],\n",
       "       [ 77.42167 ],\n",
       "       [ 77.59848 ],\n",
       "       [ 77.72671 ],\n",
       "       [ 77.811745]], dtype=float32)"
      ]
     },
     "execution_count": 32,
     "metadata": {},
     "output_type": "execute_result"
    }
   ],
   "source": [
    "# List prices in the next 20 days: \n",
    "predicted_prices= scaler.inverse_transform(predicted_prices)\n",
    "predicted_prices"
   ]
  },
  {
   "cell_type": "code",
   "execution_count": 33,
   "metadata": {},
   "outputs": [
    {
     "data": {
      "text/plain": [
       "20"
      ]
     },
     "execution_count": 33,
     "metadata": {},
     "output_type": "execute_result"
    }
   ],
   "source": [
    "len(predicted_prices)\n"
   ]
  },
  {
   "cell_type": "code",
   "execution_count": 40,
   "metadata": {},
   "outputs": [],
   "source": [
    "from sklearn.metrics import mean_squared_error\n",
    "import math\n",
    "from math import sqrt\n",
    "import requests\n",
    "import keras\n",
    "from keras.models import load_model\n",
    "from sklearn import preprocessing\n",
    "import sklearn.preprocessing\n",
    "from sklearn.preprocessing import MinMaxScaler\n",
    "from sklearn.preprocessing import OneHotEncoder"
   ]
  },
  {
   "cell_type": "code",
   "execution_count": 38,
   "metadata": {},
   "outputs": [],
   "source": [
    "def denormalize(df, normalized_value):\n",
    "    df = data_train['Open'].values.reshape(-1,1)\n",
    "    normalized_value = normalized_value.reshape(-1,1)\n",
    "\n",
    "    #return df.shape, p.shape\n",
    "    min_max_scaler = preprocessing.MinMaxScaler()\n",
    "    a = min_max_scaler.fit_transform(df)\n",
    "    new = min_max_scaler.inverse_transform(normalized_value)\n",
    "    return new\n",
    "p = regressor.predict(X_test)\n",
    "newp = denormalize(data_train, p)\n",
    "newy_test = denormalize(df, X_test)"
   ]
  },
  {
   "cell_type": "code",
   "execution_count": 43,
   "metadata": {},
   "outputs": [
    {
     "ename": "ValueError",
     "evalue": "Found input variables with inconsistent numbers of samples: [20, 1200]",
     "output_type": "error",
     "traceback": [
      "\u001b[1;31m---------------------------------------------------------------------------\u001b[0m",
      "\u001b[1;31mValueError\u001b[0m                                Traceback (most recent call last)",
      "\u001b[1;32mc:\\Users\\TNBAUTISTA\\Documents\\StockAnalysis\\StockAnalysisProject4\\TB_ML_JPM_future_no_Y_test.ipynb Cell 23'\u001b[0m in \u001b[0;36m<cell line: 23>\u001b[1;34m()\u001b[0m\n\u001b[0;32m     <a href='vscode-notebook-cell:/c%3A/Users/TNBAUTISTA/Documents/StockAnalysis/StockAnalysisProject4/TB_ML_JPM_future_no_Y_test.ipynb#ch0000028?line=19'>20</a>\u001b[0m     \u001b[39mprint\u001b[39m(\u001b[39m'\u001b[39m\u001b[39mclassification F score: \u001b[39m\u001b[39m%.5f\u001b[39;00m\u001b[39m'\u001b[39m \u001b[39m%\u001b[39m (Fscore))\n\u001b[0;32m     <a href='vscode-notebook-cell:/c%3A/Users/TNBAUTISTA/Documents/StockAnalysis/StockAnalysisProject4/TB_ML_JPM_future_no_Y_test.ipynb#ch0000028?line=20'>21</a>\u001b[0m     \u001b[39mreturn\u001b[39;00m Fscore\n\u001b[1;32m---> <a href='vscode-notebook-cell:/c%3A/Users/TNBAUTISTA/Documents/StockAnalysis/StockAnalysisProject4/TB_ML_JPM_future_no_Y_test.ipynb#ch0000028?line=22'>23</a>\u001b[0m testScore \u001b[39m=\u001b[39m math\u001b[39m.\u001b[39msqrt(mean_squared_error(newp, newy_test))\n\u001b[0;32m     <a href='vscode-notebook-cell:/c%3A/Users/TNBAUTISTA/Documents/StockAnalysis/StockAnalysisProject4/TB_ML_JPM_future_no_Y_test.ipynb#ch0000028?line=23'>24</a>\u001b[0m \u001b[39m#print('RMSE' % (testScore))\u001b[39;00m\n\u001b[0;32m     <a href='vscode-notebook-cell:/c%3A/Users/TNBAUTISTA/Documents/StockAnalysis/StockAnalysisProject4/TB_ML_JPM_future_no_Y_test.ipynb#ch0000028?line=25'>26</a>\u001b[0m F_score\u001b[39m=\u001b[39mmodel_F_score(newp,newy_test)\n",
      "File \u001b[1;32mc:\\Users\\TNBAUTISTA\\AppData\\Local\\Programs\\Python\\Python310\\lib\\site-packages\\sklearn\\metrics\\_regression.py:442\u001b[0m, in \u001b[0;36mmean_squared_error\u001b[1;34m(y_true, y_pred, sample_weight, multioutput, squared)\u001b[0m\n\u001b[0;32m    <a href='file:///c%3A/Users/TNBAUTISTA/AppData/Local/Programs/Python/Python310/lib/site-packages/sklearn/metrics/_regression.py?line=381'>382</a>\u001b[0m \u001b[39mdef\u001b[39;00m \u001b[39mmean_squared_error\u001b[39m(\n\u001b[0;32m    <a href='file:///c%3A/Users/TNBAUTISTA/AppData/Local/Programs/Python/Python310/lib/site-packages/sklearn/metrics/_regression.py?line=382'>383</a>\u001b[0m     y_true, y_pred, \u001b[39m*\u001b[39m, sample_weight\u001b[39m=\u001b[39m\u001b[39mNone\u001b[39;00m, multioutput\u001b[39m=\u001b[39m\u001b[39m\"\u001b[39m\u001b[39muniform_average\u001b[39m\u001b[39m\"\u001b[39m, squared\u001b[39m=\u001b[39m\u001b[39mTrue\u001b[39;00m\n\u001b[0;32m    <a href='file:///c%3A/Users/TNBAUTISTA/AppData/Local/Programs/Python/Python310/lib/site-packages/sklearn/metrics/_regression.py?line=383'>384</a>\u001b[0m ):\n\u001b[0;32m    <a href='file:///c%3A/Users/TNBAUTISTA/AppData/Local/Programs/Python/Python310/lib/site-packages/sklearn/metrics/_regression.py?line=384'>385</a>\u001b[0m     \u001b[39m\"\"\"Mean squared error regression loss.\u001b[39;00m\n\u001b[0;32m    <a href='file:///c%3A/Users/TNBAUTISTA/AppData/Local/Programs/Python/Python310/lib/site-packages/sklearn/metrics/_regression.py?line=385'>386</a>\u001b[0m \n\u001b[0;32m    <a href='file:///c%3A/Users/TNBAUTISTA/AppData/Local/Programs/Python/Python310/lib/site-packages/sklearn/metrics/_regression.py?line=386'>387</a>\u001b[0m \u001b[39m    Read more in the :ref:`User Guide <mean_squared_error>`.\u001b[39;00m\n\u001b[1;32m   (...)\u001b[0m\n\u001b[0;32m    <a href='file:///c%3A/Users/TNBAUTISTA/AppData/Local/Programs/Python/Python310/lib/site-packages/sklearn/metrics/_regression.py?line=439'>440</a>\u001b[0m \u001b[39m    0.825...\u001b[39;00m\n\u001b[0;32m    <a href='file:///c%3A/Users/TNBAUTISTA/AppData/Local/Programs/Python/Python310/lib/site-packages/sklearn/metrics/_regression.py?line=440'>441</a>\u001b[0m \u001b[39m    \"\"\"\u001b[39;00m\n\u001b[1;32m--> <a href='file:///c%3A/Users/TNBAUTISTA/AppData/Local/Programs/Python/Python310/lib/site-packages/sklearn/metrics/_regression.py?line=441'>442</a>\u001b[0m     y_type, y_true, y_pred, multioutput \u001b[39m=\u001b[39m _check_reg_targets(\n\u001b[0;32m    <a href='file:///c%3A/Users/TNBAUTISTA/AppData/Local/Programs/Python/Python310/lib/site-packages/sklearn/metrics/_regression.py?line=442'>443</a>\u001b[0m         y_true, y_pred, multioutput\n\u001b[0;32m    <a href='file:///c%3A/Users/TNBAUTISTA/AppData/Local/Programs/Python/Python310/lib/site-packages/sklearn/metrics/_regression.py?line=443'>444</a>\u001b[0m     )\n\u001b[0;32m    <a href='file:///c%3A/Users/TNBAUTISTA/AppData/Local/Programs/Python/Python310/lib/site-packages/sklearn/metrics/_regression.py?line=444'>445</a>\u001b[0m     check_consistent_length(y_true, y_pred, sample_weight)\n\u001b[0;32m    <a href='file:///c%3A/Users/TNBAUTISTA/AppData/Local/Programs/Python/Python310/lib/site-packages/sklearn/metrics/_regression.py?line=445'>446</a>\u001b[0m     output_errors \u001b[39m=\u001b[39m np\u001b[39m.\u001b[39maverage((y_true \u001b[39m-\u001b[39m y_pred) \u001b[39m*\u001b[39m\u001b[39m*\u001b[39m \u001b[39m2\u001b[39m, axis\u001b[39m=\u001b[39m\u001b[39m0\u001b[39m, weights\u001b[39m=\u001b[39msample_weight)\n",
      "File \u001b[1;32mc:\\Users\\TNBAUTISTA\\AppData\\Local\\Programs\\Python\\Python310\\lib\\site-packages\\sklearn\\metrics\\_regression.py:100\u001b[0m, in \u001b[0;36m_check_reg_targets\u001b[1;34m(y_true, y_pred, multioutput, dtype)\u001b[0m\n\u001b[0;32m     <a href='file:///c%3A/Users/TNBAUTISTA/AppData/Local/Programs/Python/Python310/lib/site-packages/sklearn/metrics/_regression.py?line=65'>66</a>\u001b[0m \u001b[39mdef\u001b[39;00m \u001b[39m_check_reg_targets\u001b[39m(y_true, y_pred, multioutput, dtype\u001b[39m=\u001b[39m\u001b[39m\"\u001b[39m\u001b[39mnumeric\u001b[39m\u001b[39m\"\u001b[39m):\n\u001b[0;32m     <a href='file:///c%3A/Users/TNBAUTISTA/AppData/Local/Programs/Python/Python310/lib/site-packages/sklearn/metrics/_regression.py?line=66'>67</a>\u001b[0m     \u001b[39m\"\"\"Check that y_true and y_pred belong to the same regression task.\u001b[39;00m\n\u001b[0;32m     <a href='file:///c%3A/Users/TNBAUTISTA/AppData/Local/Programs/Python/Python310/lib/site-packages/sklearn/metrics/_regression.py?line=67'>68</a>\u001b[0m \n\u001b[0;32m     <a href='file:///c%3A/Users/TNBAUTISTA/AppData/Local/Programs/Python/Python310/lib/site-packages/sklearn/metrics/_regression.py?line=68'>69</a>\u001b[0m \u001b[39m    Parameters\u001b[39;00m\n\u001b[1;32m   (...)\u001b[0m\n\u001b[0;32m     <a href='file:///c%3A/Users/TNBAUTISTA/AppData/Local/Programs/Python/Python310/lib/site-packages/sklearn/metrics/_regression.py?line=97'>98</a>\u001b[0m \u001b[39m        correct keyword.\u001b[39;00m\n\u001b[0;32m     <a href='file:///c%3A/Users/TNBAUTISTA/AppData/Local/Programs/Python/Python310/lib/site-packages/sklearn/metrics/_regression.py?line=98'>99</a>\u001b[0m \u001b[39m    \"\"\"\u001b[39;00m\n\u001b[1;32m--> <a href='file:///c%3A/Users/TNBAUTISTA/AppData/Local/Programs/Python/Python310/lib/site-packages/sklearn/metrics/_regression.py?line=99'>100</a>\u001b[0m     check_consistent_length(y_true, y_pred)\n\u001b[0;32m    <a href='file:///c%3A/Users/TNBAUTISTA/AppData/Local/Programs/Python/Python310/lib/site-packages/sklearn/metrics/_regression.py?line=100'>101</a>\u001b[0m     y_true \u001b[39m=\u001b[39m check_array(y_true, ensure_2d\u001b[39m=\u001b[39m\u001b[39mFalse\u001b[39;00m, dtype\u001b[39m=\u001b[39mdtype)\n\u001b[0;32m    <a href='file:///c%3A/Users/TNBAUTISTA/AppData/Local/Programs/Python/Python310/lib/site-packages/sklearn/metrics/_regression.py?line=101'>102</a>\u001b[0m     y_pred \u001b[39m=\u001b[39m check_array(y_pred, ensure_2d\u001b[39m=\u001b[39m\u001b[39mFalse\u001b[39;00m, dtype\u001b[39m=\u001b[39mdtype)\n",
      "File \u001b[1;32mc:\\Users\\TNBAUTISTA\\AppData\\Local\\Programs\\Python\\Python310\\lib\\site-packages\\sklearn\\utils\\validation.py:383\u001b[0m, in \u001b[0;36mcheck_consistent_length\u001b[1;34m(*arrays)\u001b[0m\n\u001b[0;32m    <a href='file:///c%3A/Users/TNBAUTISTA/AppData/Local/Programs/Python/Python310/lib/site-packages/sklearn/utils/validation.py?line=380'>381</a>\u001b[0m uniques \u001b[39m=\u001b[39m np\u001b[39m.\u001b[39munique(lengths)\n\u001b[0;32m    <a href='file:///c%3A/Users/TNBAUTISTA/AppData/Local/Programs/Python/Python310/lib/site-packages/sklearn/utils/validation.py?line=381'>382</a>\u001b[0m \u001b[39mif\u001b[39;00m \u001b[39mlen\u001b[39m(uniques) \u001b[39m>\u001b[39m \u001b[39m1\u001b[39m:\n\u001b[1;32m--> <a href='file:///c%3A/Users/TNBAUTISTA/AppData/Local/Programs/Python/Python310/lib/site-packages/sklearn/utils/validation.py?line=382'>383</a>\u001b[0m     \u001b[39mraise\u001b[39;00m \u001b[39mValueError\u001b[39;00m(\n\u001b[0;32m    <a href='file:///c%3A/Users/TNBAUTISTA/AppData/Local/Programs/Python/Python310/lib/site-packages/sklearn/utils/validation.py?line=383'>384</a>\u001b[0m         \u001b[39m\"\u001b[39m\u001b[39mFound input variables with inconsistent numbers of samples: \u001b[39m\u001b[39m%r\u001b[39;00m\u001b[39m\"\u001b[39m\n\u001b[0;32m    <a href='file:///c%3A/Users/TNBAUTISTA/AppData/Local/Programs/Python/Python310/lib/site-packages/sklearn/utils/validation.py?line=384'>385</a>\u001b[0m         \u001b[39m%\u001b[39m [\u001b[39mint\u001b[39m(l) \u001b[39mfor\u001b[39;00m l \u001b[39min\u001b[39;00m lengths]\n\u001b[0;32m    <a href='file:///c%3A/Users/TNBAUTISTA/AppData/Local/Programs/Python/Python310/lib/site-packages/sklearn/utils/validation.py?line=385'>386</a>\u001b[0m     )\n",
      "\u001b[1;31mValueError\u001b[0m: Found input variables with inconsistent numbers of samples: [20, 1200]"
     ]
    }
   ],
   "source": [
    "def model_F_score(newp,newy_test):\n",
    "    TP=0\n",
    "    FN=0\n",
    "    FP=0\n",
    "    for i in range(len(newp)-1):\n",
    "        test_prof=newy_test[i+1]-newy_test[i]\n",
    "        p_prof=newp[i+1] - newp[i]\n",
    "\n",
    "        if((test_prof>=0) and (p_prof>=0)):\n",
    "            TP=TP+1\n",
    "        if ((test_prof>= 0) and (p_prof<0)):\n",
    "            FN=FN+1\n",
    "        if ((test_prof<0) and (p_prof>=0)):\n",
    "            FP=FP+1\n",
    "\n",
    "    Precision=float(TP)/float(TP+FP)\n",
    "    Recall=float(TP)/float(TP+FN)\n",
    "\n",
    "    Fscore= 2.0*Precision*Recall/(Precision+Recall)\n",
    "    print('classification F score: %.5f' % (Fscore))\n",
    "    return Fscore\n",
    "    \n",
    "testScore = math.sqrt(mean_squared_error(newp, newy_test))\n",
    "#print('RMSE' % (testScore))\n",
    "\n",
    "F_score=model_F_score(newp,newy_test)\n",
    "print ('F_score',F_score)\n"
   ]
  },
  {
   "cell_type": "code",
   "execution_count": 22,
   "metadata": {},
   "outputs": [
    {
     "data": {
      "text/html": [
       "<div>\n",
       "<style scoped>\n",
       "    .dataframe tbody tr th:only-of-type {\n",
       "        vertical-align: middle;\n",
       "    }\n",
       "\n",
       "    .dataframe tbody tr th {\n",
       "        vertical-align: top;\n",
       "    }\n",
       "\n",
       "    .dataframe thead th {\n",
       "        text-align: right;\n",
       "    }\n",
       "</style>\n",
       "<table border=\"1\" class=\"dataframe\">\n",
       "  <thead>\n",
       "    <tr style=\"text-align: right;\">\n",
       "      <th></th>\n",
       "      <th>pred_close</th>\n",
       "    </tr>\n",
       "    <tr>\n",
       "      <th>Date</th>\n",
       "      <th></th>\n",
       "    </tr>\n",
       "  </thead>\n",
       "  <tbody>\n",
       "    <tr>\n",
       "      <th>2022-05-19</th>\n",
       "      <td>133.110580</td>\n",
       "    </tr>\n",
       "    <tr>\n",
       "      <th>2022-05-20</th>\n",
       "      <td>129.968475</td>\n",
       "    </tr>\n",
       "    <tr>\n",
       "      <th>2022-05-21</th>\n",
       "      <td>123.716309</td>\n",
       "    </tr>\n",
       "    <tr>\n",
       "      <th>2022-05-22</th>\n",
       "      <td>115.244751</td>\n",
       "    </tr>\n",
       "    <tr>\n",
       "      <th>2022-05-23</th>\n",
       "      <td>105.909569</td>\n",
       "    </tr>\n",
       "    <tr>\n",
       "      <th>2022-05-24</th>\n",
       "      <td>97.057419</td>\n",
       "    </tr>\n",
       "    <tr>\n",
       "      <th>2022-05-25</th>\n",
       "      <td>89.644875</td>\n",
       "    </tr>\n",
       "    <tr>\n",
       "      <th>2022-05-26</th>\n",
       "      <td>84.097450</td>\n",
       "    </tr>\n",
       "    <tr>\n",
       "      <th>2022-05-27</th>\n",
       "      <td>80.369629</td>\n",
       "    </tr>\n",
       "    <tr>\n",
       "      <th>2022-05-28</th>\n",
       "      <td>78.139488</td>\n",
       "    </tr>\n",
       "    <tr>\n",
       "      <th>2022-05-29</th>\n",
       "      <td>76.993286</td>\n",
       "    </tr>\n",
       "    <tr>\n",
       "      <th>2022-05-30</th>\n",
       "      <td>76.551125</td>\n",
       "    </tr>\n",
       "    <tr>\n",
       "      <th>2022-05-31</th>\n",
       "      <td>76.517998</td>\n",
       "    </tr>\n",
       "    <tr>\n",
       "      <th>2022-06-01</th>\n",
       "      <td>76.690697</td>\n",
       "    </tr>\n",
       "    <tr>\n",
       "      <th>2022-06-02</th>\n",
       "      <td>76.941948</td>\n",
       "    </tr>\n",
       "    <tr>\n",
       "      <th>2022-06-03</th>\n",
       "      <td>77.197937</td>\n",
       "    </tr>\n",
       "    <tr>\n",
       "      <th>2022-06-04</th>\n",
       "      <td>77.421669</td>\n",
       "    </tr>\n",
       "    <tr>\n",
       "      <th>2022-06-05</th>\n",
       "      <td>77.598480</td>\n",
       "    </tr>\n",
       "    <tr>\n",
       "      <th>2022-06-06</th>\n",
       "      <td>77.726707</td>\n",
       "    </tr>\n",
       "    <tr>\n",
       "      <th>2022-06-07</th>\n",
       "      <td>77.811745</td>\n",
       "    </tr>\n",
       "  </tbody>\n",
       "</table>\n",
       "</div>"
      ],
      "text/plain": [
       "            pred_close\n",
       "Date                  \n",
       "2022-05-19  133.110580\n",
       "2022-05-20  129.968475\n",
       "2022-05-21  123.716309\n",
       "2022-05-22  115.244751\n",
       "2022-05-23  105.909569\n",
       "2022-05-24   97.057419\n",
       "2022-05-25   89.644875\n",
       "2022-05-26   84.097450\n",
       "2022-05-27   80.369629\n",
       "2022-05-28   78.139488\n",
       "2022-05-29   76.993286\n",
       "2022-05-30   76.551125\n",
       "2022-05-31   76.517998\n",
       "2022-06-01   76.690697\n",
       "2022-06-02   76.941948\n",
       "2022-06-03   77.197937\n",
       "2022-06-04   77.421669\n",
       "2022-06-05   77.598480\n",
       "2022-06-06   77.726707\n",
       "2022-06-07   77.811745"
      ]
     },
     "execution_count": 22,
     "metadata": {},
     "output_type": "execute_result"
    }
   ],
   "source": [
    "# df in future 20days\n",
    "\n",
    "pred_df=pd.DataFrame({'Date': ['2022-05-19','2022-05-20','2022-05-21','2022-05-22',\n",
    "                        '2022-05-23','2022-05-24','2022-05-25','2022-05-26',\n",
    "                        '2022-05-27','2022-05-28','2022-05-29','2022-05-30',\n",
    "                        '2022-05-31','2022-06-01','2022-06-02','2022-06-03',\n",
    "                        '2022-06-04','2022-06-05','2022-06-06','2022-06-07'\n",
    "                        ]\n",
    "                     }\n",
    ")\n",
    "pred_df['pred_close']=predicted_prices\n",
    "pred_df.set_index('Date', inplace=True)\n",
    "pred_df.head(21)"
   ]
  },
  {
   "cell_type": "code",
   "execution_count": 23,
   "metadata": {},
   "outputs": [
    {
     "data": {
      "text/plain": [
       "Date\n",
       "2022-04-21    132.809998\n",
       "2022-04-22    130.520004\n",
       "2022-04-25    127.120003\n",
       "2022-04-26    126.410004\n",
       "2022-04-27    123.559998\n",
       "2022-04-28    123.650002\n",
       "2022-04-29    123.610001\n",
       "2022-05-02    120.709999\n",
       "2022-05-03    124.169998\n",
       "2022-05-04    127.400002\n",
       "2022-05-05    126.099998\n",
       "2022-05-06    124.290001\n",
       "2022-05-09    123.330002\n",
       "2022-05-10    123.779999\n",
       "2022-05-11    122.889999\n",
       "2022-05-12    118.320000\n",
       "2022-05-13    120.250000\n",
       "2022-05-16    119.459999\n",
       "2022-05-17    122.970001\n",
       "2022-05-18    121.970001\n",
       "Name: High, dtype: float64"
      ]
     },
     "execution_count": 23,
     "metadata": {},
     "output_type": "execute_result"
    }
   ],
   "source": [
    "data_train.iloc[1586:1606,1]"
   ]
  },
  {
   "cell_type": "code",
   "execution_count": 24,
   "metadata": {},
   "outputs": [
    {
     "data": {
      "text/plain": [
       "1606"
      ]
     },
     "execution_count": 24,
     "metadata": {},
     "output_type": "execute_result"
    }
   ],
   "source": [
    "len(data_train.iloc[:,1])"
   ]
  },
  {
   "cell_type": "code",
   "execution_count": 25,
   "metadata": {},
   "outputs": [
    {
     "data": {
      "image/png": "[encoded data removed]",
      "text/plain": [
       "<Figure size 432x288 with 1 Axes>"
      ]
     },
     "metadata": {
      "needs_background": "light"
     },
     "output_type": "display_data"
    },
    {
     "data": {
      "text/plain": [
       "<Figure size 2880x1440 with 0 Axes>"
      ]
     },
     "metadata": {},
     "output_type": "display_data"
    }
   ],
   "source": [
    "plt.plot(data_train.iloc[1586:1606,1])\n",
    "plt.xticks(rotation=45)\n",
    "plt.figure(figsize = (40,20))\n",
    "plt.tight_layout()"
   ]
  },
  {
   "cell_type": "code",
   "execution_count": 26,
   "metadata": {},
   "outputs": [
    {
     "data": {
      "image/png": "[encoded data removed]",
      "text/plain": [
       "<Figure size 432x288 with 1 Axes>"
      ]
     },
     "metadata": {
      "needs_background": "light"
     },
     "output_type": "display_data"
    }
   ],
   "source": [
    "plt.plot(pred_df['pred_close'])\n",
    "plt.xticks(rotation = 45)\n",
    "plt.tight_layout()"
   ]
  },
  {
   "cell_type": "code",
   "execution_count": 27,
   "metadata": {},
   "outputs": [
    {
     "data": {
      "text/html": [
       "<div>\n",
       "<style scoped>\n",
       "    .dataframe tbody tr th:only-of-type {\n",
       "        vertical-align: middle;\n",
       "    }\n",
       "\n",
       "    .dataframe tbody tr th {\n",
       "        vertical-align: top;\n",
       "    }\n",
       "\n",
       "    .dataframe thead th {\n",
       "        text-align: right;\n",
       "    }\n",
       "</style>\n",
       "<table border=\"1\" class=\"dataframe\">\n",
       "  <thead>\n",
       "    <tr style=\"text-align: right;\">\n",
       "      <th></th>\n",
       "      <th>pred_close</th>\n",
       "    </tr>\n",
       "    <tr>\n",
       "      <th>Date</th>\n",
       "      <th></th>\n",
       "    </tr>\n",
       "  </thead>\n",
       "  <tbody>\n",
       "    <tr>\n",
       "      <th>2022-05-19</th>\n",
       "      <td>133.110580</td>\n",
       "    </tr>\n",
       "    <tr>\n",
       "      <th>2022-05-20</th>\n",
       "      <td>129.968475</td>\n",
       "    </tr>\n",
       "    <tr>\n",
       "      <th>2022-05-21</th>\n",
       "      <td>123.716309</td>\n",
       "    </tr>\n",
       "    <tr>\n",
       "      <th>2022-05-22</th>\n",
       "      <td>115.244751</td>\n",
       "    </tr>\n",
       "    <tr>\n",
       "      <th>2022-05-23</th>\n",
       "      <td>105.909569</td>\n",
       "    </tr>\n",
       "  </tbody>\n",
       "</table>\n",
       "</div>"
      ],
      "text/plain": [
       "            pred_close\n",
       "Date                  \n",
       "2022-05-19  133.110580\n",
       "2022-05-20  129.968475\n",
       "2022-05-21  123.716309\n",
       "2022-05-22  115.244751\n",
       "2022-05-23  105.909569"
      ]
     },
     "execution_count": 27,
     "metadata": {},
     "output_type": "execute_result"
    }
   ],
   "source": [
    "pred_df.head()"
   ]
  }
 ],
 "metadata": {
  "interpreter": {
   "hash": "28f48785ba2b4df99be2615d494f78c0a0d41557c5e588a59c1f4f92c99f64c8"
  },
  "kernelspec": {
   "display_name": "Python 3.10.4 64-bit",
   "language": "python",
   "name": "python3"
  },
  "language_info": {
   "codemirror_mode": {
    "name": "ipython",
    "version": 3
   },
   "file_extension": ".py",
   "mimetype": "text/x-python",
   "name": "python",
   "nbconvert_exporter": "python",
   "pygments_lexer": "ipython3",
   "version": "3.10.4"
  },
  "orig_nbformat": 4
 },
 "nbformat": 4,
 "nbformat_minor": 2
}
