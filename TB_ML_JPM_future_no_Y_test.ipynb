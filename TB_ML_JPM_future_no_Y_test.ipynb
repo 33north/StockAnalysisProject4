{
 "cells": [
  {
   "cell_type": "code",
   "execution_count": 1,
   "metadata": {},
   "outputs": [],
   "source": [
    "#Importing the Libraries\n",
    "import pandas as pd\n",
    "\n",
    "from datetime import datetime\n",
    "\n",
    "import numpy as np\n",
    "%matplotlib inline\n",
    "import matplotlib.pyplot as plt\n",
    "import matplotlib\n",
    "from sklearn.preprocessing import MinMaxScaler\n",
    "import sklearn as skl\n",
    "\n",
    "from sklearn.model_selection import TimeSeriesSplit\n",
    "from sklearn.metrics import mean_squared_error, r2_score\n",
    "import matplotlib.dates as mandates\n",
    "from sklearn import linear_model\n",
    "%matplotlib inline\n"
   ]
  },
  {
   "cell_type": "code",
   "execution_count": 2,
   "metadata": {},
   "outputs": [
    {
     "data": {
      "text/html": [
       "<div>\n",
       "<style scoped>\n",
       "    .dataframe tbody tr th:only-of-type {\n",
       "        vertical-align: middle;\n",
       "    }\n",
       "\n",
       "    .dataframe tbody tr th {\n",
       "        vertical-align: top;\n",
       "    }\n",
       "\n",
       "    .dataframe thead th {\n",
       "        text-align: right;\n",
       "    }\n",
       "</style>\n",
       "<table border=\"1\" class=\"dataframe\">\n",
       "  <thead>\n",
       "    <tr style=\"text-align: right;\">\n",
       "      <th></th>\n",
       "      <th>Open</th>\n",
       "      <th>High</th>\n",
       "      <th>Low</th>\n",
       "      <th>Close</th>\n",
       "      <th>Adj Close</th>\n",
       "      <th>Volume</th>\n",
       "    </tr>\n",
       "    <tr>\n",
       "      <th>Date</th>\n",
       "      <th></th>\n",
       "      <th></th>\n",
       "      <th></th>\n",
       "      <th></th>\n",
       "      <th></th>\n",
       "      <th></th>\n",
       "    </tr>\n",
       "  </thead>\n",
       "  <tbody>\n",
       "    <tr>\n",
       "      <th>2022-05-18</th>\n",
       "      <td>121.300003</td>\n",
       "      <td>121.970001</td>\n",
       "      <td>119.529999</td>\n",
       "      <td>120.089996</td>\n",
       "      <td>120.089996</td>\n",
       "      <td>12664900</td>\n",
       "    </tr>\n",
       "    <tr>\n",
       "      <th>2022-05-17</th>\n",
       "      <td>121.040001</td>\n",
       "      <td>122.970001</td>\n",
       "      <td>120.809998</td>\n",
       "      <td>122.180000</td>\n",
       "      <td>122.180000</td>\n",
       "      <td>11160200</td>\n",
       "    </tr>\n",
       "    <tr>\n",
       "      <th>2022-05-16</th>\n",
       "      <td>118.540001</td>\n",
       "      <td>119.459999</td>\n",
       "      <td>117.230003</td>\n",
       "      <td>118.260002</td>\n",
       "      <td>118.260002</td>\n",
       "      <td>10269000</td>\n",
       "    </tr>\n",
       "    <tr>\n",
       "      <th>2022-05-13</th>\n",
       "      <td>119.410004</td>\n",
       "      <td>120.250000</td>\n",
       "      <td>117.959999</td>\n",
       "      <td>119.089996</td>\n",
       "      <td>119.089996</td>\n",
       "      <td>10442400</td>\n",
       "    </tr>\n",
       "    <tr>\n",
       "      <th>2022-05-12</th>\n",
       "      <td>117.000000</td>\n",
       "      <td>118.320000</td>\n",
       "      <td>115.370003</td>\n",
       "      <td>118.040001</td>\n",
       "      <td>118.040001</td>\n",
       "      <td>16318800</td>\n",
       "    </tr>\n",
       "    <tr>\n",
       "      <th>...</th>\n",
       "      <td>...</td>\n",
       "      <td>...</td>\n",
       "      <td>...</td>\n",
       "      <td>...</td>\n",
       "      <td>...</td>\n",
       "      <td>...</td>\n",
       "    </tr>\n",
       "    <tr>\n",
       "      <th>2016-01-08</th>\n",
       "      <td>61.130001</td>\n",
       "      <td>61.270000</td>\n",
       "      <td>58.849998</td>\n",
       "      <td>58.919998</td>\n",
       "      <td>49.601185</td>\n",
       "      <td>22373300</td>\n",
       "    </tr>\n",
       "    <tr>\n",
       "      <th>2016-01-07</th>\n",
       "      <td>61.459999</td>\n",
       "      <td>62.000000</td>\n",
       "      <td>60.080002</td>\n",
       "      <td>60.270000</td>\n",
       "      <td>50.737659</td>\n",
       "      <td>27630900</td>\n",
       "    </tr>\n",
       "    <tr>\n",
       "      <th>2016-01-06</th>\n",
       "      <td>62.720001</td>\n",
       "      <td>63.130001</td>\n",
       "      <td>62.340000</td>\n",
       "      <td>62.810001</td>\n",
       "      <td>52.875938</td>\n",
       "      <td>22961500</td>\n",
       "    </tr>\n",
       "    <tr>\n",
       "      <th>2016-01-05</th>\n",
       "      <td>63.700001</td>\n",
       "      <td>64.129997</td>\n",
       "      <td>63.040001</td>\n",
       "      <td>63.730000</td>\n",
       "      <td>53.650433</td>\n",
       "      <td>16566700</td>\n",
       "    </tr>\n",
       "    <tr>\n",
       "      <th>2016-01-04</th>\n",
       "      <td>63.950001</td>\n",
       "      <td>64.059998</td>\n",
       "      <td>63.009998</td>\n",
       "      <td>63.619999</td>\n",
       "      <td>53.557831</td>\n",
       "      <td>25393200</td>\n",
       "    </tr>\n",
       "  </tbody>\n",
       "</table>\n",
       "<p>1606 rows × 6 columns</p>\n",
       "</div>"
      ],
      "text/plain": [
       "                  Open        High         Low       Close   Adj Close  \\\n",
       "Date                                                                     \n",
       "2022-05-18  121.300003  121.970001  119.529999  120.089996  120.089996   \n",
       "2022-05-17  121.040001  122.970001  120.809998  122.180000  122.180000   \n",
       "2022-05-16  118.540001  119.459999  117.230003  118.260002  118.260002   \n",
       "2022-05-13  119.410004  120.250000  117.959999  119.089996  119.089996   \n",
       "2022-05-12  117.000000  118.320000  115.370003  118.040001  118.040001   \n",
       "...                ...         ...         ...         ...         ...   \n",
       "2016-01-08   61.130001   61.270000   58.849998   58.919998   49.601185   \n",
       "2016-01-07   61.459999   62.000000   60.080002   60.270000   50.737659   \n",
       "2016-01-06   62.720001   63.130001   62.340000   62.810001   52.875938   \n",
       "2016-01-05   63.700001   64.129997   63.040001   63.730000   53.650433   \n",
       "2016-01-04   63.950001   64.059998   63.009998   63.619999   53.557831   \n",
       "\n",
       "              Volume  \n",
       "Date                  \n",
       "2022-05-18  12664900  \n",
       "2022-05-17  11160200  \n",
       "2022-05-16  10269000  \n",
       "2022-05-13  10442400  \n",
       "2022-05-12  16318800  \n",
       "...              ...  \n",
       "2016-01-08  22373300  \n",
       "2016-01-07  27630900  \n",
       "2016-01-06  22961500  \n",
       "2016-01-05  16566700  \n",
       "2016-01-04  25393200  \n",
       "\n",
       "[1606 rows x 6 columns]"
      ]
     },
     "execution_count": 2,
     "metadata": {},
     "output_type": "execute_result"
    }
   ],
   "source": [
    "#Get the Dataset\n",
    "data_train=pd.read_csv(\"NewData/JPM2016_2022.csv\",na_values=['null'],index_col='Date',parse_dates=True,infer_datetime_format=True)\n",
    "data_train.sort_values(by=\"Date\", ascending = False)"
   ]
  },
  {
   "cell_type": "code",
   "execution_count": 3,
   "metadata": {},
   "outputs": [
    {
     "data": {
      "text/plain": [
       "Open         float64\n",
       "High         float64\n",
       "Low          float64\n",
       "Close        float64\n",
       "Adj Close    float64\n",
       "Volume         int64\n",
       "dtype: object"
      ]
     },
     "execution_count": 3,
     "metadata": {},
     "output_type": "execute_result"
    }
   ],
   "source": [
    "data_train.dtypes"
   ]
  },
  {
   "cell_type": "code",
   "execution_count": 4,
   "metadata": {},
   "outputs": [
    {
     "name": "stdout",
     "output_type": "stream",
     "text": [
      "Dataframe Shape:  (1606, 6)\n",
      "Null Value Present:  False\n"
     ]
    }
   ],
   "source": [
    "#Print the shape of Dataframe  and Check for Null Values\n",
    "print(\"Dataframe Shape: \", data_train. shape)\n",
    "print(\"Null Value Present: \", data_train.isnull().values.any())"
   ]
  },
  {
   "cell_type": "code",
   "execution_count": 5,
   "metadata": {},
   "outputs": [
    {
     "name": "stdout",
     "output_type": "stream",
     "text": [
      "[[ 64.059998]\n",
      " [ 64.129997]\n",
      " [ 63.130001]\n",
      " ...\n",
      " [119.459999]\n",
      " [122.970001]\n",
      " [121.970001]]\n",
      "(1606, 1)\n"
     ]
    }
   ],
   "source": [
    "# Use close price to Train the model\n",
    "\n",
    "training_set = data_train.iloc[:,1:2].values\n",
    "print(training_set)\n",
    "print(training_set.shape)"
   ]
  },
  {
   "cell_type": "code",
   "execution_count": 6,
   "metadata": {},
   "outputs": [
    {
     "data": {
      "text/plain": [
       "array([[0.08525827],\n",
       "       [0.08584625],\n",
       "       [0.07744645],\n",
       "       ...,\n",
       "       [0.55060895],\n",
       "       [0.58009237],\n",
       "       [0.57169254]])"
      ]
     },
     "execution_count": 6,
     "metadata": {},
     "output_type": "execute_result"
    }
   ],
   "source": [
    "# Normalize the dataset (0,1): scale the dataset to be from 0 to 1: \n",
    "\n",
    "scaler = MinMaxScaler(feature_range = (0,1))\n",
    "scaled_training_set = scaler.fit_transform(training_set)\n",
    "scaled_training_set"
   ]
  },
  {
   "cell_type": "code",
   "execution_count": 7,
   "metadata": {},
   "outputs": [],
   "source": [
    "# Create X_train and y_train data structure\n",
    "\n",
    "X_train = []\n",
    "y_train = []\n",
    "for i in range(60,1354):\n",
    "    X_train.append(scaled_training_set[i-60:i,0])\n",
    "    y_train.append(scaled_training_set[i,0])\n",
    "X_train = np.array(X_train)\n",
    "y_train = np.array(y_train)\n"
   ]
  },
  {
   "cell_type": "code",
   "execution_count": 8,
   "metadata": {},
   "outputs": [
    {
     "name": "stdout",
     "output_type": "stream",
     "text": [
      "[[0.08525827 0.08584625 0.07744645 ... 0.04905502 0.0455271  0.05308694]\n",
      " [0.08584625 0.07744645 0.06795464 ... 0.0455271  0.05308694 0.05056699]\n",
      " [0.07744645 0.06795464 0.06182276 ... 0.05308694 0.05056699 0.05165897]\n",
      " ...\n",
      " [0.79739597 0.80873579 0.8265434  ... 0.89768999 0.91171769 0.92851735]\n",
      " [0.80873579 0.8265434  0.83872313 ... 0.91171769 0.92851735 0.93187736]\n",
      " [0.8265434  0.83872313 0.84829893 ... 0.92851735 0.93187736 0.9373372 ]]\n"
     ]
    }
   ],
   "source": [
    "print(X_train)"
   ]
  },
  {
   "cell_type": "code",
   "execution_count": 9,
   "metadata": {},
   "outputs": [
    {
     "name": "stdout",
     "output_type": "stream",
     "text": [
      "(1294, 60)\n",
      "(1294,)\n"
     ]
    }
   ],
   "source": [
    "print(X_train.shape)\n",
    "print(y_train.shape)"
   ]
  },
  {
   "cell_type": "code",
   "execution_count": 10,
   "metadata": {},
   "outputs": [
    {
     "data": {
      "text/plain": [
       "(1294, 60, 1)"
      ]
     },
     "execution_count": 10,
     "metadata": {},
     "output_type": "execute_result"
    }
   ],
   "source": [
    "# Reshape the data\n",
    "\n",
    "X_train = np.reshape(X_train,(X_train.shape[0],X_train.shape[1],1))\n",
    "X_train.shape"
   ]
  },
  {
   "cell_type": "code",
   "execution_count": 11,
   "metadata": {},
   "outputs": [],
   "source": [
    "# by Importing the Crucial Libraries \n",
    "\n",
    "from keras.models import Sequential\n",
    "from keras.layers import Dense, LSTM\n",
    "from keras.layers import Dropout"
   ]
  },
  {
   "cell_type": "code",
   "execution_count": 12,
   "metadata": {},
   "outputs": [],
   "source": [
    "# Building the Model by Adding Different Layers to LSTM\n",
    "\n",
    "regressor = Sequential()\n",
    "\n",
    "regressor.add(LSTM(units = 32, return_sequences=True, input_shape = (X_train.shape[1],1), activation = \"relu\"))\n",
    "regressor.add(Dropout(0.2))\n",
    "\n",
    "regressor.add(LSTM(units=32, return_sequences=True))\n",
    "regressor.add(Dropout(0.2))\n",
    "\n",
    "regressor.add(LSTM(units=32, return_sequences=True))\n",
    "regressor.add(Dropout(0.2))\n",
    "\n",
    "regressor.add(LSTM(units=32))\n",
    "regressor.add(Dropout(0.2))\n",
    "\n",
    "regressor.add(Dense(units=1))\n"
   ]
  },
  {
   "cell_type": "code",
   "execution_count": 13,
   "metadata": {},
   "outputs": [
    {
     "name": "stdout",
     "output_type": "stream",
     "text": [
      "Epoch 1/50\n",
      "162/162 [==============================] - 8s 30ms/step - loss: 0.0074\n",
      "Epoch 2/50\n",
      "162/162 [==============================] - 5s 30ms/step - loss: 0.0338\n",
      "Epoch 3/50\n",
      "162/162 [==============================] - 5s 29ms/step - loss: 0.0468\n",
      "Epoch 4/50\n",
      "162/162 [==============================] - 5s 29ms/step - loss: 0.0304\n",
      "Epoch 5/50\n",
      "162/162 [==============================] - 5s 29ms/step - loss: 0.0154\n",
      "Epoch 6/50\n",
      "162/162 [==============================] - 5s 29ms/step - loss: 0.0113\n",
      "Epoch 7/50\n",
      "162/162 [==============================] - 5s 29ms/step - loss: 0.0106\n",
      "Epoch 8/50\n",
      "162/162 [==============================] - 5s 29ms/step - loss: 0.0096\n",
      "Epoch 9/50\n",
      "162/162 [==============================] - 5s 30ms/step - loss: 0.0095\n",
      "Epoch 10/50\n",
      "162/162 [==============================] - 5s 29ms/step - loss: 0.0074\n",
      "Epoch 11/50\n",
      "162/162 [==============================] - 5s 29ms/step - loss: 0.0071\n",
      "Epoch 12/50\n",
      "162/162 [==============================] - 5s 29ms/step - loss: 0.0059\n",
      "Epoch 13/50\n",
      "162/162 [==============================] - 5s 29ms/step - loss: 0.0052\n",
      "Epoch 14/50\n",
      "162/162 [==============================] - 5s 29ms/step - loss: 0.0052\n",
      "Epoch 15/50\n",
      "162/162 [==============================] - 5s 29ms/step - loss: 0.0053\n",
      "Epoch 16/50\n",
      "162/162 [==============================] - 5s 29ms/step - loss: 0.0051\n",
      "Epoch 17/50\n",
      "162/162 [==============================] - 5s 30ms/step - loss: 0.0057\n",
      "Epoch 18/50\n",
      "162/162 [==============================] - 5s 29ms/step - loss: 0.0053\n",
      "Epoch 19/50\n",
      "162/162 [==============================] - 5s 29ms/step - loss: 0.0054\n",
      "Epoch 20/50\n",
      "162/162 [==============================] - 5s 29ms/step - loss: 0.0045\n",
      "Epoch 21/50\n",
      "162/162 [==============================] - 5s 30ms/step - loss: 0.0042\n",
      "Epoch 22/50\n",
      "162/162 [==============================] - 5s 29ms/step - loss: 0.0043\n",
      "Epoch 23/50\n",
      "162/162 [==============================] - 5s 29ms/step - loss: 0.0043\n",
      "Epoch 24/50\n",
      "162/162 [==============================] - 5s 29ms/step - loss: 0.0045\n",
      "Epoch 25/50\n",
      "162/162 [==============================] - 5s 29ms/step - loss: 0.0045\n",
      "Epoch 26/50\n",
      "162/162 [==============================] - 5s 29ms/step - loss: 0.0044\n",
      "Epoch 27/50\n",
      "162/162 [==============================] - 5s 29ms/step - loss: 0.0048\n",
      "Epoch 28/50\n",
      "162/162 [==============================] - 5s 30ms/step - loss: 0.0042\n",
      "Epoch 29/50\n",
      "162/162 [==============================] - 5s 30ms/step - loss: 0.0037\n",
      "Epoch 30/50\n",
      "162/162 [==============================] - 5s 30ms/step - loss: 0.0035\n",
      "Epoch 31/50\n",
      "162/162 [==============================] - 5s 30ms/step - loss: 0.0033\n",
      "Epoch 32/50\n",
      "162/162 [==============================] - 5s 30ms/step - loss: 0.0036\n",
      "Epoch 33/50\n",
      "162/162 [==============================] - 5s 30ms/step - loss: 0.0033\n",
      "Epoch 34/50\n",
      "162/162 [==============================] - 5s 30ms/step - loss: 0.0034\n",
      "Epoch 35/50\n",
      "162/162 [==============================] - 5s 30ms/step - loss: 0.0036\n",
      "Epoch 36/50\n",
      "162/162 [==============================] - 5s 31ms/step - loss: 0.0034\n",
      "Epoch 37/50\n",
      "162/162 [==============================] - 5s 30ms/step - loss: 0.0032\n",
      "Epoch 38/50\n",
      "162/162 [==============================] - 5s 30ms/step - loss: 0.0032\n",
      "Epoch 39/50\n",
      "162/162 [==============================] - 5s 30ms/step - loss: 0.0029\n",
      "Epoch 40/50\n",
      "162/162 [==============================] - 5s 30ms/step - loss: 0.0034\n",
      "Epoch 41/50\n",
      "162/162 [==============================] - 5s 30ms/step - loss: 0.0035\n",
      "Epoch 42/50\n",
      "162/162 [==============================] - 5s 30ms/step - loss: 0.0031\n",
      "Epoch 43/50\n",
      "162/162 [==============================] - 5s 30ms/step - loss: 0.0034\n",
      "Epoch 44/50\n",
      "162/162 [==============================] - 5s 30ms/step - loss: 0.0030\n",
      "Epoch 45/50\n",
      "162/162 [==============================] - 5s 30ms/step - loss: 0.0028\n",
      "Epoch 46/50\n",
      "162/162 [==============================] - 5s 30ms/step - loss: 0.0028\n",
      "Epoch 47/50\n",
      "162/162 [==============================] - 5s 30ms/step - loss: 0.0026\n",
      "Epoch 48/50\n",
      "162/162 [==============================] - 5s 30ms/step - loss: 0.0026\n",
      "Epoch 49/50\n",
      "162/162 [==============================] - 5s 30ms/step - loss: 0.0027\n",
      "Epoch 50/50\n",
      "162/162 [==============================] - 5s 30ms/step - loss: 0.0025\n"
     ]
    },
    {
     "data": {
      "text/plain": [
       "<keras.callbacks.History at 0x2c73edf4eb0>"
      ]
     },
     "execution_count": 13,
     "metadata": {},
     "output_type": "execute_result"
    }
   ],
   "source": [
    "# Fit the Model\n",
    "\n",
    "regressor.compile(optimizer='adam', loss = 'mean_squared_error')\n",
    "regressor.fit(X_train, y_train, epochs=50, batch_size=8, verbose=1, shuffle=False)"
   ]
  },
  {
   "cell_type": "code",
   "execution_count": 14,
   "metadata": {},
   "outputs": [
    {
     "data": {
      "text/html": [
       "<div>\n",
       "<style scoped>\n",
       "    .dataframe tbody tr th:only-of-type {\n",
       "        vertical-align: middle;\n",
       "    }\n",
       "\n",
       "    .dataframe tbody tr th {\n",
       "        vertical-align: top;\n",
       "    }\n",
       "\n",
       "    .dataframe thead th {\n",
       "        text-align: right;\n",
       "    }\n",
       "</style>\n",
       "<table border=\"1\" class=\"dataframe\">\n",
       "  <thead>\n",
       "    <tr style=\"text-align: right;\">\n",
       "      <th></th>\n",
       "      <th>Open</th>\n",
       "      <th>High</th>\n",
       "      <th>Low</th>\n",
       "      <th>Close</th>\n",
       "      <th>Adj Close</th>\n",
       "      <th>Volume</th>\n",
       "    </tr>\n",
       "    <tr>\n",
       "      <th>Date</th>\n",
       "      <th></th>\n",
       "      <th></th>\n",
       "      <th></th>\n",
       "      <th></th>\n",
       "      <th></th>\n",
       "      <th></th>\n",
       "    </tr>\n",
       "  </thead>\n",
       "  <tbody>\n",
       "    <tr>\n",
       "      <th>2016-01-04</th>\n",
       "      <td>63.950001</td>\n",
       "      <td>64.059998</td>\n",
       "      <td>63.009998</td>\n",
       "      <td>63.619999</td>\n",
       "      <td>53.557831</td>\n",
       "      <td>25393200</td>\n",
       "    </tr>\n",
       "    <tr>\n",
       "      <th>2016-01-05</th>\n",
       "      <td>63.700001</td>\n",
       "      <td>64.129997</td>\n",
       "      <td>63.040001</td>\n",
       "      <td>63.730000</td>\n",
       "      <td>53.650433</td>\n",
       "      <td>16566700</td>\n",
       "    </tr>\n",
       "    <tr>\n",
       "      <th>2016-01-06</th>\n",
       "      <td>62.720001</td>\n",
       "      <td>63.130001</td>\n",
       "      <td>62.340000</td>\n",
       "      <td>62.810001</td>\n",
       "      <td>52.875938</td>\n",
       "      <td>22961500</td>\n",
       "    </tr>\n",
       "    <tr>\n",
       "      <th>2016-01-07</th>\n",
       "      <td>61.459999</td>\n",
       "      <td>62.000000</td>\n",
       "      <td>60.080002</td>\n",
       "      <td>60.270000</td>\n",
       "      <td>50.737659</td>\n",
       "      <td>27630900</td>\n",
       "    </tr>\n",
       "    <tr>\n",
       "      <th>2016-01-08</th>\n",
       "      <td>61.130001</td>\n",
       "      <td>61.270000</td>\n",
       "      <td>58.849998</td>\n",
       "      <td>58.919998</td>\n",
       "      <td>49.601185</td>\n",
       "      <td>22373300</td>\n",
       "    </tr>\n",
       "    <tr>\n",
       "      <th>...</th>\n",
       "      <td>...</td>\n",
       "      <td>...</td>\n",
       "      <td>...</td>\n",
       "      <td>...</td>\n",
       "      <td>...</td>\n",
       "      <td>...</td>\n",
       "    </tr>\n",
       "    <tr>\n",
       "      <th>2022-05-12</th>\n",
       "      <td>117.000000</td>\n",
       "      <td>118.320000</td>\n",
       "      <td>115.370003</td>\n",
       "      <td>118.040001</td>\n",
       "      <td>118.040001</td>\n",
       "      <td>16318800</td>\n",
       "    </tr>\n",
       "    <tr>\n",
       "      <th>2022-05-13</th>\n",
       "      <td>119.410004</td>\n",
       "      <td>120.250000</td>\n",
       "      <td>117.959999</td>\n",
       "      <td>119.089996</td>\n",
       "      <td>119.089996</td>\n",
       "      <td>10442400</td>\n",
       "    </tr>\n",
       "    <tr>\n",
       "      <th>2022-05-16</th>\n",
       "      <td>118.540001</td>\n",
       "      <td>119.459999</td>\n",
       "      <td>117.230003</td>\n",
       "      <td>118.260002</td>\n",
       "      <td>118.260002</td>\n",
       "      <td>10269000</td>\n",
       "    </tr>\n",
       "    <tr>\n",
       "      <th>2022-05-17</th>\n",
       "      <td>121.040001</td>\n",
       "      <td>122.970001</td>\n",
       "      <td>120.809998</td>\n",
       "      <td>122.180000</td>\n",
       "      <td>122.180000</td>\n",
       "      <td>11160200</td>\n",
       "    </tr>\n",
       "    <tr>\n",
       "      <th>2022-05-18</th>\n",
       "      <td>121.300003</td>\n",
       "      <td>121.970001</td>\n",
       "      <td>119.529999</td>\n",
       "      <td>120.089996</td>\n",
       "      <td>120.089996</td>\n",
       "      <td>12664900</td>\n",
       "    </tr>\n",
       "  </tbody>\n",
       "</table>\n",
       "<p>1606 rows × 6 columns</p>\n",
       "</div>"
      ],
      "text/plain": [
       "                  Open        High         Low       Close   Adj Close  \\\n",
       "Date                                                                     \n",
       "2016-01-04   63.950001   64.059998   63.009998   63.619999   53.557831   \n",
       "2016-01-05   63.700001   64.129997   63.040001   63.730000   53.650433   \n",
       "2016-01-06   62.720001   63.130001   62.340000   62.810001   52.875938   \n",
       "2016-01-07   61.459999   62.000000   60.080002   60.270000   50.737659   \n",
       "2016-01-08   61.130001   61.270000   58.849998   58.919998   49.601185   \n",
       "...                ...         ...         ...         ...         ...   \n",
       "2022-05-12  117.000000  118.320000  115.370003  118.040001  118.040001   \n",
       "2022-05-13  119.410004  120.250000  117.959999  119.089996  119.089996   \n",
       "2022-05-16  118.540001  119.459999  117.230003  118.260002  118.260002   \n",
       "2022-05-17  121.040001  122.970001  120.809998  122.180000  122.180000   \n",
       "2022-05-18  121.300003  121.970001  119.529999  120.089996  120.089996   \n",
       "\n",
       "              Volume  \n",
       "Date                  \n",
       "2016-01-04  25393200  \n",
       "2016-01-05  16566700  \n",
       "2016-01-06  22961500  \n",
       "2016-01-07  27630900  \n",
       "2016-01-08  22373300  \n",
       "...              ...  \n",
       "2022-05-12  16318800  \n",
       "2022-05-13  10442400  \n",
       "2022-05-16  10269000  \n",
       "2022-05-17  11160200  \n",
       "2022-05-18  12664900  \n",
       "\n",
       "[1606 rows x 6 columns]"
      ]
     },
     "execution_count": 14,
     "metadata": {},
     "output_type": "execute_result"
    }
   ],
   "source": [
    "# Use the current close price as sample dataset for prediction\n",
    "\n",
    "data_test = data_train\n",
    "data_test\n"
   ]
  },
  {
   "cell_type": "code",
   "execution_count": 15,
   "metadata": {},
   "outputs": [],
   "source": [
    "# prepare the inputs for the prediction model\n",
    "\n",
    "dataset_total = pd.concat((data_train['Open'], data_train['Close']), axis = 0)\n",
    "inputs = dataset_total[len(dataset_total)-len(data_train)-60:].values\n",
    "\n",
    "inputs = inputs.reshape(-1,1)\n",
    "inputs = scaler.transform(inputs)"
   ]
  },
  {
   "cell_type": "code",
   "execution_count": 16,
   "metadata": {},
   "outputs": [],
   "source": [
    "X_test = []\n",
    "for x in range(60,80):\n",
    "    X_test.append(inputs[x-60:x,0])\n",
    "X_test = np.array(X_test)\n",
    "X_test=np.reshape(X_test,(X_test.shape[0], X_test.shape[1],1))"
   ]
  },
  {
   "cell_type": "code",
   "execution_count": 17,
   "metadata": {},
   "outputs": [
    {
     "data": {
      "text/plain": [
       "array([[0.6055616 ],\n",
       "       [0.57031953],\n",
       "       [0.5089485 ],\n",
       "       [0.43984643],\n",
       "       [0.37652293],\n",
       "       [0.3257799 ],\n",
       "       [0.28896773],\n",
       "       [0.26403412],\n",
       "       [0.24728265],\n",
       "       [0.236013  ],\n",
       "       [0.22791187],\n",
       "       [0.22166474],\n",
       "       [0.21631438],\n",
       "       [0.2115086 ],\n",
       "       [0.20741445],\n",
       "       [0.20381093],\n",
       "       [0.20077012],\n",
       "       [0.19822776],\n",
       "       [0.19610623],\n",
       "       [0.19453709]], dtype=float32)"
      ]
     },
     "execution_count": 17,
     "metadata": {},
     "output_type": "execute_result"
    }
   ],
   "source": [
    "predicted_prices = regressor.predict(X_test)\n",
    "predicted_prices"
   ]
  },
  {
   "cell_type": "code",
   "execution_count": 18,
   "metadata": {},
   "outputs": [
    {
     "data": {
      "text/plain": [
       "array([[126.00212 ],\n",
       "       [121.80655 ],\n",
       "       [114.50032 ],\n",
       "       [106.27372 ],\n",
       "       [ 98.73506 ],\n",
       "       [ 92.6941  ],\n",
       "       [ 88.31161 ],\n",
       "       [ 85.34327 ],\n",
       "       [ 83.34901 ],\n",
       "       [ 82.00735 ],\n",
       "       [ 81.04291 ],\n",
       "       [ 80.29919 ],\n",
       "       [ 79.662224],\n",
       "       [ 79.0901  ],\n",
       "       [ 78.60269 ],\n",
       "       [ 78.17369 ],\n",
       "       [ 77.81168 ],\n",
       "       [ 77.50902 ],\n",
       "       [ 77.25645 ],\n",
       "       [ 77.06964 ]], dtype=float32)"
      ]
     },
     "execution_count": 18,
     "metadata": {},
     "output_type": "execute_result"
    }
   ],
   "source": [
    "# List prices in the next 20 days: \n",
    "predicted_prices= scaler.inverse_transform(predicted_prices)\n",
    "predicted_prices"
   ]
  },
  {
   "cell_type": "code",
   "execution_count": 19,
   "metadata": {},
   "outputs": [
    {
     "data": {
      "text/plain": [
       "20"
      ]
     },
     "execution_count": 19,
     "metadata": {},
     "output_type": "execute_result"
    }
   ],
   "source": [
    "len(predicted_prices)\n"
   ]
  },
  {
   "cell_type": "code",
   "execution_count": 20,
   "metadata": {},
   "outputs": [
    {
     "data": {
      "text/html": [
       "<div>\n",
       "<style scoped>\n",
       "    .dataframe tbody tr th:only-of-type {\n",
       "        vertical-align: middle;\n",
       "    }\n",
       "\n",
       "    .dataframe tbody tr th {\n",
       "        vertical-align: top;\n",
       "    }\n",
       "\n",
       "    .dataframe thead th {\n",
       "        text-align: right;\n",
       "    }\n",
       "</style>\n",
       "<table border=\"1\" class=\"dataframe\">\n",
       "  <thead>\n",
       "    <tr style=\"text-align: right;\">\n",
       "      <th></th>\n",
       "      <th>pred_close</th>\n",
       "    </tr>\n",
       "    <tr>\n",
       "      <th>Date</th>\n",
       "      <th></th>\n",
       "    </tr>\n",
       "  </thead>\n",
       "  <tbody>\n",
       "    <tr>\n",
       "      <th>2022-05-19</th>\n",
       "      <td>126.002121</td>\n",
       "    </tr>\n",
       "    <tr>\n",
       "      <th>2022-05-20</th>\n",
       "      <td>121.806549</td>\n",
       "    </tr>\n",
       "    <tr>\n",
       "      <th>2022-05-21</th>\n",
       "      <td>114.500320</td>\n",
       "    </tr>\n",
       "    <tr>\n",
       "      <th>2022-05-22</th>\n",
       "      <td>106.273720</td>\n",
       "    </tr>\n",
       "    <tr>\n",
       "      <th>2022-05-23</th>\n",
       "      <td>98.735062</td>\n",
       "    </tr>\n",
       "    <tr>\n",
       "      <th>2022-05-24</th>\n",
       "      <td>92.694099</td>\n",
       "    </tr>\n",
       "    <tr>\n",
       "      <th>2022-05-25</th>\n",
       "      <td>88.311607</td>\n",
       "    </tr>\n",
       "    <tr>\n",
       "      <th>2022-05-26</th>\n",
       "      <td>85.343269</td>\n",
       "    </tr>\n",
       "    <tr>\n",
       "      <th>2022-05-27</th>\n",
       "      <td>83.349007</td>\n",
       "    </tr>\n",
       "    <tr>\n",
       "      <th>2022-05-28</th>\n",
       "      <td>82.007347</td>\n",
       "    </tr>\n",
       "    <tr>\n",
       "      <th>2022-05-29</th>\n",
       "      <td>81.042908</td>\n",
       "    </tr>\n",
       "    <tr>\n",
       "      <th>2022-05-30</th>\n",
       "      <td>80.299187</td>\n",
       "    </tr>\n",
       "    <tr>\n",
       "      <th>2022-05-31</th>\n",
       "      <td>79.662224</td>\n",
       "    </tr>\n",
       "    <tr>\n",
       "      <th>2022-06-01</th>\n",
       "      <td>79.090103</td>\n",
       "    </tr>\n",
       "    <tr>\n",
       "      <th>2022-06-02</th>\n",
       "      <td>78.602692</td>\n",
       "    </tr>\n",
       "    <tr>\n",
       "      <th>2022-06-03</th>\n",
       "      <td>78.173691</td>\n",
       "    </tr>\n",
       "    <tr>\n",
       "      <th>2022-06-04</th>\n",
       "      <td>77.811684</td>\n",
       "    </tr>\n",
       "    <tr>\n",
       "      <th>2022-06-05</th>\n",
       "      <td>77.509018</td>\n",
       "    </tr>\n",
       "    <tr>\n",
       "      <th>2022-06-06</th>\n",
       "      <td>77.256447</td>\n",
       "    </tr>\n",
       "    <tr>\n",
       "      <th>2022-06-07</th>\n",
       "      <td>77.069641</td>\n",
       "    </tr>\n",
       "  </tbody>\n",
       "</table>\n",
       "</div>"
      ],
      "text/plain": [
       "            pred_close\n",
       "Date                  \n",
       "2022-05-19  126.002121\n",
       "2022-05-20  121.806549\n",
       "2022-05-21  114.500320\n",
       "2022-05-22  106.273720\n",
       "2022-05-23   98.735062\n",
       "2022-05-24   92.694099\n",
       "2022-05-25   88.311607\n",
       "2022-05-26   85.343269\n",
       "2022-05-27   83.349007\n",
       "2022-05-28   82.007347\n",
       "2022-05-29   81.042908\n",
       "2022-05-30   80.299187\n",
       "2022-05-31   79.662224\n",
       "2022-06-01   79.090103\n",
       "2022-06-02   78.602692\n",
       "2022-06-03   78.173691\n",
       "2022-06-04   77.811684\n",
       "2022-06-05   77.509018\n",
       "2022-06-06   77.256447\n",
       "2022-06-07   77.069641"
      ]
     },
     "execution_count": 20,
     "metadata": {},
     "output_type": "execute_result"
    }
   ],
   "source": [
    "# df in future 20days\n",
    "\n",
    "pred_df=pd.DataFrame({'Date': ['2022-05-19','2022-05-20','2022-05-21','2022-05-22',\n",
    "                        '2022-05-23','2022-05-24','2022-05-25','2022-05-26',\n",
    "                        '2022-05-27','2022-05-28','2022-05-29','2022-05-30',\n",
    "                        '2022-05-31','2022-06-01','2022-06-02','2022-06-03',\n",
    "                        '2022-06-04','2022-06-05','2022-06-06','2022-06-07'\n",
    "                        ]\n",
    "                     }\n",
    ")\n",
    "pred_df['pred_close']=predicted_prices\n",
    "pred_df.set_index('Date', inplace=True)\n",
    "pred_df.head(21)"
   ]
  },
  {
   "cell_type": "code",
   "execution_count": 21,
   "metadata": {},
   "outputs": [
    {
     "data": {
      "text/plain": [
       "Date\n",
       "2022-04-21    132.809998\n",
       "2022-04-22    130.520004\n",
       "2022-04-25    127.120003\n",
       "2022-04-26    126.410004\n",
       "2022-04-27    123.559998\n",
       "2022-04-28    123.650002\n",
       "2022-04-29    123.610001\n",
       "2022-05-02    120.709999\n",
       "2022-05-03    124.169998\n",
       "2022-05-04    127.400002\n",
       "2022-05-05    126.099998\n",
       "2022-05-06    124.290001\n",
       "2022-05-09    123.330002\n",
       "2022-05-10    123.779999\n",
       "2022-05-11    122.889999\n",
       "2022-05-12    118.320000\n",
       "2022-05-13    120.250000\n",
       "2022-05-16    119.459999\n",
       "2022-05-17    122.970001\n",
       "2022-05-18    121.970001\n",
       "Name: High, dtype: float64"
      ]
     },
     "execution_count": 21,
     "metadata": {},
     "output_type": "execute_result"
    }
   ],
   "source": [
    "data_train.iloc[1586:1606,1]"
   ]
  },
  {
   "cell_type": "code",
   "execution_count": 22,
   "metadata": {},
   "outputs": [
    {
     "data": {
      "text/plain": [
       "1606"
      ]
     },
     "execution_count": 22,
     "metadata": {},
     "output_type": "execute_result"
    }
   ],
   "source": [
    "len(data_train.iloc[:,1])"
   ]
  },
  {
   "cell_type": "code",
   "execution_count": 23,
   "metadata": {},
   "outputs": [
    {
     "data": {
      "image/png": "[encoded data removed]",
      "text/plain": [
       "<Figure size 432x288 with 1 Axes>"
      ]
     },
     "metadata": {
      "needs_background": "light"
     },
     "output_type": "display_data"
    },
    {
     "data": {
      "text/plain": [
       "<Figure size 2880x1440 with 0 Axes>"
      ]
     },
     "metadata": {},
     "output_type": "display_data"
    }
   ],
   "source": [
    "plt.plot(data_train.iloc[1586:1606,1])\n",
    "plt.xticks(rotation=45)\n",
    "plt.figure(figsize = (40,20))\n",
    "plt.tight_layout()"
   ]
  },
  {
   "cell_type": "code",
   "execution_count": 24,
   "metadata": {},
   "outputs": [
    {
     "data": {
      "image/png": "[encoded data removed]",
      "text/plain": [
       "<Figure size 432x288 with 1 Axes>"
      ]
     },
     "metadata": {
      "needs_background": "light"
     },
     "output_type": "display_data"
    }
   ],
   "source": [
    "plt.plot(pred_df['pred_close'])\n",
    "plt.xticks(rotation = 45)\n",
    "plt.tight_layout()"
   ]
  },
  {
   "cell_type": "code",
   "execution_count": 25,
   "metadata": {},
   "outputs": [
    {
     "data": {
      "text/html": [
       "<div>\n",
       "<style scoped>\n",
       "    .dataframe tbody tr th:only-of-type {\n",
       "        vertical-align: middle;\n",
       "    }\n",
       "\n",
       "    .dataframe tbody tr th {\n",
       "        vertical-align: top;\n",
       "    }\n",
       "\n",
       "    .dataframe thead th {\n",
       "        text-align: right;\n",
       "    }\n",
       "</style>\n",
       "<table border=\"1\" class=\"dataframe\">\n",
       "  <thead>\n",
       "    <tr style=\"text-align: right;\">\n",
       "      <th></th>\n",
       "      <th>pred_close</th>\n",
       "    </tr>\n",
       "    <tr>\n",
       "      <th>Date</th>\n",
       "      <th></th>\n",
       "    </tr>\n",
       "  </thead>\n",
       "  <tbody>\n",
       "    <tr>\n",
       "      <th>2022-05-19</th>\n",
       "      <td>126.002121</td>\n",
       "    </tr>\n",
       "    <tr>\n",
       "      <th>2022-05-20</th>\n",
       "      <td>121.806549</td>\n",
       "    </tr>\n",
       "    <tr>\n",
       "      <th>2022-05-21</th>\n",
       "      <td>114.500320</td>\n",
       "    </tr>\n",
       "    <tr>\n",
       "      <th>2022-05-22</th>\n",
       "      <td>106.273720</td>\n",
       "    </tr>\n",
       "    <tr>\n",
       "      <th>2022-05-23</th>\n",
       "      <td>98.735062</td>\n",
       "    </tr>\n",
       "  </tbody>\n",
       "</table>\n",
       "</div>"
      ],
      "text/plain": [
       "            pred_close\n",
       "Date                  \n",
       "2022-05-19  126.002121\n",
       "2022-05-20  121.806549\n",
       "2022-05-21  114.500320\n",
       "2022-05-22  106.273720\n",
       "2022-05-23   98.735062"
      ]
     },
     "execution_count": 25,
     "metadata": {},
     "output_type": "execute_result"
    }
   ],
   "source": [
    "pred_df.head()"
   ]
  }
 ],
 "metadata": {
  "interpreter": {
   "hash": "257fe52e9f2c2b945b05e3f0194d62ff27988f684df8175d6ce369c19ab4eae5"
  },
  "kernelspec": {
   "display_name": "Python 3.8.8 ('base')",
   "language": "python",
   "name": "python3"
  },
  "language_info": {
   "codemirror_mode": {
    "name": "ipython",
    "version": 3
   },
   "file_extension": ".py",
   "mimetype": "text/x-python",
   "name": "python",
   "nbconvert_exporter": "python",
   "pygments_lexer": "ipython3",
   "version": "3.8.8"
  },
  "orig_nbformat": 4
 },
 "nbformat": 4,
 "nbformat_minor": 2
}
