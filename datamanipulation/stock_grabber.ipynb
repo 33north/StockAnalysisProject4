{
 "cells": [
  {
   "cell_type": "code",
   "execution_count": 1,
   "metadata": {},
   "outputs": [],
   "source": [
    "# Dependencies\n",
    "import pandas as pd\n",
    "import numpy as np\n",
    "import yfinance as yf\n",
    "import datetime as dt"
   ]
  },
  {
   "cell_type": "markdown",
   "metadata": {},
   "source": [
    "# Stock Grabber Function"
   ]
  },
  {
   "cell_type": "code",
   "execution_count": 11,
   "metadata": {},
   "outputs": [],
   "source": [
    "# Function to grab data from yfinance\n",
    "def stock_grabber(symbols, start_date_list, end_date_list = []):\n",
    "    \"\"\"\n",
    "    Pulls financial data between start and end dates for specify stock.\n",
    "\n",
    "    Params:\n",
    "        symbols         : list of stock symbols to create csv files.\n",
    "        start_date_list : start date in list form (i.e. [<year>, <month>, <day>]).\n",
    "        end_date_list   : end date in list form (i.e. [<year>, <month>, <day>]).  It does not include the end dates.\n",
    "\n",
    "    Returns:\n",
    "        Saves csv files of desired stock into resource folder\n",
    "    \"\"\"\n",
    "\n",
    "    start = dt.date(start_date_list[0], start_date_list[1], start_date_list[2])\n",
    "    \n",
    "    if end_date_list == []:\n",
    "        end = dt.date.today()\n",
    "    else:\n",
    "        end = dt.date(end_date_list[0], end_date_list[1], end_date_list[2])\n",
    "\n",
    "    formatted_start_date = start.strftime(\"%Y%m%d\")\n",
    "    formatted_end_date = end.strftime(\"%Y%m%d\")\n",
    "\n",
    "    data = None\n",
    "\n",
    "    for stock in range(0, (len(symbols))):\n",
    "        data = yf.download(symbols[stock], start = start, end = end)\n",
    "\n",
    "        col_name_change = {\"Close\": \"close\", \"High\": \"high\", \"Low\": \"low\", \"Volume\": \"volume\", \"Open\": \"open\", \"Adj Close\": \"adj_close\"}\n",
    "        \n",
    "        data.rename(columns = col_name_change, inplace = True)\n",
    "        data[\"symbol\"] = symbols[stock]\n",
    "        \n",
    "        data.to_csv(f\"../resources/{formatted_start_date}-{formatted_end_date}__{symbols[stock]}.csv\")\n",
    "        # tmp = data.iloc[-60:]\n",
    "        # tmp['close'].plot()\n",
    "\n",
    "    return \"Done\""
   ]
  },
  {
   "cell_type": "markdown",
   "metadata": {},
   "source": [
    "# Running The Function"
   ]
  },
  {
   "cell_type": "code",
   "execution_count": 12,
   "metadata": {},
   "outputs": [
    {
     "name": "stdout",
     "output_type": "stream",
     "text": [
      "[*********************100%***********************]  1 of 1 completed\n",
      "[*********************100%***********************]  1 of 1 completed\n"
     ]
    },
    {
     "data": {
      "text/plain": [
       "'Done'"
      ]
     },
     "execution_count": 12,
     "metadata": {},
     "output_type": "execute_result"
    }
   ],
   "source": [
    "\n",
    "symbols = [\"BAC\", \"AAPL\"]\n",
    "# start_date_list = [2013, 1, 1]\n",
    "start_date_list = [2021, 1, 1]\n",
    "end_date_list = [2014, 1, 1]\n",
    "\n",
    "# Run the stock grabber function\n",
    "stock_grabber(symbols, start_date_list)"
   ]
  },
  {
   "cell_type": "code",
   "execution_count": null,
   "metadata": {},
   "outputs": [],
   "source": []
  }
 ],
 "metadata": {
  "interpreter": {
   "hash": "1aeb84dc5d91a07996324b740e495bca5d611e333e22a96b68829f063c53f52b"
  },
  "kernelspec": {
   "display_name": "Python 3.8.8 ('base')",
   "language": "python",
   "name": "python3"
  },
  "language_info": {
   "codemirror_mode": {
    "name": "ipython",
    "version": 3
   },
   "file_extension": ".py",
   "mimetype": "text/x-python",
   "name": "python",
   "nbconvert_exporter": "python",
   "pygments_lexer": "ipython3",
   "version": "3.8.8"
  },
  "orig_nbformat": 4
 },
 "nbformat": 4,
 "nbformat_minor": 2
}
