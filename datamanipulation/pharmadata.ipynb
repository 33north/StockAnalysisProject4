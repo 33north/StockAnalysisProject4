{
 "cells": [
  {
   "cell_type": "code",
   "execution_count": 3,
   "metadata": {},
   "outputs": [],
   "source": [
    "import os\n",
    "import pandas as pd\n",
    "from sqlalchemy import create_engine\n",
    "import pandas as pd\n",
    "import numpy as np\n",
    "import scipy.stats as st\n",
    "from scipy.stats import linregress\n",
    "from matplotlib import style\n",
    "import matplotlib.pyplot as plt\n",
    "from sklearn import datasets\n",
    "from jupyterthemes import jtplot\n",
    "import json\n",
    "\n",
    "from datetime import datetime"
   ]
  },
  {
   "cell_type": "code",
   "execution_count": 5,
   "metadata": {},
   "outputs": [],
   "source": [
    "stock_name = \"resources/stocks_list.csv\"\n",
    "stockname_df = pd.read_csv(stock_name)\n",
    "# stockname_df.head(10)"
   ]
  },
  {
   "cell_type": "code",
   "execution_count": null,
   "metadata": {},
   "outputs": [],
   "source": [
    "# stockname_df.to_html(\"stockname.html\",index = False, classes = [\"table\", \"table-hover\", \"table-striped\"])"
   ]
  },
  {
   "cell_type": "code",
   "execution_count": 6,
   "metadata": {},
   "outputs": [],
   "source": [
    "# Extract the data set from csv file: \n",
    "stock = \"resources/all_stocks_5yr.csv\"\n",
    "allstock_df = pd.read_csv(stock)\n",
    "#rename column for merge\n",
    "allstock_df=allstock_df.rename(columns={\"Name\":\"Symbol\"})\n",
    "# allstock_df.head(10)"
   ]
  },
  {
   "cell_type": "code",
   "execution_count": 8,
   "metadata": {},
   "outputs": [],
   "source": [
    "#load helper csv to add name and industry to original dataset\n",
    "stockname=\"resources/stocks_list.csv\"\n",
    "stockname_df=pd.read_csv(stockname)\n",
    "stockname_df=stockname_df[['Symbol','Name','Industry','Market Cap']]\n",
    "# stockname_df.head()"
   ]
  },
  {
   "cell_type": "code",
   "execution_count": 9,
   "metadata": {},
   "outputs": [],
   "source": [
    "#merge 2 datasets\n",
    "merged_df=pd.merge(allstock_df ,stockname_df, how='left', on='Symbol')\n",
    "# merged_df.head()"
   ]
  },
  {
   "cell_type": "code",
   "execution_count": 10,
   "metadata": {},
   "outputs": [],
   "source": [
    "# narrow down into 1 year (2018) \n",
    "one_year_df = merged_df.loc[merged_df[\"date\"] >= \"2017-01-01\"]\n",
    "# one_year_df"
   ]
  },
  {
   "cell_type": "code",
   "execution_count": 11,
   "metadata": {},
   "outputs": [],
   "source": [
    "one_year_df = one_year_df.reset_index(drop=True)\n",
    "# one_year_df"
   ]
  },
  {
   "cell_type": "code",
   "execution_count": 12,
   "metadata": {},
   "outputs": [],
   "source": [
    "quantity = one_year_df[\"Name\"].unique()\n",
    "# quantity"
   ]
  },
  {
   "cell_type": "code",
   "execution_count": 13,
   "metadata": {},
   "outputs": [
    {
     "data": {
      "text/plain": [
       "array(['Airlines', 'Technology Hardware, Storage & Periph...',\n",
       "       'Specialty Retail', 'Biotechnology',\n",
       "       'Health Care Providers & Services',\n",
       "       'Health Care Equipment & Supplies', 'IT Services', 'Software',\n",
       "       'Semiconductors & Semiconductor Equipment', 'Food Products',\n",
       "       'Multi-Utilities', 'Electric Utilities',\n",
       "       'Independent Power and Renewable Elect...', nan, 'Insurance',\n",
       "       'Equity Real Estate Investment Trusts ...', 'Chemicals',\n",
       "       'Building Products', 'Electrical Equipment', 'Capital Markets',\n",
       "       'Internet & Direct Marketing Retail',\n",
       "       'Oil, Gas & Consumable Fuels',\n",
       "       'Electronic Equipment, Instruments & C...', 'Auto Components',\n",
       "       'Aerospace & Defense', 'Entertainment', 'Containers & Packaging',\n",
       "       'Water Utilities', 'Consumer Finance',\n",
       "       'Life Sciences Tools & Services', 'Banks', 'Beverages',\n",
       "       'Pharmaceuticals', 'Diversified Financial Services', 'Machinery',\n",
       "       'Hotels, Restaurants & Leisure', 'Health Care Technology',\n",
       "       'Household Products', 'Air Freight & Logistics', 'Media',\n",
       "       'Food & Staples Retailing', 'Personal Products',\n",
       "       'Communications Equipment', 'Road & Rail',\n",
       "       'Commercial Services & Supplies', 'Multiline Retail',\n",
       "       'Household Durables', 'Professional Services',\n",
       "       'Trading Companies & Distributors', 'Interactive Media & Services',\n",
       "       'Metals & Mining', 'Construction & Engineering',\n",
       "       'Energy Equipment & Services', 'Automobiles',\n",
       "       'Industrial Conglomerates', 'Distributors', 'Leisure Products',\n",
       "       'Textiles, Apparel & Luxury Goods', 'Software-Infrastructure',\n",
       "       'Diversified Consumer Services', 'Apparel Manufacturing',\n",
       "       'Construction Materials', 'Blank Check / SPAC', 'Tobacco',\n",
       "       'Diversified Telecommunication Services', 'Auto Parts'],\n",
       "      dtype=object)"
      ]
     },
     "execution_count": 13,
     "metadata": {},
     "output_type": "execute_result"
    }
   ],
   "source": [
    "#View all Industry in the orignal dataset to select which industry to focus on\n",
    "one_year_df[\"Industry\"].unique()"
   ]
  },
  {
   "cell_type": "code",
   "execution_count": null,
   "metadata": {},
   "outputs": [],
   "source": [
    "#Dataframe with Pharmaceutical industries into json file\n",
    "pharm_df=one_year_df.loc[one_year_df[\"Industry\"] == \"Pharmaceuticals\"]\n",
    "pharm_df[\"Name\"].unique()"
   ]
  },
  {
   "cell_type": "code",
   "execution_count": null,
   "metadata": {},
   "outputs": [],
   "source": [
    "#Dataframe with \"Technology Hardware, Storage & Periph...\" industries into json file\n",
    "tech_df=one_year_df.loc[one_year_df[\"Industry\"] == \"Technology Hardware, Storage & Periph...\"]\n",
    "tech_df[\"Name\"].unique()\n",
    "#tech_df.to_json(r'jsonfiles/technology.json')"
   ]
  },
  {
   "cell_type": "code",
   "execution_count": null,
   "metadata": {},
   "outputs": [],
   "source": [
    "#Dataframe with Banks industries into json file\n",
    "banks_df=one_year_df.loc[one_year_df[\"Industry\"] == \"Banks\"]\n",
    "#banks_df.to_json(r'jsonfiles/finance.json')\n",
    "banks_df"
   ]
  },
  {
   "cell_type": "code",
   "execution_count": null,
   "metadata": {},
   "outputs": [],
   "source": [
    "BanksQuantity = banks_df[\"Name\"].unique()\n",
    "BanksQuantity"
   ]
  },
  {
   "cell_type": "code",
   "execution_count": null,
   "metadata": {},
   "outputs": [],
   "source": [
    "# extract the close prices our to a list for boxplot to\n",
    "BAC = banks_df.loc[banks_df[\"Name\"]==\"Bank of America\",\"close\"]\n",
    "CFG = banks_df.loc[banks_df[\"Name\"]==\"Citizens Financial Group\",\"close\"]\n",
    "COM = banks_df.loc[banks_df[\"Name\"]== \"Comerica\",\"close\"]\n",
    "CITI = banks_df.loc[banks_df[\"Name\"]== \"Citigroup\",\"close\"]\n",
    "FifThird = banks_df.loc[banks_df[\"Name\"]== \"Fifth Third Bancorp\",\"close\"]\n",
    "HBancshares = banks_df.loc[banks_df[\"Name\"]== \"Huntington Bancshares\",\"close\"]\n"
   ]
  },
  {
   "cell_type": "code",
   "execution_count": null,
   "metadata": {},
   "outputs": [],
   "source": [
    "bankStock_list = [\"Bank of America\", \"Citizens Financial Group\", \"Comerica\", \"Citigroup\",\"Fifth Third Bancorp\",\"Huntington Bancshares\"]\n",
    "\n",
    "# Create empty list to fill with stock close prices\n",
    "bank_price_list = []\n",
    "\n",
    "# Calculate the IQR and quantitatively determine if there are any potential outliers. \n",
    "for price in bankStock_list:\n",
    "    \n",
    "    \n",
    "    prices = banks_df.loc[banks_df[\"Name\"] == price, 'close']\n",
    "    \n",
    "    # add subset \n",
    "    bank_price_list.append(prices)\n",
    "    \n",
    "    # Determine outliers using upper and lower bounds\n",
    "    quartiles = prices.quantile([.25,.5,.75])\n",
    "    print(quartiles)"
   ]
  },
  {
   "cell_type": "code",
   "execution_count": null,
   "metadata": {},
   "outputs": [],
   "source": [
    "quartiles = BAC.quantile([.25,.5,.75])\n",
    "lowerq = quartiles[0.25]\n",
    "upperq = quartiles[0.75]\n",
    "iqr = upperq-lowerq\n",
    "\n",
    "print(f\"The lower quartile of bank stock prices in the year is: {lowerq}\")\n",
    "print(f\"The upper quartile of bank stock prices in the year is: {upperq}\")\n",
    "print(f\"The interquartile range of bank stock prices in the year is: {iqr}\")\n",
    "print(f\"The the median of bank stock prices in the year is: {quartiles[0.5]} \")\n",
    "\n",
    "lower_bound = lowerq - (1.5*iqr)  # lower the lower (1.5 times the iqr)|upper the upper () -> ouliers \n",
    "upper_bound = upperq + (1.5*iqr)\n",
    "print(f\"Values below {lower_bound} could be outliers.\")\n",
    "print(f\"Values above {upper_bound} could be outliers.\")"
   ]
  },
  {
   "cell_type": "code",
   "execution_count": null,
   "metadata": {},
   "outputs": [],
   "source": [
    "# boxplot:\n",
    "\n",
    "fig1, ax1 = plt.subplots()\n",
    "\n",
    "plt.boxplot(bank_price_list,labels=bankStock_list)"
   ]
  },
  {
   "cell_type": "code",
   "execution_count": null,
   "metadata": {},
   "outputs": [],
   "source": [
    "# convert 3 df into 3 csv files: \n",
    "\n",
    "pharm_df.to_csv(\"pharm.csv\", index = False)"
   ]
  },
  {
   "cell_type": "code",
   "execution_count": null,
   "metadata": {},
   "outputs": [],
   "source": [
    "tech_df.to_csv(\"tech.csv\", index = False)"
   ]
  },
  {
   "cell_type": "code",
   "execution_count": null,
   "metadata": {},
   "outputs": [],
   "source": [
    "banks_df.to_csv(\"bank.csv\", index = False)"
   ]
  },
  {
   "cell_type": "code",
   "execution_count": null,
   "metadata": {},
   "outputs": [],
   "source": [
    "# manipulating and put into SQL database:\n",
    "\n",
    "# connect to local database: \n",
    "connection = \"postgres:Postgres@localhost:5432/stockPandas_db\"\n",
    "engine = create_engine(f'postgresql://{connection}')\n",
    "\n",
    "# put df into sql database format:\n",
    "\n",
    "#allstock_df.to_sql(name='stock_master', con=engine, if_exists='append', index=False)\n",
    "banks_df.to_sql(name='stock_banks', con = engine,if_exists='append',index=False)\n",
    "tech_df.to_sql(name='stock_tech', con = engine,if_exists='append',index=False)\n",
    "pharm_df.to_sql(name='stock_pharm', con = engine,if_exists='append',index=False)"
   ]
  },
  {
   "cell_type": "code",
   "execution_count": null,
   "metadata": {},
   "outputs": [],
   "source": [
    "# Consolidate data to 3 types of bank and 1 month period\n",
    "bank1mo = banks_df.loc[(banks_df[\"Name\"]==\"Bank of America\") | (banks_df[\"Name\"]==\"JPMorgan Chase & Co.\") | (banks_df[\"Name\"]==\"Wells Fargo & Company\"), :]\n",
    "bank1mo=bank1mo.loc[bank1mo[\"date\"] > \"2018-01-06\"]\n",
    "bank1mo.to_csv(\"bank1mo.csv\",index=False)"
   ]
  },
  {
   "cell_type": "code",
   "execution_count": null,
   "metadata": {},
   "outputs": [],
   "source": [
    "# Consolidate data to 3 types of bank and 1 month period\n",
    "pharm1mo = pharm_df.loc[(pharm_df[\"Name\"]==\"Johnson & Johnson\") | (pharm_df[\"Name\"]==\"Merck & Co.\") | (pharm_df[\"Name\"]==\"Pfizer\"), :]\n",
    "pharm1mo=pharm1mo.loc[pharm1mo[\"date\"] > \"2018-01-06\"]\n",
    "\n",
    "pharm1mo.to_csv(\"pharm1mo.csv\",index=False)"
   ]
  },
  {
   "cell_type": "code",
   "execution_count": null,
   "metadata": {},
   "outputs": [],
   "source": [
    "# Consolidate data to 3 types of bank and 1 month period\n",
    "tech1mo = tech_df.loc[(tech_df[\"Name\"]==\"Apple\") | (tech_df[\"Name\"]==\"Seagate Technology Holdings\") | (tech_df[\"Name\"]==\"Western Digital\"), :]\n",
    "tech1mo=tech1mo.loc[tech1mo[\"date\"] > \"2018-01-06\"]\n",
    "tech1mo.to_csv(\"tech1mo.csv\",index=False)"
   ]
  }
 ],
 "metadata": {
  "interpreter": {
   "hash": "1aeb84dc5d91a07996324b740e495bca5d611e333e22a96b68829f063c53f52b"
  },
  "kernelspec": {
   "display_name": "Python 3.8.8 ('base')",
   "language": "python",
   "name": "python3"
  },
  "language_info": {
   "codemirror_mode": {
    "name": "ipython",
    "version": 3
   },
   "file_extension": ".py",
   "mimetype": "text/x-python",
   "name": "python",
   "nbconvert_exporter": "python",
   "pygments_lexer": "ipython3",
   "version": "3.8.8"
  },
  "orig_nbformat": 4
 },
 "nbformat": 4,
 "nbformat_minor": 2
}
