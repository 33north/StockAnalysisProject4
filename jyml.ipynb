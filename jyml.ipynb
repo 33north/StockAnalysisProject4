{
 "cells": [
  {
   "cell_type": "code",
   "execution_count": 1,
   "metadata": {},
   "outputs": [],
   "source": [
    "#Importing the Libraries\n",
    "import pandas as pd\n",
    "import numpy as np\n",
    "%matplotlib inline\n",
    "import matplotlib. pyplot as plt\n",
    "import matplotlib\n",
    "from sklearn.preprocessing import MinMaxScaler\n",
    "import sklearn as skl\n",
    "from keras. layers import LSTM, Dense, Dropout\n",
    "from sklearn.model_selection import TimeSeriesSplit\n",
    "from sklearn.metrics import mean_squared_error, r2_score\n",
    "import matplotlib. dates as mandates\n",
    "from sklearn import linear_model\n",
    "from keras.models import Sequential\n",
    "from keras.layers import Dense\n",
    "import keras.backend as K\n",
    "from keras.callbacks import EarlyStopping\n",
    "#from keras.optimizers import Adam\n",
    "from keras.models import load_model\n",
    "from keras.layers import LSTM\n",
    "from keras.utils.vis_utils import plot_model\n"
   ]
  },
  {
   "cell_type": "code",
   "execution_count": 2,
   "metadata": {},
   "outputs": [
    {
     "data": {
      "text/html": [
       "<div>\n",
       "<style scoped>\n",
       "    .dataframe tbody tr th:only-of-type {\n",
       "        vertical-align: middle;\n",
       "    }\n",
       "\n",
       "    .dataframe tbody tr th {\n",
       "        vertical-align: top;\n",
       "    }\n",
       "\n",
       "    .dataframe thead th {\n",
       "        text-align: right;\n",
       "    }\n",
       "</style>\n",
       "<table border=\"1\" class=\"dataframe\">\n",
       "  <thead>\n",
       "    <tr style=\"text-align: right;\">\n",
       "      <th></th>\n",
       "      <th>open</th>\n",
       "      <th>high</th>\n",
       "      <th>low</th>\n",
       "      <th>close</th>\n",
       "      <th>volume</th>\n",
       "      <th>Name</th>\n",
       "    </tr>\n",
       "    <tr>\n",
       "      <th>date</th>\n",
       "      <th></th>\n",
       "      <th></th>\n",
       "      <th></th>\n",
       "      <th></th>\n",
       "      <th></th>\n",
       "      <th></th>\n",
       "    </tr>\n",
       "  </thead>\n",
       "  <tbody>\n",
       "    <tr>\n",
       "      <th>2013-02-08</th>\n",
       "      <td>11.86</td>\n",
       "      <td>11.90</td>\n",
       "      <td>11.72</td>\n",
       "      <td>11.760</td>\n",
       "      <td>145217221</td>\n",
       "      <td>BAC</td>\n",
       "    </tr>\n",
       "    <tr>\n",
       "      <th>2013-02-11</th>\n",
       "      <td>11.73</td>\n",
       "      <td>11.90</td>\n",
       "      <td>11.67</td>\n",
       "      <td>11.860</td>\n",
       "      <td>103499848</td>\n",
       "      <td>BAC</td>\n",
       "    </tr>\n",
       "    <tr>\n",
       "      <th>2013-02-12</th>\n",
       "      <td>11.87</td>\n",
       "      <td>12.34</td>\n",
       "      <td>11.78</td>\n",
       "      <td>12.245</td>\n",
       "      <td>231771561</td>\n",
       "      <td>BAC</td>\n",
       "    </tr>\n",
       "    <tr>\n",
       "      <th>2013-02-13</th>\n",
       "      <td>12.35</td>\n",
       "      <td>12.42</td>\n",
       "      <td>12.05</td>\n",
       "      <td>12.170</td>\n",
       "      <td>192478919</td>\n",
       "      <td>BAC</td>\n",
       "    </tr>\n",
       "    <tr>\n",
       "      <th>2013-02-14</th>\n",
       "      <td>12.09</td>\n",
       "      <td>12.27</td>\n",
       "      <td>12.07</td>\n",
       "      <td>12.130</td>\n",
       "      <td>143901737</td>\n",
       "      <td>BAC</td>\n",
       "    </tr>\n",
       "  </tbody>\n",
       "</table>\n",
       "</div>"
      ],
      "text/plain": [
       "             open   high    low   close     volume Name\n",
       "date                                                   \n",
       "2013-02-08  11.86  11.90  11.72  11.760  145217221  BAC\n",
       "2013-02-11  11.73  11.90  11.67  11.860  103499848  BAC\n",
       "2013-02-12  11.87  12.34  11.78  12.245  231771561  BAC\n",
       "2013-02-13  12.35  12.42  12.05  12.170  192478919  BAC\n",
       "2013-02-14  12.09  12.27  12.07  12.130  143901737  BAC"
      ]
     },
     "execution_count": 2,
     "metadata": {},
     "output_type": "execute_result"
    }
   ],
   "source": [
    "#Get the Dataset\n",
    "df=pd.read_csv(\"BACstock.csv\",na_values=['null'],index_col='date',parse_dates=True,infer_datetime_format=True)\n",
    "df.head()"
   ]
  },
  {
   "cell_type": "code",
   "execution_count": 3,
   "metadata": {},
   "outputs": [
    {
     "name": "stdout",
     "output_type": "stream",
     "text": [
      "Dataframe Shape:  (1259, 6)\n",
      "Null Value Present:  False\n"
     ]
    }
   ],
   "source": [
    "#Print the shape of Dataframe  and Check for Null Values\n",
    "print(\"Dataframe Shape: \", df. shape)\n",
    "print(\"Null Value Present: \", df.isnull().values.any())"
   ]
  },
  {
   "cell_type": "code",
   "execution_count": 4,
   "metadata": {},
   "outputs": [
    {
     "data": {
      "text/plain": [
       "<AxesSubplot:xlabel='date'>"
      ]
     },
     "execution_count": 4,
     "metadata": {},
     "output_type": "execute_result"
    },
    {
     "data": {
      "image/png": "[encoded data removed]",
      "text/plain": [
       "<Figure size 432x288 with 1 Axes>"
      ]
     },
     "metadata": {
      "needs_background": "light"
     },
     "output_type": "display_data"
    }
   ],
   "source": [
    "#Plot the True Adj Close Value\n",
    "df[\"close\"].plot()"
   ]
  },
  {
   "cell_type": "code",
   "execution_count": 5,
   "metadata": {},
   "outputs": [],
   "source": [
    "#Set Target Variable\n",
    "output_var = pd.DataFrame(df[\"close\"])\n",
    "#Selecting the Features\n",
    "features = ['open', 'high', 'low', 'volume']"
   ]
  },
  {
   "cell_type": "code",
   "execution_count": 6,
   "metadata": {},
   "outputs": [
    {
     "data": {
      "text/html": [
       "<div>\n",
       "<style scoped>\n",
       "    .dataframe tbody tr th:only-of-type {\n",
       "        vertical-align: middle;\n",
       "    }\n",
       "\n",
       "    .dataframe tbody tr th {\n",
       "        vertical-align: top;\n",
       "    }\n",
       "\n",
       "    .dataframe thead th {\n",
       "        text-align: right;\n",
       "    }\n",
       "</style>\n",
       "<table border=\"1\" class=\"dataframe\">\n",
       "  <thead>\n",
       "    <tr style=\"text-align: right;\">\n",
       "      <th></th>\n",
       "      <th>open</th>\n",
       "      <th>high</th>\n",
       "      <th>low</th>\n",
       "      <th>volume</th>\n",
       "    </tr>\n",
       "    <tr>\n",
       "      <th>date</th>\n",
       "      <th></th>\n",
       "      <th></th>\n",
       "      <th></th>\n",
       "      <th></th>\n",
       "    </tr>\n",
       "  </thead>\n",
       "  <tbody>\n",
       "    <tr>\n",
       "      <th>2013-02-08</th>\n",
       "      <td>0.034709</td>\n",
       "      <td>0.031702</td>\n",
       "      <td>0.034906</td>\n",
       "      <td>0.362911</td>\n",
       "    </tr>\n",
       "    <tr>\n",
       "      <th>2013-02-11</th>\n",
       "      <td>0.028612</td>\n",
       "      <td>0.031702</td>\n",
       "      <td>0.032547</td>\n",
       "      <td>0.247291</td>\n",
       "    </tr>\n",
       "    <tr>\n",
       "      <th>2013-02-12</th>\n",
       "      <td>0.035178</td>\n",
       "      <td>0.052214</td>\n",
       "      <td>0.037736</td>\n",
       "      <td>0.602796</td>\n",
       "    </tr>\n",
       "    <tr>\n",
       "      <th>2013-02-13</th>\n",
       "      <td>0.057692</td>\n",
       "      <td>0.055944</td>\n",
       "      <td>0.050472</td>\n",
       "      <td>0.493897</td>\n",
       "    </tr>\n",
       "    <tr>\n",
       "      <th>2013-02-14</th>\n",
       "      <td>0.045497</td>\n",
       "      <td>0.048951</td>\n",
       "      <td>0.051415</td>\n",
       "      <td>0.359265</td>\n",
       "    </tr>\n",
       "  </tbody>\n",
       "</table>\n",
       "</div>"
      ],
      "text/plain": [
       "                open      high       low    volume\n",
       "date                                              \n",
       "2013-02-08  0.034709  0.031702  0.034906  0.362911\n",
       "2013-02-11  0.028612  0.031702  0.032547  0.247291\n",
       "2013-02-12  0.035178  0.052214  0.037736  0.602796\n",
       "2013-02-13  0.057692  0.055944  0.050472  0.493897\n",
       "2013-02-14  0.045497  0.048951  0.051415  0.359265"
      ]
     },
     "execution_count": 6,
     "metadata": {},
     "output_type": "execute_result"
    }
   ],
   "source": [
    "#Scaling\n",
    "scaler = MinMaxScaler()\n",
    "feature_transform = scaler.fit_transform(df[features])\n",
    "feature_transform= pd.DataFrame(columns=features, data=feature_transform, index=df.index)\n",
    "feature_transform.head()"
   ]
  },
  {
   "cell_type": "code",
   "execution_count": 7,
   "metadata": {},
   "outputs": [],
   "source": [
    "#Splitting to Training set and Test set\n",
    "timesplit= TimeSeriesSplit(n_splits=10)\n",
    "for train_index, test_index in timesplit.split(feature_transform):\n",
    "        X_train, X_test = feature_transform[:len(train_index)], feature_transform[len(train_index): (len(train_index)+len(test_index))]\n",
    "        y_train, y_test = output_var[:len(train_index)].values.ravel(), output_var[len(train_index): (len(train_index)+len(test_index))].values.ravel()"
   ]
  },
  {
   "cell_type": "code",
   "execution_count": 8,
   "metadata": {},
   "outputs": [],
   "source": [
    "#Process the data for LSTM\n",
    "trainX =np.array(X_train)\n",
    "testX =np.array(X_test)\n",
    "X_train = trainX.reshape(X_train.shape[0], 1, X_train.shape[1])\n",
    "X_test = testX.reshape(X_test.shape[0], 1, X_test.shape[1])"
   ]
  },
  {
   "cell_type": "code",
   "execution_count": 9,
   "metadata": {},
   "outputs": [
    {
     "name": "stdout",
     "output_type": "stream",
     "text": [
      "You must install pydot (`pip install pydot`) and install graphviz (see instructions at https://graphviz.gitlab.io/download/) for plot_model/model_to_dot to work.\n"
     ]
    }
   ],
   "source": [
    "#Building the LSTM Model\n",
    "lstm = Sequential()\n",
    "lstm.add(LSTM(32, input_shape=(1, trainX.shape[1]), activation='relu', return_sequences=False))\n",
    "lstm.add(Dense(1))\n",
    "lstm.compile(loss='mean_squared_error', optimizer='adam')\n",
    "plot_model(lstm, show_shapes=True, show_layer_names=True)"
   ]
  },
  {
   "cell_type": "code",
   "execution_count": 10,
   "metadata": {},
   "outputs": [
    {
     "name": "stdout",
     "output_type": "stream",
     "text": [
      "Epoch 1/100\n",
      "144/144 [==============================] - 1s 873us/step - loss: 271.3398\n",
      "Epoch 2/100\n",
      "144/144 [==============================] - 0s 871us/step - loss: 208.4401\n",
      "Epoch 3/100\n",
      "144/144 [==============================] - 0s 868us/step - loss: 108.4617\n",
      "Epoch 4/100\n",
      "144/144 [==============================] - 0s 844us/step - loss: 31.8400\n",
      "Epoch 5/100\n",
      "144/144 [==============================] - 0s 845us/step - loss: 8.4084\n",
      "Epoch 6/100\n",
      "144/144 [==============================] - 0s 850us/step - loss: 5.2437\n",
      "Epoch 7/100\n",
      "144/144 [==============================] - 0s 856us/step - loss: 4.6046\n",
      "Epoch 8/100\n",
      "144/144 [==============================] - 0s 892us/step - loss: 4.2038\n",
      "Epoch 9/100\n",
      "144/144 [==============================] - 0s 828us/step - loss: 3.8417\n",
      "Epoch 10/100\n",
      "144/144 [==============================] - 0s 863us/step - loss: 3.4981\n",
      "Epoch 11/100\n",
      "144/144 [==============================] - 0s 832us/step - loss: 3.1703\n",
      "Epoch 12/100\n",
      "144/144 [==============================] - 0s 829us/step - loss: 2.8599\n",
      "Epoch 13/100\n",
      "144/144 [==============================] - 0s 846us/step - loss: 2.5665\n",
      "Epoch 14/100\n",
      "144/144 [==============================] - 0s 830us/step - loss: 2.2848\n",
      "Epoch 15/100\n",
      "144/144 [==============================] - 0s 853us/step - loss: 2.0203\n",
      "Epoch 16/100\n",
      "144/144 [==============================] - 0s 837us/step - loss: 1.7743\n",
      "Epoch 17/100\n",
      "144/144 [==============================] - 0s 823us/step - loss: 1.5482\n",
      "Epoch 18/100\n",
      "144/144 [==============================] - 0s 845us/step - loss: 1.3419\n",
      "Epoch 19/100\n",
      "144/144 [==============================] - 0s 846us/step - loss: 1.1556\n",
      "Epoch 20/100\n",
      "144/144 [==============================] - 0s 837us/step - loss: 0.9883\n",
      "Epoch 21/100\n",
      "144/144 [==============================] - 0s 859us/step - loss: 0.8388\n",
      "Epoch 22/100\n",
      "144/144 [==============================] - 0s 851us/step - loss: 0.7061\n",
      "Epoch 23/100\n",
      "144/144 [==============================] - 0s 849us/step - loss: 0.5891\n",
      "Epoch 24/100\n",
      "144/144 [==============================] - 0s 833us/step - loss: 0.4867\n",
      "Epoch 25/100\n",
      "144/144 [==============================] - 0s 850us/step - loss: 0.3980\n",
      "Epoch 26/100\n",
      "144/144 [==============================] - 0s 844us/step - loss: 0.3220\n",
      "Epoch 27/100\n",
      "144/144 [==============================] - 0s 827us/step - loss: 0.2579\n",
      "Epoch 28/100\n",
      "144/144 [==============================] - 0s 831us/step - loss: 0.2045\n",
      "Epoch 29/100\n",
      "144/144 [==============================] - 0s 846us/step - loss: 0.1608\n",
      "Epoch 30/100\n",
      "144/144 [==============================] - 0s 836us/step - loss: 0.1256\n",
      "Epoch 31/100\n",
      "144/144 [==============================] - 0s 861us/step - loss: 0.0978\n",
      "Epoch 32/100\n",
      "144/144 [==============================] - 0s 858us/step - loss: 0.0764\n",
      "Epoch 33/100\n",
      "144/144 [==============================] - 0s 840us/step - loss: 0.0602\n",
      "Epoch 34/100\n",
      "144/144 [==============================] - 0s 838us/step - loss: 0.0483\n",
      "Epoch 35/100\n",
      "144/144 [==============================] - 0s 847us/step - loss: 0.0399\n",
      "Epoch 36/100\n",
      "144/144 [==============================] - 0s 839us/step - loss: 0.0340\n",
      "Epoch 37/100\n",
      "144/144 [==============================] - 0s 866us/step - loss: 0.0302\n",
      "Epoch 38/100\n",
      "144/144 [==============================] - 0s 848us/step - loss: 0.0278\n",
      "Epoch 39/100\n",
      "144/144 [==============================] - 0s 832us/step - loss: 0.0264\n",
      "Epoch 40/100\n",
      "144/144 [==============================] - 0s 839us/step - loss: 0.0257\n",
      "Epoch 41/100\n",
      "144/144 [==============================] - 0s 948us/step - loss: 0.0255\n",
      "Epoch 42/100\n",
      "144/144 [==============================] - 0s 874us/step - loss: 0.0255\n",
      "Epoch 43/100\n",
      "144/144 [==============================] - 0s 960us/step - loss: 0.0256\n",
      "Epoch 44/100\n",
      "144/144 [==============================] - 0s 850us/step - loss: 0.0257\n",
      "Epoch 45/100\n",
      "144/144 [==============================] - 0s 845us/step - loss: 0.0259\n",
      "Epoch 46/100\n",
      "144/144 [==============================] - 0s 852us/step - loss: 0.0260\n",
      "Epoch 47/100\n",
      "144/144 [==============================] - 0s 832us/step - loss: 0.0260\n",
      "Epoch 48/100\n",
      "144/144 [==============================] - 0s 873us/step - loss: 0.0259\n",
      "Epoch 49/100\n",
      "144/144 [==============================] - 0s 844us/step - loss: 0.0258\n",
      "Epoch 50/100\n",
      "144/144 [==============================] - 0s 862us/step - loss: 0.0257\n",
      "Epoch 51/100\n",
      "144/144 [==============================] - 0s 870us/step - loss: 0.0256\n",
      "Epoch 52/100\n",
      "144/144 [==============================] - 0s 831us/step - loss: 0.0256\n",
      "Epoch 53/100\n",
      "144/144 [==============================] - 0s 832us/step - loss: 0.0255\n",
      "Epoch 54/100\n",
      "144/144 [==============================] - 0s 836us/step - loss: 0.0255\n",
      "Epoch 55/100\n",
      "144/144 [==============================] - 0s 845us/step - loss: 0.0256\n",
      "Epoch 56/100\n",
      "144/144 [==============================] - 0s 860us/step - loss: 0.0257\n",
      "Epoch 57/100\n",
      "144/144 [==============================] - 0s 843us/step - loss: 0.0259\n",
      "Epoch 58/100\n",
      "144/144 [==============================] - 0s 822us/step - loss: 0.0262\n",
      "Epoch 59/100\n",
      "144/144 [==============================] - 0s 845us/step - loss: 0.0264\n",
      "Epoch 60/100\n",
      "144/144 [==============================] - 0s 886us/step - loss: 0.0267\n",
      "Epoch 61/100\n",
      "144/144 [==============================] - 0s 869us/step - loss: 0.0270\n",
      "Epoch 62/100\n",
      "144/144 [==============================] - 0s 842us/step - loss: 0.0273\n",
      "Epoch 63/100\n",
      "144/144 [==============================] - 0s 839us/step - loss: 0.0275\n",
      "Epoch 64/100\n",
      "144/144 [==============================] - 0s 849us/step - loss: 0.0278\n",
      "Epoch 65/100\n",
      "144/144 [==============================] - 0s 832us/step - loss: 0.0280\n",
      "Epoch 66/100\n",
      "144/144 [==============================] - 0s 844us/step - loss: 0.0282\n",
      "Epoch 67/100\n",
      "144/144 [==============================] - 0s 932us/step - loss: 0.0283\n",
      "Epoch 68/100\n",
      "144/144 [==============================] - 0s 1ms/step - loss: 0.0284\n",
      "Epoch 69/100\n",
      "144/144 [==============================] - 0s 1ms/step - loss: 0.0284\n",
      "Epoch 70/100\n",
      "144/144 [==============================] - 0s 900us/step - loss: 0.0284\n",
      "Epoch 71/100\n",
      "144/144 [==============================] - 0s 982us/step - loss: 0.0284\n",
      "Epoch 72/100\n",
      "144/144 [==============================] - 0s 911us/step - loss: 0.0283\n",
      "Epoch 73/100\n",
      "144/144 [==============================] - 0s 1ms/step - loss: 0.0282\n",
      "Epoch 74/100\n",
      "144/144 [==============================] - 0s 970us/step - loss: 0.0281\n",
      "Epoch 75/100\n",
      "144/144 [==============================] - 0s 874us/step - loss: 0.0280\n",
      "Epoch 76/100\n",
      "144/144 [==============================] - 0s 891us/step - loss: 0.0279\n",
      "Epoch 77/100\n",
      "144/144 [==============================] - 0s 850us/step - loss: 0.0277\n",
      "Epoch 78/100\n",
      "144/144 [==============================] - 0s 844us/step - loss: 0.0276\n",
      "Epoch 79/100\n",
      "144/144 [==============================] - 0s 854us/step - loss: 0.0274\n",
      "Epoch 80/100\n",
      "144/144 [==============================] - 0s 890us/step - loss: 0.0272\n",
      "Epoch 81/100\n",
      "144/144 [==============================] - 0s 932us/step - loss: 0.0270\n",
      "Epoch 82/100\n",
      "144/144 [==============================] - 0s 904us/step - loss: 0.0269\n",
      "Epoch 83/100\n",
      "144/144 [==============================] - 0s 874us/step - loss: 0.0267\n",
      "Epoch 84/100\n",
      "144/144 [==============================] - 0s 905us/step - loss: 0.0265\n",
      "Epoch 85/100\n",
      "144/144 [==============================] - 0s 892us/step - loss: 0.0263\n",
      "Epoch 86/100\n",
      "144/144 [==============================] - 0s 962us/step - loss: 0.0261\n",
      "Epoch 87/100\n",
      "144/144 [==============================] - 0s 866us/step - loss: 0.0259\n",
      "Epoch 88/100\n",
      "144/144 [==============================] - 0s 907us/step - loss: 0.0257\n",
      "Epoch 89/100\n",
      "144/144 [==============================] - 0s 1ms/step - loss: 0.0255\n",
      "Epoch 90/100\n",
      "144/144 [==============================] - 0s 836us/step - loss: 0.0253\n",
      "Epoch 91/100\n",
      "144/144 [==============================] - 0s 952us/step - loss: 0.0251\n",
      "Epoch 92/100\n",
      "144/144 [==============================] - 0s 971us/step - loss: 0.0249\n",
      "Epoch 93/100\n",
      "144/144 [==============================] - 0s 910us/step - loss: 0.0247\n",
      "Epoch 94/100\n",
      "144/144 [==============================] - 0s 884us/step - loss: 0.0245\n",
      "Epoch 95/100\n",
      "144/144 [==============================] - 0s 893us/step - loss: 0.0243\n",
      "Epoch 96/100\n",
      "144/144 [==============================] - 0s 883us/step - loss: 0.0241\n",
      "Epoch 97/100\n",
      "144/144 [==============================] - 0s 868us/step - loss: 0.0239\n",
      "Epoch 98/100\n",
      "144/144 [==============================] - 0s 858us/step - loss: 0.0237\n",
      "Epoch 99/100\n",
      "144/144 [==============================] - 0s 925us/step - loss: 0.0235\n",
      "Epoch 100/100\n",
      "144/144 [==============================] - 0s 1ms/step - loss: 0.0233\n"
     ]
    }
   ],
   "source": [
    "#Model Training\n",
    "history=lstm.fit(X_train, y_train, epochs=100, batch_size=8, verbose=1, shuffle=False)"
   ]
  },
  {
   "cell_type": "code",
   "execution_count": 11,
   "metadata": {},
   "outputs": [],
   "source": [
    "#LSTM Prediction\n",
    "y_pred= lstm.predict(X_test)"
   ]
  },
  {
   "cell_type": "code",
   "execution_count": 12,
   "metadata": {},
   "outputs": [
    {
     "data": {
      "image/png": "[encoded data removed]",
      "text/plain": [
       "<Figure size 432x288 with 1 Axes>"
      ]
     },
     "metadata": {
      "needs_background": "light"
     },
     "output_type": "display_data"
    }
   ],
   "source": [
    "#Predicted vs True Adj Close Value – LSTM\n",
    "plt.plot(y_test, label='True Value')\n",
    "plt.plot(y_pred, label='LSTM Value')\n",
    "plt.title(\"Prediction by LSTM\")\n",
    "plt.xlabel('Time Scale')\n",
    "plt.ylabel('Scaled USD')\n",
    "plt.legend()\n",
    "plt.show()"
   ]
  },
  {
   "cell_type": "code",
   "execution_count": 17,
   "metadata": {},
   "outputs": [
    {
     "ename": "ValueError",
     "evalue": "continuous is not supported",
     "output_type": "error",
     "traceback": [
      "\u001b[1;31m---------------------------------------------------------------------------\u001b[0m",
      "\u001b[1;31mValueError\u001b[0m                                Traceback (most recent call last)",
      "\u001b[1;32m<ipython-input-17-38c6fbb09bff>\u001b[0m in \u001b[0;36m<module>\u001b[1;34m\u001b[0m\n\u001b[0;32m      1\u001b[0m \u001b[1;32mfrom\u001b[0m \u001b[0msklearn\u001b[0m\u001b[1;33m.\u001b[0m\u001b[0mmetrics\u001b[0m \u001b[1;32mimport\u001b[0m \u001b[0mclassification_report\u001b[0m\u001b[1;33m\u001b[0m\u001b[1;33m\u001b[0m\u001b[0m\n\u001b[1;32m----> 2\u001b[1;33m \u001b[0mprint\u001b[0m\u001b[1;33m(\u001b[0m\u001b[0mclassification_report\u001b[0m\u001b[1;33m(\u001b[0m\u001b[0my_test\u001b[0m\u001b[1;33m,\u001b[0m\u001b[0my_pred\u001b[0m\u001b[1;33m)\u001b[0m\u001b[1;33m)\u001b[0m\u001b[1;33m\u001b[0m\u001b[1;33m\u001b[0m\u001b[0m\n\u001b[0m\u001b[0;32m      3\u001b[0m \u001b[1;31m# LSTMacc = round((accuracy_score(y_test,y_pred)*100),2)\u001b[0m\u001b[1;33m\u001b[0m\u001b[1;33m\u001b[0m\u001b[1;33m\u001b[0m\u001b[0m\n\u001b[0;32m      4\u001b[0m \u001b[1;31m# print(LSTMacc)\u001b[0m\u001b[1;33m\u001b[0m\u001b[1;33m\u001b[0m\u001b[1;33m\u001b[0m\u001b[0m\n",
      "\u001b[1;32mc:\\Users\\s3maj\\anaconda3\\lib\\site-packages\\sklearn\\utils\\validation.py\u001b[0m in \u001b[0;36minner_f\u001b[1;34m(*args, **kwargs)\u001b[0m\n\u001b[0;32m     61\u001b[0m             \u001b[0mextra_args\u001b[0m \u001b[1;33m=\u001b[0m \u001b[0mlen\u001b[0m\u001b[1;33m(\u001b[0m\u001b[0margs\u001b[0m\u001b[1;33m)\u001b[0m \u001b[1;33m-\u001b[0m \u001b[0mlen\u001b[0m\u001b[1;33m(\u001b[0m\u001b[0mall_args\u001b[0m\u001b[1;33m)\u001b[0m\u001b[1;33m\u001b[0m\u001b[1;33m\u001b[0m\u001b[0m\n\u001b[0;32m     62\u001b[0m             \u001b[1;32mif\u001b[0m \u001b[0mextra_args\u001b[0m \u001b[1;33m<=\u001b[0m \u001b[1;36m0\u001b[0m\u001b[1;33m:\u001b[0m\u001b[1;33m\u001b[0m\u001b[1;33m\u001b[0m\u001b[0m\n\u001b[1;32m---> 63\u001b[1;33m                 \u001b[1;32mreturn\u001b[0m \u001b[0mf\u001b[0m\u001b[1;33m(\u001b[0m\u001b[1;33m*\u001b[0m\u001b[0margs\u001b[0m\u001b[1;33m,\u001b[0m \u001b[1;33m**\u001b[0m\u001b[0mkwargs\u001b[0m\u001b[1;33m)\u001b[0m\u001b[1;33m\u001b[0m\u001b[1;33m\u001b[0m\u001b[0m\n\u001b[0m\u001b[0;32m     64\u001b[0m \u001b[1;33m\u001b[0m\u001b[0m\n\u001b[0;32m     65\u001b[0m             \u001b[1;31m# extra_args > 0\u001b[0m\u001b[1;33m\u001b[0m\u001b[1;33m\u001b[0m\u001b[1;33m\u001b[0m\u001b[0m\n",
      "\u001b[1;32mc:\\Users\\s3maj\\anaconda3\\lib\\site-packages\\sklearn\\metrics\\_classification.py\u001b[0m in \u001b[0;36mclassification_report\u001b[1;34m(y_true, y_pred, labels, target_names, sample_weight, digits, output_dict, zero_division)\u001b[0m\n\u001b[0;32m   1964\u001b[0m     \"\"\"\n\u001b[0;32m   1965\u001b[0m \u001b[1;33m\u001b[0m\u001b[0m\n\u001b[1;32m-> 1966\u001b[1;33m     \u001b[0my_type\u001b[0m\u001b[1;33m,\u001b[0m \u001b[0my_true\u001b[0m\u001b[1;33m,\u001b[0m \u001b[0my_pred\u001b[0m \u001b[1;33m=\u001b[0m \u001b[0m_check_targets\u001b[0m\u001b[1;33m(\u001b[0m\u001b[0my_true\u001b[0m\u001b[1;33m,\u001b[0m \u001b[0my_pred\u001b[0m\u001b[1;33m)\u001b[0m\u001b[1;33m\u001b[0m\u001b[1;33m\u001b[0m\u001b[0m\n\u001b[0m\u001b[0;32m   1967\u001b[0m \u001b[1;33m\u001b[0m\u001b[0m\n\u001b[0;32m   1968\u001b[0m     \u001b[1;32mif\u001b[0m \u001b[0mlabels\u001b[0m \u001b[1;32mis\u001b[0m \u001b[1;32mNone\u001b[0m\u001b[1;33m:\u001b[0m\u001b[1;33m\u001b[0m\u001b[1;33m\u001b[0m\u001b[0m\n",
      "\u001b[1;32mc:\\Users\\s3maj\\anaconda3\\lib\\site-packages\\sklearn\\metrics\\_classification.py\u001b[0m in \u001b[0;36m_check_targets\u001b[1;34m(y_true, y_pred)\u001b[0m\n\u001b[0;32m     98\u001b[0m     \u001b[1;31m# No metrics support \"multiclass-multioutput\" format\u001b[0m\u001b[1;33m\u001b[0m\u001b[1;33m\u001b[0m\u001b[1;33m\u001b[0m\u001b[0m\n\u001b[0;32m     99\u001b[0m     \u001b[1;32mif\u001b[0m \u001b[1;33m(\u001b[0m\u001b[0my_type\u001b[0m \u001b[1;32mnot\u001b[0m \u001b[1;32min\u001b[0m \u001b[1;33m[\u001b[0m\u001b[1;34m\"binary\"\u001b[0m\u001b[1;33m,\u001b[0m \u001b[1;34m\"multiclass\"\u001b[0m\u001b[1;33m,\u001b[0m \u001b[1;34m\"multilabel-indicator\"\u001b[0m\u001b[1;33m]\u001b[0m\u001b[1;33m)\u001b[0m\u001b[1;33m:\u001b[0m\u001b[1;33m\u001b[0m\u001b[1;33m\u001b[0m\u001b[0m\n\u001b[1;32m--> 100\u001b[1;33m         \u001b[1;32mraise\u001b[0m \u001b[0mValueError\u001b[0m\u001b[1;33m(\u001b[0m\u001b[1;34m\"{0} is not supported\"\u001b[0m\u001b[1;33m.\u001b[0m\u001b[0mformat\u001b[0m\u001b[1;33m(\u001b[0m\u001b[0my_type\u001b[0m\u001b[1;33m)\u001b[0m\u001b[1;33m)\u001b[0m\u001b[1;33m\u001b[0m\u001b[1;33m\u001b[0m\u001b[0m\n\u001b[0m\u001b[0;32m    101\u001b[0m \u001b[1;33m\u001b[0m\u001b[0m\n\u001b[0;32m    102\u001b[0m     \u001b[1;32mif\u001b[0m \u001b[0my_type\u001b[0m \u001b[1;32min\u001b[0m \u001b[1;33m[\u001b[0m\u001b[1;34m\"binary\"\u001b[0m\u001b[1;33m,\u001b[0m \u001b[1;34m\"multiclass\"\u001b[0m\u001b[1;33m]\u001b[0m\u001b[1;33m:\u001b[0m\u001b[1;33m\u001b[0m\u001b[1;33m\u001b[0m\u001b[0m\n",
      "\u001b[1;31mValueError\u001b[0m: continuous is not supported"
     ]
    }
   ],
   "source": [
    "from sklearn.metrics import classification_report\n",
    "print(classification_report(y_test,y_pred))\n",
    "# LSTMacc = round((accuracy_score(y_test,y_pred)*100),2)\n",
    "# print(LSTMacc)"
   ]
  }
 ],
 "metadata": {
  "interpreter": {
   "hash": "257fe52e9f2c2b945b05e3f0194d62ff27988f684df8175d6ce369c19ab4eae5"
  },
  "kernelspec": {
   "display_name": "Python 3.8.8 ('base')",
   "language": "python",
   "name": "python3"
  },
  "language_info": {
   "codemirror_mode": {
    "name": "ipython",
    "version": 3
   },
   "file_extension": ".py",
   "mimetype": "text/x-python",
   "name": "python",
   "nbconvert_exporter": "python",
   "pygments_lexer": "ipython3",
   "version": "3.8.8"
  },
  "orig_nbformat": 4
 },
 "nbformat": 4,
 "nbformat_minor": 2
}
