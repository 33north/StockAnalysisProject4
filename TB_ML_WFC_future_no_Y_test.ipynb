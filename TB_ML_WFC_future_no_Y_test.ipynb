{
 "cells": [
  {
   "cell_type": "code",
   "execution_count": 1,
   "metadata": {},
   "outputs": [],
   "source": [
    "#Importing the Libraries\n",
    "import pandas as pd\n",
    "\n",
    "from datetime import datetime\n",
    "\n",
    "import numpy as np\n",
    "%matplotlib inline\n",
    "import matplotlib.pyplot as plt\n",
    "import matplotlib\n",
    "from sklearn.preprocessing import MinMaxScaler\n",
    "import sklearn as skl\n",
    "\n",
    "from sklearn.model_selection import TimeSeriesSplit\n",
    "from sklearn.metrics import mean_squared_error, r2_score\n",
    "import matplotlib.dates as mandates\n",
    "from sklearn import linear_model\n",
    "%matplotlib inline\n"
   ]
  },
  {
   "cell_type": "code",
   "execution_count": 2,
   "metadata": {},
   "outputs": [
    {
     "data": {
      "text/html": [
       "<div>\n",
       "<style scoped>\n",
       "    .dataframe tbody tr th:only-of-type {\n",
       "        vertical-align: middle;\n",
       "    }\n",
       "\n",
       "    .dataframe tbody tr th {\n",
       "        vertical-align: top;\n",
       "    }\n",
       "\n",
       "    .dataframe thead th {\n",
       "        text-align: right;\n",
       "    }\n",
       "</style>\n",
       "<table border=\"1\" class=\"dataframe\">\n",
       "  <thead>\n",
       "    <tr style=\"text-align: right;\">\n",
       "      <th></th>\n",
       "      <th>Open</th>\n",
       "      <th>High</th>\n",
       "      <th>Low</th>\n",
       "      <th>Close</th>\n",
       "      <th>Adj Close</th>\n",
       "      <th>Volume</th>\n",
       "    </tr>\n",
       "    <tr>\n",
       "      <th>Date</th>\n",
       "      <th></th>\n",
       "      <th></th>\n",
       "      <th></th>\n",
       "      <th></th>\n",
       "      <th></th>\n",
       "      <th></th>\n",
       "    </tr>\n",
       "  </thead>\n",
       "  <tbody>\n",
       "    <tr>\n",
       "      <th>2022-05-18</th>\n",
       "      <td>43.290001</td>\n",
       "      <td>43.310001</td>\n",
       "      <td>41.889999</td>\n",
       "      <td>42.110001</td>\n",
       "      <td>42.110001</td>\n",
       "      <td>27351300</td>\n",
       "    </tr>\n",
       "    <tr>\n",
       "      <th>2022-05-17</th>\n",
       "      <td>42.990002</td>\n",
       "      <td>43.820000</td>\n",
       "      <td>42.959999</td>\n",
       "      <td>43.709999</td>\n",
       "      <td>43.709999</td>\n",
       "      <td>23340500</td>\n",
       "    </tr>\n",
       "    <tr>\n",
       "      <th>2022-05-16</th>\n",
       "      <td>42.400002</td>\n",
       "      <td>42.669998</td>\n",
       "      <td>41.700001</td>\n",
       "      <td>42.209999</td>\n",
       "      <td>42.209999</td>\n",
       "      <td>16837400</td>\n",
       "    </tr>\n",
       "    <tr>\n",
       "      <th>2022-05-13</th>\n",
       "      <td>42.450001</td>\n",
       "      <td>43.189999</td>\n",
       "      <td>42.279999</td>\n",
       "      <td>42.639999</td>\n",
       "      <td>42.639999</td>\n",
       "      <td>21251600</td>\n",
       "    </tr>\n",
       "    <tr>\n",
       "      <th>2022-05-12</th>\n",
       "      <td>42.230000</td>\n",
       "      <td>42.410000</td>\n",
       "      <td>40.919998</td>\n",
       "      <td>41.810001</td>\n",
       "      <td>41.810001</td>\n",
       "      <td>30171700</td>\n",
       "    </tr>\n",
       "    <tr>\n",
       "      <th>...</th>\n",
       "      <td>...</td>\n",
       "      <td>...</td>\n",
       "      <td>...</td>\n",
       "      <td>...</td>\n",
       "      <td>...</td>\n",
       "      <td>...</td>\n",
       "    </tr>\n",
       "    <tr>\n",
       "      <th>2016-01-25</th>\n",
       "      <td>48.910000</td>\n",
       "      <td>48.980000</td>\n",
       "      <td>47.619999</td>\n",
       "      <td>47.660000</td>\n",
       "      <td>39.387703</td>\n",
       "      <td>23440800</td>\n",
       "    </tr>\n",
       "    <tr>\n",
       "      <th>2016-01-22</th>\n",
       "      <td>49.029999</td>\n",
       "      <td>49.270000</td>\n",
       "      <td>48.560001</td>\n",
       "      <td>49.020000</td>\n",
       "      <td>40.511646</td>\n",
       "      <td>18298700</td>\n",
       "    </tr>\n",
       "    <tr>\n",
       "      <th>2016-01-21</th>\n",
       "      <td>48.029999</td>\n",
       "      <td>49.049999</td>\n",
       "      <td>47.910000</td>\n",
       "      <td>48.009998</td>\n",
       "      <td>39.676952</td>\n",
       "      <td>24272900</td>\n",
       "    </tr>\n",
       "    <tr>\n",
       "      <th>2016-01-20</th>\n",
       "      <td>47.279999</td>\n",
       "      <td>48.250000</td>\n",
       "      <td>46.880001</td>\n",
       "      <td>47.869999</td>\n",
       "      <td>39.561249</td>\n",
       "      <td>40241100</td>\n",
       "    </tr>\n",
       "    <tr>\n",
       "      <th>2016-01-19</th>\n",
       "      <td>49.250000</td>\n",
       "      <td>49.540001</td>\n",
       "      <td>47.990002</td>\n",
       "      <td>48.209999</td>\n",
       "      <td>39.842239</td>\n",
       "      <td>29918500</td>\n",
       "    </tr>\n",
       "  </tbody>\n",
       "</table>\n",
       "<p>1596 rows × 6 columns</p>\n",
       "</div>"
      ],
      "text/plain": [
       "                 Open       High        Low      Close  Adj Close    Volume\n",
       "Date                                                                       \n",
       "2022-05-18  43.290001  43.310001  41.889999  42.110001  42.110001  27351300\n",
       "2022-05-17  42.990002  43.820000  42.959999  43.709999  43.709999  23340500\n",
       "2022-05-16  42.400002  42.669998  41.700001  42.209999  42.209999  16837400\n",
       "2022-05-13  42.450001  43.189999  42.279999  42.639999  42.639999  21251600\n",
       "2022-05-12  42.230000  42.410000  40.919998  41.810001  41.810001  30171700\n",
       "...               ...        ...        ...        ...        ...       ...\n",
       "2016-01-25  48.910000  48.980000  47.619999  47.660000  39.387703  23440800\n",
       "2016-01-22  49.029999  49.270000  48.560001  49.020000  40.511646  18298700\n",
       "2016-01-21  48.029999  49.049999  47.910000  48.009998  39.676952  24272900\n",
       "2016-01-20  47.279999  48.250000  46.880001  47.869999  39.561249  40241100\n",
       "2016-01-19  49.250000  49.540001  47.990002  48.209999  39.842239  29918500\n",
       "\n",
       "[1596 rows x 6 columns]"
      ]
     },
     "execution_count": 2,
     "metadata": {},
     "output_type": "execute_result"
    }
   ],
   "source": [
    "#Get the Dataset\n",
    "data_train=pd.read_csv(\"NewData/WFC2016_2022.csv\",na_values=['null'],index_col='Date',parse_dates=True,infer_datetime_format=True)\n",
    "data_train.sort_values(by=\"Date\", ascending = False)"
   ]
  },
  {
   "cell_type": "code",
   "execution_count": 3,
   "metadata": {},
   "outputs": [
    {
     "data": {
      "text/plain": [
       "Open         float64\n",
       "High         float64\n",
       "Low          float64\n",
       "Close        float64\n",
       "Adj Close    float64\n",
       "Volume         int64\n",
       "dtype: object"
      ]
     },
     "execution_count": 3,
     "metadata": {},
     "output_type": "execute_result"
    }
   ],
   "source": [
    "data_train.dtypes"
   ]
  },
  {
   "cell_type": "code",
   "execution_count": 4,
   "metadata": {},
   "outputs": [
    {
     "name": "stdout",
     "output_type": "stream",
     "text": [
      "Dataframe Shape:  (1596, 6)\n",
      "Null Value Present:  False\n"
     ]
    }
   ],
   "source": [
    "#Print the shape of Dataframe  and Check for Null Values\n",
    "print(\"Dataframe Shape: \", data_train. shape)\n",
    "print(\"Null Value Present: \", data_train.isnull().values.any())"
   ]
  },
  {
   "cell_type": "code",
   "execution_count": 5,
   "metadata": {},
   "outputs": [
    {
     "name": "stdout",
     "output_type": "stream",
     "text": [
      "[[49.540001]\n",
      " [48.25    ]\n",
      " [49.049999]\n",
      " ...\n",
      " [42.669998]\n",
      " [43.82    ]\n",
      " [43.310001]]\n",
      "(1596, 1)\n"
     ]
    }
   ],
   "source": [
    "# Use close price to Train the model\n",
    "\n",
    "training_set = data_train.iloc[:,1:2].values\n",
    "print(training_set)\n",
    "print(training_set.shape)"
   ]
  },
  {
   "cell_type": "code",
   "execution_count": 6,
   "metadata": {},
   "outputs": [
    {
     "data": {
      "text/plain": [
       "array([[0.62675278],\n",
       "       [0.59804143],\n",
       "       [0.61584689],\n",
       "       ...,\n",
       "       [0.4738482 ],\n",
       "       [0.49944361],\n",
       "       [0.48809264]])"
      ]
     },
     "execution_count": 6,
     "metadata": {},
     "output_type": "execute_result"
    }
   ],
   "source": [
    "# Normalize the dataset (0,1): scale the dataset to be from 0 to 1: \n",
    "\n",
    "scaler = MinMaxScaler(feature_range = (0,1))\n",
    "scaled_training_set = scaler.fit_transform(training_set)\n",
    "scaled_training_set"
   ]
  },
  {
   "cell_type": "code",
   "execution_count": 7,
   "metadata": {},
   "outputs": [],
   "source": [
    "# Create X_train and y_train data structure\n",
    "\n",
    "X_train = []\n",
    "y_train = []\n",
    "for i in range(60,1354):\n",
    "    X_train.append(scaled_training_set[i-60:i,0])\n",
    "    y_train.append(scaled_training_set[i,0])\n",
    "X_train = np.array(X_train)\n",
    "y_train = np.array(y_train)\n"
   ]
  },
  {
   "cell_type": "code",
   "execution_count": 8,
   "metadata": {},
   "outputs": [
    {
     "name": "stdout",
     "output_type": "stream",
     "text": [
      "[[0.62675278 0.59804143 0.61584689 ... 0.58602272 0.5886936  0.62029828]\n",
      " [0.59804143 0.61584689 0.62074341 ... 0.5886936  0.62029828 0.6214111 ]\n",
      " [0.61584689 0.62074341 0.61428893 ... 0.62029828 0.6214111  0.61339863]\n",
      " ...\n",
      " [0.37257958 0.38949482 0.38771423 ... 0.5613176  0.578678   0.56754958]\n",
      " [0.38949482 0.38771423 0.40774544 ... 0.578678   0.56754958 0.57934568]\n",
      " [0.38771423 0.40774544 0.40529716 ... 0.56754958 0.57934568 0.5804585 ]]\n"
     ]
    }
   ],
   "source": [
    "print(X_train)"
   ]
  },
  {
   "cell_type": "code",
   "execution_count": 9,
   "metadata": {},
   "outputs": [
    {
     "name": "stdout",
     "output_type": "stream",
     "text": [
      "(1294, 60)\n",
      "(1294,)\n"
     ]
    }
   ],
   "source": [
    "print(X_train.shape)\n",
    "print(y_train.shape)"
   ]
  },
  {
   "cell_type": "code",
   "execution_count": 10,
   "metadata": {},
   "outputs": [
    {
     "data": {
      "text/plain": [
       "(1294, 60, 1)"
      ]
     },
     "execution_count": 10,
     "metadata": {},
     "output_type": "execute_result"
    }
   ],
   "source": [
    "# Reshape the data\n",
    "\n",
    "X_train = np.reshape(X_train,(X_train.shape[0],X_train.shape[1],1))\n",
    "X_train.shape"
   ]
  },
  {
   "cell_type": "code",
   "execution_count": 11,
   "metadata": {},
   "outputs": [],
   "source": [
    "# by Importing the Crucial Libraries \n",
    "\n",
    "from keras.models import Sequential\n",
    "from keras.layers import Dense, LSTM\n",
    "from keras.layers import Dropout"
   ]
  },
  {
   "cell_type": "code",
   "execution_count": 12,
   "metadata": {},
   "outputs": [],
   "source": [
    "# Building the Model by Adding Different Layers to LSTM\n",
    "\n",
    "regressor = Sequential()\n",
    "\n",
    "regressor.add(LSTM(units = 32, return_sequences=True, input_shape = (X_train.shape[1],1), activation = \"relu\"))\n",
    "regressor.add(Dropout(0.2))\n",
    "\n",
    "regressor.add(LSTM(units=32, return_sequences=True))\n",
    "regressor.add(Dropout(0.2))\n",
    "\n",
    "regressor.add(LSTM(units=32, return_sequences=True))\n",
    "regressor.add(Dropout(0.2))\n",
    "\n",
    "regressor.add(LSTM(units=32))\n",
    "regressor.add(Dropout(0.2))\n",
    "\n",
    "regressor.add(Dense(units=1))\n"
   ]
  },
  {
   "cell_type": "code",
   "execution_count": 13,
   "metadata": {},
   "outputs": [
    {
     "name": "stdout",
     "output_type": "stream",
     "text": [
      "Epoch 1/50\n",
      "162/162 [==============================] - 8s 29ms/step - loss: 0.0327\n",
      "Epoch 2/50\n",
      "162/162 [==============================] - 5s 29ms/step - loss: 0.0329\n",
      "Epoch 3/50\n",
      "162/162 [==============================] - 5s 29ms/step - loss: 0.0342\n",
      "Epoch 4/50\n",
      "162/162 [==============================] - 5s 29ms/step - loss: 0.0344\n",
      "Epoch 5/50\n",
      "162/162 [==============================] - 5s 29ms/step - loss: 0.0356\n",
      "Epoch 6/50\n",
      "162/162 [==============================] - 5s 29ms/step - loss: 0.0242\n",
      "Epoch 7/50\n",
      "162/162 [==============================] - 5s 30ms/step - loss: 0.0219\n",
      "Epoch 8/50\n",
      "162/162 [==============================] - 5s 30ms/step - loss: 0.0221\n",
      "Epoch 9/50\n",
      "162/162 [==============================] - 5s 29ms/step - loss: 0.0151\n",
      "Epoch 10/50\n",
      "162/162 [==============================] - 5s 29ms/step - loss: 0.0139\n",
      "Epoch 11/50\n",
      "162/162 [==============================] - 5s 30ms/step - loss: 0.0120\n",
      "Epoch 12/50\n",
      "162/162 [==============================] - 5s 30ms/step - loss: 0.0110\n",
      "Epoch 13/50\n",
      "162/162 [==============================] - 5s 30ms/step - loss: 0.0097\n",
      "Epoch 14/50\n",
      "162/162 [==============================] - 5s 30ms/step - loss: 0.0095\n",
      "Epoch 15/50\n",
      "162/162 [==============================] - 5s 30ms/step - loss: 0.0097\n",
      "Epoch 16/50\n",
      "162/162 [==============================] - 5s 30ms/step - loss: 0.0088\n",
      "Epoch 17/50\n",
      "162/162 [==============================] - 5s 30ms/step - loss: 0.0076\n",
      "Epoch 18/50\n",
      "162/162 [==============================] - 5s 30ms/step - loss: 0.0079\n",
      "Epoch 19/50\n",
      "162/162 [==============================] - 5s 30ms/step - loss: 0.0076\n",
      "Epoch 20/50\n",
      "162/162 [==============================] - 5s 30ms/step - loss: 0.0070\n",
      "Epoch 21/50\n",
      "162/162 [==============================] - 5s 30ms/step - loss: 0.0074\n",
      "Epoch 22/50\n",
      "162/162 [==============================] - 5s 30ms/step - loss: 0.0075\n",
      "Epoch 23/50\n",
      "162/162 [==============================] - 5s 30ms/step - loss: 0.0070\n",
      "Epoch 24/50\n",
      "162/162 [==============================] - 5s 30ms/step - loss: 0.0072\n",
      "Epoch 25/50\n",
      "162/162 [==============================] - 5s 30ms/step - loss: 0.0073\n",
      "Epoch 26/50\n",
      "162/162 [==============================] - 5s 30ms/step - loss: 0.0068\n",
      "Epoch 27/50\n",
      "162/162 [==============================] - 5s 30ms/step - loss: 0.0057\n",
      "Epoch 28/50\n",
      "162/162 [==============================] - 5s 30ms/step - loss: 0.0063\n",
      "Epoch 29/50\n",
      "162/162 [==============================] - 5s 30ms/step - loss: 0.0059\n",
      "Epoch 30/50\n",
      "162/162 [==============================] - 5s 30ms/step - loss: 0.0056\n",
      "Epoch 31/50\n",
      "162/162 [==============================] - 5s 30ms/step - loss: 0.0058\n",
      "Epoch 32/50\n",
      "162/162 [==============================] - 5s 30ms/step - loss: 0.0062\n",
      "Epoch 33/50\n",
      "162/162 [==============================] - 5s 30ms/step - loss: 0.0057\n",
      "Epoch 34/50\n",
      "162/162 [==============================] - 5s 30ms/step - loss: 0.0055\n",
      "Epoch 35/50\n",
      "162/162 [==============================] - 5s 30ms/step - loss: 0.0054\n",
      "Epoch 36/50\n",
      "162/162 [==============================] - 5s 30ms/step - loss: 0.0054\n",
      "Epoch 37/50\n",
      "162/162 [==============================] - 5s 31ms/step - loss: 0.0055\n",
      "Epoch 38/50\n",
      "162/162 [==============================] - 5s 30ms/step - loss: 0.0053\n",
      "Epoch 39/50\n",
      "162/162 [==============================] - 5s 30ms/step - loss: 0.0052\n",
      "Epoch 40/50\n",
      "162/162 [==============================] - 5s 30ms/step - loss: 0.0052\n",
      "Epoch 41/50\n",
      "162/162 [==============================] - 5s 30ms/step - loss: 0.0052\n",
      "Epoch 42/50\n",
      "162/162 [==============================] - 5s 30ms/step - loss: 0.0050\n",
      "Epoch 43/50\n",
      "162/162 [==============================] - 5s 30ms/step - loss: 0.0050\n",
      "Epoch 44/50\n",
      "162/162 [==============================] - 5s 30ms/step - loss: 0.0051\n",
      "Epoch 45/50\n",
      "162/162 [==============================] - 5s 30ms/step - loss: 0.0046\n",
      "Epoch 46/50\n",
      "162/162 [==============================] - 5s 30ms/step - loss: 0.0052\n",
      "Epoch 47/50\n",
      "162/162 [==============================] - 5s 30ms/step - loss: 0.0052\n",
      "Epoch 48/50\n",
      "162/162 [==============================] - 5s 30ms/step - loss: 0.0050\n",
      "Epoch 49/50\n",
      "162/162 [==============================] - 5s 30ms/step - loss: 0.0051\n",
      "Epoch 50/50\n",
      "162/162 [==============================] - 5s 30ms/step - loss: 0.0048\n"
     ]
    },
    {
     "data": {
      "text/plain": [
       "<keras.callbacks.History at 0x178ffaf4eb0>"
      ]
     },
     "execution_count": 13,
     "metadata": {},
     "output_type": "execute_result"
    }
   ],
   "source": [
    "# Fit the Model\n",
    "\n",
    "regressor.compile(optimizer='adam', loss = 'mean_squared_error')\n",
    "regressor.fit(X_train, y_train, epochs=50, batch_size=8, verbose=1, shuffle=False)"
   ]
  },
  {
   "cell_type": "code",
   "execution_count": 14,
   "metadata": {},
   "outputs": [
    {
     "data": {
      "text/html": [
       "<div>\n",
       "<style scoped>\n",
       "    .dataframe tbody tr th:only-of-type {\n",
       "        vertical-align: middle;\n",
       "    }\n",
       "\n",
       "    .dataframe tbody tr th {\n",
       "        vertical-align: top;\n",
       "    }\n",
       "\n",
       "    .dataframe thead th {\n",
       "        text-align: right;\n",
       "    }\n",
       "</style>\n",
       "<table border=\"1\" class=\"dataframe\">\n",
       "  <thead>\n",
       "    <tr style=\"text-align: right;\">\n",
       "      <th></th>\n",
       "      <th>Open</th>\n",
       "      <th>High</th>\n",
       "      <th>Low</th>\n",
       "      <th>Close</th>\n",
       "      <th>Adj Close</th>\n",
       "      <th>Volume</th>\n",
       "    </tr>\n",
       "    <tr>\n",
       "      <th>Date</th>\n",
       "      <th></th>\n",
       "      <th></th>\n",
       "      <th></th>\n",
       "      <th></th>\n",
       "      <th></th>\n",
       "      <th></th>\n",
       "    </tr>\n",
       "  </thead>\n",
       "  <tbody>\n",
       "    <tr>\n",
       "      <th>2016-01-19</th>\n",
       "      <td>49.250000</td>\n",
       "      <td>49.540001</td>\n",
       "      <td>47.990002</td>\n",
       "      <td>48.209999</td>\n",
       "      <td>39.842239</td>\n",
       "      <td>29918500</td>\n",
       "    </tr>\n",
       "    <tr>\n",
       "      <th>2016-01-20</th>\n",
       "      <td>47.279999</td>\n",
       "      <td>48.250000</td>\n",
       "      <td>46.880001</td>\n",
       "      <td>47.869999</td>\n",
       "      <td>39.561249</td>\n",
       "      <td>40241100</td>\n",
       "    </tr>\n",
       "    <tr>\n",
       "      <th>2016-01-21</th>\n",
       "      <td>48.029999</td>\n",
       "      <td>49.049999</td>\n",
       "      <td>47.910000</td>\n",
       "      <td>48.009998</td>\n",
       "      <td>39.676952</td>\n",
       "      <td>24272900</td>\n",
       "    </tr>\n",
       "    <tr>\n",
       "      <th>2016-01-22</th>\n",
       "      <td>49.029999</td>\n",
       "      <td>49.270000</td>\n",
       "      <td>48.560001</td>\n",
       "      <td>49.020000</td>\n",
       "      <td>40.511646</td>\n",
       "      <td>18298700</td>\n",
       "    </tr>\n",
       "    <tr>\n",
       "      <th>2016-01-25</th>\n",
       "      <td>48.910000</td>\n",
       "      <td>48.980000</td>\n",
       "      <td>47.619999</td>\n",
       "      <td>47.660000</td>\n",
       "      <td>39.387703</td>\n",
       "      <td>23440800</td>\n",
       "    </tr>\n",
       "    <tr>\n",
       "      <th>...</th>\n",
       "      <td>...</td>\n",
       "      <td>...</td>\n",
       "      <td>...</td>\n",
       "      <td>...</td>\n",
       "      <td>...</td>\n",
       "      <td>...</td>\n",
       "    </tr>\n",
       "    <tr>\n",
       "      <th>2022-05-12</th>\n",
       "      <td>42.230000</td>\n",
       "      <td>42.410000</td>\n",
       "      <td>40.919998</td>\n",
       "      <td>41.810001</td>\n",
       "      <td>41.810001</td>\n",
       "      <td>30171700</td>\n",
       "    </tr>\n",
       "    <tr>\n",
       "      <th>2022-05-13</th>\n",
       "      <td>42.450001</td>\n",
       "      <td>43.189999</td>\n",
       "      <td>42.279999</td>\n",
       "      <td>42.639999</td>\n",
       "      <td>42.639999</td>\n",
       "      <td>21251600</td>\n",
       "    </tr>\n",
       "    <tr>\n",
       "      <th>2022-05-16</th>\n",
       "      <td>42.400002</td>\n",
       "      <td>42.669998</td>\n",
       "      <td>41.700001</td>\n",
       "      <td>42.209999</td>\n",
       "      <td>42.209999</td>\n",
       "      <td>16837400</td>\n",
       "    </tr>\n",
       "    <tr>\n",
       "      <th>2022-05-17</th>\n",
       "      <td>42.990002</td>\n",
       "      <td>43.820000</td>\n",
       "      <td>42.959999</td>\n",
       "      <td>43.709999</td>\n",
       "      <td>43.709999</td>\n",
       "      <td>23340500</td>\n",
       "    </tr>\n",
       "    <tr>\n",
       "      <th>2022-05-18</th>\n",
       "      <td>43.290001</td>\n",
       "      <td>43.310001</td>\n",
       "      <td>41.889999</td>\n",
       "      <td>42.110001</td>\n",
       "      <td>42.110001</td>\n",
       "      <td>27351300</td>\n",
       "    </tr>\n",
       "  </tbody>\n",
       "</table>\n",
       "<p>1596 rows × 6 columns</p>\n",
       "</div>"
      ],
      "text/plain": [
       "                 Open       High        Low      Close  Adj Close    Volume\n",
       "Date                                                                       \n",
       "2016-01-19  49.250000  49.540001  47.990002  48.209999  39.842239  29918500\n",
       "2016-01-20  47.279999  48.250000  46.880001  47.869999  39.561249  40241100\n",
       "2016-01-21  48.029999  49.049999  47.910000  48.009998  39.676952  24272900\n",
       "2016-01-22  49.029999  49.270000  48.560001  49.020000  40.511646  18298700\n",
       "2016-01-25  48.910000  48.980000  47.619999  47.660000  39.387703  23440800\n",
       "...               ...        ...        ...        ...        ...       ...\n",
       "2022-05-12  42.230000  42.410000  40.919998  41.810001  41.810001  30171700\n",
       "2022-05-13  42.450001  43.189999  42.279999  42.639999  42.639999  21251600\n",
       "2022-05-16  42.400002  42.669998  41.700001  42.209999  42.209999  16837400\n",
       "2022-05-17  42.990002  43.820000  42.959999  43.709999  43.709999  23340500\n",
       "2022-05-18  43.290001  43.310001  41.889999  42.110001  42.110001  27351300\n",
       "\n",
       "[1596 rows x 6 columns]"
      ]
     },
     "execution_count": 14,
     "metadata": {},
     "output_type": "execute_result"
    }
   ],
   "source": [
    "# Use the current close price as sample dataset for prediction\n",
    "\n",
    "data_test = data_train\n",
    "data_test\n"
   ]
  },
  {
   "cell_type": "code",
   "execution_count": 15,
   "metadata": {},
   "outputs": [],
   "source": [
    "# prepare the inputs for the prediction model\n",
    "\n",
    "dataset_total = pd.concat((data_train['Open'], data_train['Close']), axis = 0)\n",
    "inputs = dataset_total[len(dataset_total)-len(data_train)-60:].values\n",
    "\n",
    "inputs = inputs.reshape(-1,1)\n",
    "inputs = scaler.transform(inputs)"
   ]
  },
  {
   "cell_type": "code",
   "execution_count": 16,
   "metadata": {},
   "outputs": [],
   "source": [
    "X_test = []\n",
    "for x in range(60,80):\n",
    "    X_test.append(inputs[x-60:x,0])\n",
    "X_test = np.array(X_test)\n",
    "X_test=np.reshape(X_test,(X_test.shape[0], X_test.shape[1],1))"
   ]
  },
  {
   "cell_type": "code",
   "execution_count": 17,
   "metadata": {},
   "outputs": [
    {
     "data": {
      "text/plain": [
       "array([[0.4750873 ],\n",
       "       [0.4952653 ],\n",
       "       [0.5288987 ],\n",
       "       [0.5639361 ],\n",
       "       [0.5958638 ],\n",
       "       [0.6170213 ],\n",
       "       [0.6301138 ],\n",
       "       [0.6373923 ],\n",
       "       [0.6411215 ],\n",
       "       [0.64538574],\n",
       "       [0.6490073 ],\n",
       "       [0.6487657 ],\n",
       "       [0.64217746],\n",
       "       [0.63255644],\n",
       "       [0.620929  ],\n",
       "       [0.60564595],\n",
       "       [0.58852   ],\n",
       "       [0.57117546],\n",
       "       [0.5529579 ],\n",
       "       [0.5427013 ]], dtype=float32)"
      ]
     },
     "execution_count": 17,
     "metadata": {},
     "output_type": "execute_result"
    }
   ],
   "source": [
    "predicted_prices = regressor.predict(X_test)\n",
    "predicted_prices"
   ]
  },
  {
   "cell_type": "code",
   "execution_count": 18,
   "metadata": {},
   "outputs": [
    {
     "data": {
      "text/plain": [
       "array([[42.725674],\n",
       "       [43.632267],\n",
       "       [45.143417],\n",
       "       [46.717648],\n",
       "       [48.15216 ],\n",
       "       [49.102764],\n",
       "       [49.691013],\n",
       "       [50.018032],\n",
       "       [50.18559 ],\n",
       "       [50.37718 ],\n",
       "       [50.539898],\n",
       "       [50.52904 ],\n",
       "       [50.233032],\n",
       "       [49.80076 ],\n",
       "       [49.27834 ],\n",
       "       [48.591675],\n",
       "       [47.822205],\n",
       "       [47.04291 ],\n",
       "       [46.224396],\n",
       "       [45.76357 ]], dtype=float32)"
      ]
     },
     "execution_count": 18,
     "metadata": {},
     "output_type": "execute_result"
    }
   ],
   "source": [
    "# List prices in the next 20 days: \n",
    "predicted_prices= scaler.inverse_transform(predicted_prices)\n",
    "predicted_prices"
   ]
  },
  {
   "cell_type": "code",
   "execution_count": 19,
   "metadata": {},
   "outputs": [
    {
     "data": {
      "text/plain": [
       "20"
      ]
     },
     "execution_count": 19,
     "metadata": {},
     "output_type": "execute_result"
    }
   ],
   "source": [
    "len(predicted_prices)\n"
   ]
  },
  {
   "cell_type": "code",
   "execution_count": 20,
   "metadata": {},
   "outputs": [
    {
     "data": {
      "text/html": [
       "<div>\n",
       "<style scoped>\n",
       "    .dataframe tbody tr th:only-of-type {\n",
       "        vertical-align: middle;\n",
       "    }\n",
       "\n",
       "    .dataframe tbody tr th {\n",
       "        vertical-align: top;\n",
       "    }\n",
       "\n",
       "    .dataframe thead th {\n",
       "        text-align: right;\n",
       "    }\n",
       "</style>\n",
       "<table border=\"1\" class=\"dataframe\">\n",
       "  <thead>\n",
       "    <tr style=\"text-align: right;\">\n",
       "      <th></th>\n",
       "      <th>pred_close</th>\n",
       "    </tr>\n",
       "    <tr>\n",
       "      <th>Date</th>\n",
       "      <th></th>\n",
       "    </tr>\n",
       "  </thead>\n",
       "  <tbody>\n",
       "    <tr>\n",
       "      <th>2022-05-19</th>\n",
       "      <td>42.725674</td>\n",
       "    </tr>\n",
       "    <tr>\n",
       "      <th>2022-05-20</th>\n",
       "      <td>43.632267</td>\n",
       "    </tr>\n",
       "    <tr>\n",
       "      <th>2022-05-21</th>\n",
       "      <td>45.143417</td>\n",
       "    </tr>\n",
       "    <tr>\n",
       "      <th>2022-05-22</th>\n",
       "      <td>46.717648</td>\n",
       "    </tr>\n",
       "    <tr>\n",
       "      <th>2022-05-23</th>\n",
       "      <td>48.152161</td>\n",
       "    </tr>\n",
       "    <tr>\n",
       "      <th>2022-05-24</th>\n",
       "      <td>49.102764</td>\n",
       "    </tr>\n",
       "    <tr>\n",
       "      <th>2022-05-25</th>\n",
       "      <td>49.691013</td>\n",
       "    </tr>\n",
       "    <tr>\n",
       "      <th>2022-05-26</th>\n",
       "      <td>50.018032</td>\n",
       "    </tr>\n",
       "    <tr>\n",
       "      <th>2022-05-27</th>\n",
       "      <td>50.185589</td>\n",
       "    </tr>\n",
       "    <tr>\n",
       "      <th>2022-05-28</th>\n",
       "      <td>50.377178</td>\n",
       "    </tr>\n",
       "    <tr>\n",
       "      <th>2022-05-29</th>\n",
       "      <td>50.539898</td>\n",
       "    </tr>\n",
       "    <tr>\n",
       "      <th>2022-05-30</th>\n",
       "      <td>50.529041</td>\n",
       "    </tr>\n",
       "    <tr>\n",
       "      <th>2022-05-31</th>\n",
       "      <td>50.233032</td>\n",
       "    </tr>\n",
       "    <tr>\n",
       "      <th>2022-06-01</th>\n",
       "      <td>49.800758</td>\n",
       "    </tr>\n",
       "    <tr>\n",
       "      <th>2022-06-02</th>\n",
       "      <td>49.278339</td>\n",
       "    </tr>\n",
       "    <tr>\n",
       "      <th>2022-06-03</th>\n",
       "      <td>48.591675</td>\n",
       "    </tr>\n",
       "    <tr>\n",
       "      <th>2022-06-04</th>\n",
       "      <td>47.822205</td>\n",
       "    </tr>\n",
       "    <tr>\n",
       "      <th>2022-06-05</th>\n",
       "      <td>47.042912</td>\n",
       "    </tr>\n",
       "    <tr>\n",
       "      <th>2022-06-06</th>\n",
       "      <td>46.224396</td>\n",
       "    </tr>\n",
       "    <tr>\n",
       "      <th>2022-06-07</th>\n",
       "      <td>45.763569</td>\n",
       "    </tr>\n",
       "  </tbody>\n",
       "</table>\n",
       "</div>"
      ],
      "text/plain": [
       "            pred_close\n",
       "Date                  \n",
       "2022-05-19   42.725674\n",
       "2022-05-20   43.632267\n",
       "2022-05-21   45.143417\n",
       "2022-05-22   46.717648\n",
       "2022-05-23   48.152161\n",
       "2022-05-24   49.102764\n",
       "2022-05-25   49.691013\n",
       "2022-05-26   50.018032\n",
       "2022-05-27   50.185589\n",
       "2022-05-28   50.377178\n",
       "2022-05-29   50.539898\n",
       "2022-05-30   50.529041\n",
       "2022-05-31   50.233032\n",
       "2022-06-01   49.800758\n",
       "2022-06-02   49.278339\n",
       "2022-06-03   48.591675\n",
       "2022-06-04   47.822205\n",
       "2022-06-05   47.042912\n",
       "2022-06-06   46.224396\n",
       "2022-06-07   45.763569"
      ]
     },
     "execution_count": 20,
     "metadata": {},
     "output_type": "execute_result"
    }
   ],
   "source": [
    "# df in future 20days\n",
    "\n",
    "pred_df=pd.DataFrame({'Date': ['2022-05-19','2022-05-20','2022-05-21','2022-05-22',\n",
    "                        '2022-05-23','2022-05-24','2022-05-25','2022-05-26',\n",
    "                        '2022-05-27','2022-05-28','2022-05-29','2022-05-30',\n",
    "                        '2022-05-31','2022-06-01','2022-06-02','2022-06-03',\n",
    "                        '2022-06-04','2022-06-05','2022-06-06','2022-06-07'\n",
    "                        ]\n",
    "                     }\n",
    ")\n",
    "pred_df['pred_close']=predicted_prices\n",
    "pred_df.set_index('Date', inplace=True)\n",
    "pred_df.head(21)"
   ]
  },
  {
   "cell_type": "code",
   "execution_count": 21,
   "metadata": {},
   "outputs": [
    {
     "data": {
      "text/plain": [
       "Date\n",
       "2022-04-21    49.490002\n",
       "2022-04-22    47.919998\n",
       "2022-04-25    45.970001\n",
       "2022-04-26    46.000000\n",
       "2022-04-27    45.189999\n",
       "2022-04-28    45.310001\n",
       "2022-04-29    45.400002\n",
       "2022-05-02    44.040001\n",
       "2022-05-03    44.639999\n",
       "2022-05-04    46.130001\n",
       "2022-05-05    45.060001\n",
       "2022-05-06    44.880001\n",
       "2022-05-09    44.540001\n",
       "2022-05-10    44.709999\n",
       "2022-05-11    44.509998\n",
       "2022-05-12    42.410000\n",
       "2022-05-13    43.189999\n",
       "2022-05-16    42.669998\n",
       "2022-05-17    43.820000\n",
       "2022-05-18    43.310001\n",
       "Name: High, dtype: float64"
      ]
     },
     "execution_count": 21,
     "metadata": {},
     "output_type": "execute_result"
    }
   ],
   "source": [
    "data_train.iloc[1576:1596,1]"
   ]
  },
  {
   "cell_type": "code",
   "execution_count": 22,
   "metadata": {},
   "outputs": [
    {
     "data": {
      "text/plain": [
       "1596"
      ]
     },
     "execution_count": 22,
     "metadata": {},
     "output_type": "execute_result"
    }
   ],
   "source": [
    "len(data_train.iloc[:,1])"
   ]
  },
  {
   "cell_type": "code",
   "execution_count": 23,
   "metadata": {},
   "outputs": [
    {
     "data": {
      "image/png": "[encoded data removed]",
      "text/plain": [
       "<Figure size 432x288 with 1 Axes>"
      ]
     },
     "metadata": {
      "needs_background": "light"
     },
     "output_type": "display_data"
    },
    {
     "data": {
      "text/plain": [
       "<Figure size 2880x1440 with 0 Axes>"
      ]
     },
     "metadata": {},
     "output_type": "display_data"
    }
   ],
   "source": [
    "plt.plot(data_train.iloc[1576:1596,1])\n",
    "plt.xticks(rotation=45)\n",
    "plt.figure(figsize = (40,20))\n",
    "plt.tight_layout()"
   ]
  },
  {
   "cell_type": "code",
   "execution_count": 24,
   "metadata": {},
   "outputs": [
    {
     "data": {
      "image/png": "[encoded data removed]",
      "text/plain": [
       "<Figure size 432x288 with 1 Axes>"
      ]
     },
     "metadata": {
      "needs_background": "light"
     },
     "output_type": "display_data"
    }
   ],
   "source": [
    "plt.plot(pred_df['pred_close'])\n",
    "plt.xticks(rotation = 45)\n",
    "plt.tight_layout()"
   ]
  },
  {
   "cell_type": "code",
   "execution_count": 25,
   "metadata": {},
   "outputs": [
    {
     "data": {
      "text/html": [
       "<div>\n",
       "<style scoped>\n",
       "    .dataframe tbody tr th:only-of-type {\n",
       "        vertical-align: middle;\n",
       "    }\n",
       "\n",
       "    .dataframe tbody tr th {\n",
       "        vertical-align: top;\n",
       "    }\n",
       "\n",
       "    .dataframe thead th {\n",
       "        text-align: right;\n",
       "    }\n",
       "</style>\n",
       "<table border=\"1\" class=\"dataframe\">\n",
       "  <thead>\n",
       "    <tr style=\"text-align: right;\">\n",
       "      <th></th>\n",
       "      <th>pred_close</th>\n",
       "    </tr>\n",
       "    <tr>\n",
       "      <th>Date</th>\n",
       "      <th></th>\n",
       "    </tr>\n",
       "  </thead>\n",
       "  <tbody>\n",
       "    <tr>\n",
       "      <th>2022-05-19</th>\n",
       "      <td>42.725674</td>\n",
       "    </tr>\n",
       "    <tr>\n",
       "      <th>2022-05-20</th>\n",
       "      <td>43.632267</td>\n",
       "    </tr>\n",
       "    <tr>\n",
       "      <th>2022-05-21</th>\n",
       "      <td>45.143417</td>\n",
       "    </tr>\n",
       "    <tr>\n",
       "      <th>2022-05-22</th>\n",
       "      <td>46.717648</td>\n",
       "    </tr>\n",
       "    <tr>\n",
       "      <th>2022-05-23</th>\n",
       "      <td>48.152161</td>\n",
       "    </tr>\n",
       "  </tbody>\n",
       "</table>\n",
       "</div>"
      ],
      "text/plain": [
       "            pred_close\n",
       "Date                  \n",
       "2022-05-19   42.725674\n",
       "2022-05-20   43.632267\n",
       "2022-05-21   45.143417\n",
       "2022-05-22   46.717648\n",
       "2022-05-23   48.152161"
      ]
     },
     "execution_count": 25,
     "metadata": {},
     "output_type": "execute_result"
    }
   ],
   "source": [
    "pred_df.head()"
   ]
  }
 ],
 "metadata": {
  "interpreter": {
   "hash": "257fe52e9f2c2b945b05e3f0194d62ff27988f684df8175d6ce369c19ab4eae5"
  },
  "kernelspec": {
   "display_name": "Python 3.8.8 ('base')",
   "language": "python",
   "name": "python3"
  },
  "language_info": {
   "codemirror_mode": {
    "name": "ipython",
    "version": 3
   },
   "file_extension": ".py",
   "mimetype": "text/x-python",
   "name": "python",
   "nbconvert_exporter": "python",
   "pygments_lexer": "ipython3",
   "version": "3.8.8"
  },
  "orig_nbformat": 4
 },
 "nbformat": 4,
 "nbformat_minor": 2
}
